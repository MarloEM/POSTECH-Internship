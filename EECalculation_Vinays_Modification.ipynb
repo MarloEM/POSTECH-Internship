{
  "cells": [
    {
      "cell_type": "markdown",
      "metadata": {},
      "source": [
        "# EE Calculation from Scratch\n",
        "\n",
        "Here's another (correct) way to calculate the EE,\n",
        "\n",
        "First we will make a system where we describe the random variable states from a value of $[0, 1]$\n",
        "\n",
        "$$\n",
        "\\ket{\\psi} = \\begin{pmatrix} 0.38 \\\\ 0.45 \\\\ 0.56 \\\\ \\vdots \\end{pmatrix}\n",
        "$$\n",
        "\n",
        "where the length of the column matrix is $N = 2^{n}$, with $n$ as the number of qubits we want to study and calculate the entanglement entropy.\n",
        "Now that we have a random statevector, we would like to re-write it as a combination of its basis, \n",
        "\n",
        "$$\n",
        "\\ket{\\psi} = \\begin{pmatrix} 0.38 \\\\ 0.45 \\\\ 0.56 \\\\ \\vdots \\end{pmatrix} = 0.38 \\begin{pmatrix} 1 \\\\ 0 \\\\ 0 \\\\ \\vdots \\end{pmatrix} + 0.45 \\begin{pmatrix} 0 \\\\ 1 \\\\ 0 \\\\ \\vdots \\end{pmatrix} + 0.56 \\begin{pmatrix} 0 \\\\ 0 \\\\ 1 \\\\ \\vdots \\end{pmatrix} + \\cdots.\n",
        "$$\n",
        "\n",
        "We would need to normalize the statevector by taking $\\rho = \\sum_i a_i a^*_i\\ket{i}\\bra{i} = 1$.\n",
        "Lets realize this into python,"
      ]
    },
    {
      "cell_type": "code",
      "execution_count": 3,
      "metadata": {
        "trusted": true
      },
      "outputs": [],
      "source": [
        "def psi_initial_random_state(nQubits = 8, min_val = 0, max_val = 1):\n",
        "    \"\"\"\n",
        "    Generate a row vector of random zeros and ones, and then each of the components are multiplied by a constant taken from a Gaussian ensemble\n",
        "    for each of the components of the statevector.\n",
        "\n",
        "    Parameters:\n",
        "    nQubits (int): The length of the vector which corresponds to how many qubits.\n",
        "\n",
        "    Returns:\n",
        "    numpy.ndarray: A row vector of random numbers from [0, 1].\n",
        "    \"\"\"\n",
        "    if not isinstance(nQubits, int) or nQubits <= 0:\n",
        "        raise ValueError(\"The number of qubits must be a positive integer.\")\n",
        "    gaussian_ensemble = np.random.uniform(min_val, max_val, size = (nQubits, 1))\n",
        "    #print(f\"The gaussian ensemble for each of the components: \\n\", gaussian_ensemble)\n",
        "    return gaussian_ensemble "
      ]
    },
    {
      "cell_type": "code",
      "execution_count": null,
      "metadata": {},
      "outputs": [
        {
          "data": {
            "text/plain": [
              "array([[0.26709936],\n",
              "       [0.39991554],\n",
              "       [0.82016734],\n",
              "       [0.52639184]])"
            ]
          },
          "metadata": {},
          "output_type": "display_data"
        }
      ],
      "source": [
        "test_psi_initial_random_state = psi_initial_random_state(4)\n",
        "test_psi_initial_random_state"
      ]
    },
    {
      "cell_type": "markdown",
      "metadata": {},
      "source": [
        "now that we have a random state $\\ket{\\psi}$, we want to normalize the state so that $\\rho = \\sum_{ij} a_i a^*_j \\ket{i}\\bra{j} =1 $."
      ]
    },
    {
      "cell_type": "code",
      "execution_count": 4,
      "metadata": {
        "trusted": true
      },
      "outputs": [],
      "source": [
        "def normalize(matrix):\n",
        "    norm = np.linalg.norm(matrix)\n",
        "    matrix = matrix/norm  # normalized matrix\n",
        "    return matrix\n",
        "    return norm_arr"
      ]
    },
    {
      "cell_type": "code",
      "execution_count": 6,
      "metadata": {
        "trusted": true
      },
      "outputs": [
        {
          "ename": "<class 'NameError'>",
          "evalue": "name 'test_psi_initial_random_state' is not defined",
          "output_type": "error",
          "traceback": [
            "\u001b[0;31m---------------------------------------------------------------------------\u001b[0m",
            "\u001b[0;31mNameError\u001b[0m                                 Traceback (most recent call last)",
            "Cell \u001b[0;32mIn[6], line 1\u001b[0m\n\u001b[0;32m----> 1\u001b[0m normalized_test_psi_initial_random_state \u001b[38;5;241m=\u001b[39m normalize(\u001b[43mtest_psi_initial_random_state\u001b[49m)\n\u001b[1;32m      2\u001b[0m \u001b[38;5;28mprint\u001b[39m(\u001b[38;5;124mf\u001b[39m\u001b[38;5;124m\"\u001b[39m\u001b[38;5;124mHere\u001b[39m\u001b[38;5;124m'\u001b[39m\u001b[38;5;124ms the normalized random state :\u001b[39m\u001b[38;5;130;01m\\n\u001b[39;00m\u001b[38;5;124m\"\u001b[39m,normalized_test_psi_initial_random_state)\n\u001b[1;32m      3\u001b[0m Y \u001b[38;5;241m=\u001b[39m normalized_test_psi_initial_random_state\u001b[38;5;241m*\u001b[39mnormalized_test_psi_initial_random_state\n",
            "\u001b[0;31mNameError\u001b[0m: name 'test_psi_initial_random_state' is not defined"
          ]
        }
      ],
      "source": [
        "normalized_test_psi_initial_random_state = normalize(test_psi_initial_random_state)\n",
        "print(f\"Here's the normalized random state :\\n\",normalized_test_psi_initial_random_state)\n",
        "Y = normalized_test_psi_initial_random_state*normalized_test_psi_initial_random_state\n",
        "print(f\"and here's the sum of the normalized density matrix :\\n\",sum(Y))"
      ]
    },
    {
      "cell_type": "markdown",
      "metadata": {},
      "source": [
        "Okay, now that we have a normalized statevector, we can start to translate each of the components of the matrix into a binary number which corresponds to the state of the system.\n",
        "\n",
        "For example, for an nQubit column vector, we have the first component symbolized as `psi[0]` with a certain normalized constant of $a_{[0]}$, as in python, the first component have the index of 0. This would represent the following state,\n",
        "$$\n",
        "\\psi[0] \\rightarrow a_{[0]}\\ket{00000\\cdots 00},\n",
        "$$\n",
        "where the length of the ket is nQubits.\n",
        "\n",
        "and for $\\psi_{[1]}$, it would correspond a state of,\n",
        "$$\n",
        "\\psi[1] \\rightarrow a_{[1]}\\ket{00000\\cdots 01},\n",
        "$$\n",
        "and so on. Here it is clear that our system just use the index of the array and translate it into binary that will correspond into the actual quantum state.\n",
        "Before thinking about how to separate the system into 2 sub-system, lets translate it first."
      ]
    },
    {
      "cell_type": "markdown",
      "metadata": {},
      "source": [
        "From Vinay's explanation, the first step I want to do is to determine the size of subsystem A and B as $n_A$ and $n_B$ respectively.\n",
        "\n",
        "So for a system with a total of 4 qubits, I want to start from $n_A = 1$ and $n_B = 3$, where I would need to create a basis with the size of $2^{n_A}$ and $2^{n_B}$.\n"
      ]
    },
    {
      "cell_type": "code",
      "execution_count": 8,
      "metadata": {
        "trusted": true
      },
      "outputs": [],
      "source": [
        "import numpy as np\n",
        "n_A = 1\n",
        "n_B = 3"
      ]
    },
    {
      "cell_type": "markdown",
      "metadata": {},
      "source": [
        "Creating the basis"
      ]
    },
    {
      "cell_type": "code",
      "execution_count": 9,
      "metadata": {
        "trusted": true
      },
      "outputs": [
        {
          "name": "stdout",
          "output_type": "stream",
          "text": [
            "Basis for subsystem A :\n",
            " [[0.54496736]\n",
            " [0.32215501]]\n",
            "Basis for subsystem B :\n",
            " [[0.50744557]\n",
            " [0.80379004]\n",
            " [0.97060235]\n",
            " [0.85036099]\n",
            " [0.03134757]\n",
            " [0.99900947]\n",
            " [0.36095748]\n",
            " [0.91579099]]\n"
          ]
        }
      ],
      "source": [
        "basis_A = np.random.uniform(0, 1, (2**n_A, 1))\n",
        "print(f\"Basis for subsystem A :\\n\",basis_A)\n",
        "basis_B = np.random.uniform(0, 1, (2**n_B, 1))\n",
        "print(f\"Basis for subsystem B :\\n\",basis_B)"
      ]
    },
    {
      "cell_type": "code",
      "execution_count": 10,
      "metadata": {
        "trusted": true
      },
      "outputs": [
        {
          "name": "stdout",
          "output_type": "stream",
          "text": [
            "State of 'Psi' as kronecker product of basis A and B :\n",
            " [[0.27654127]\n",
            " [0.43803933]\n",
            " [0.5289466 ]\n",
            " [0.46341898]\n",
            " [0.0170834 ]\n",
            " [0.54442755]\n",
            " [0.19671004]\n",
            " [0.49907619]\n",
            " [0.16347613]\n",
            " [0.25894499]\n",
            " [0.31268441]\n",
            " [0.27394805]\n",
            " [0.01009878]\n",
            " [0.3218359 ]\n",
            " [0.11628426]\n",
            " [0.29502665]]\n"
          ]
        }
      ],
      "source": [
        "Psi_AB = np.kron(basis_A, basis_B)\n",
        "print(f\"State of 'Psi' as kronecker product of basis A and B :\\n\",\n",
        "      Psi_AB)"
      ]
    },
    {
      "cell_type": "code",
      "execution_count": 11,
      "metadata": {},
      "outputs": [
        {
          "data": {
            "text/plain": [
              "16"
            ]
          },
          "execution_count": 11,
          "metadata": {},
          "output_type": "execute_result"
        }
      ],
      "source": [
        "len(Psi_AB)"
      ]
    },
    {
      "cell_type": "markdown",
      "metadata": {},
      "source": [
        "Normalizing the column vector (State of $\\Psi$)"
      ]
    },
    {
      "cell_type": "code",
      "execution_count": 13,
      "metadata": {
        "trusted": true
      },
      "outputs": [
        {
          "name": "stdout",
          "output_type": "stream",
          "text": [
            "The normalized state of Psi :\n",
            " [[0.20508751]\n",
            " [0.32485709]\n",
            " [0.3922754 ]\n",
            " [0.34367905]\n",
            " [0.01266933]\n",
            " [0.40375633]\n",
            " [0.14588337]\n",
            " [0.37012302]\n",
            " [0.12123656]\n",
            " [0.19203781]\n",
            " [0.23189184]\n",
            " [0.20316433]\n",
            " [0.00748942]\n",
            " [0.23867874]\n",
            " [0.0862383 ]\n",
            " [0.21879656]]\n"
          ]
        }
      ],
      "source": [
        "norm = np.linalg.norm(Psi_AB)\n",
        "\n",
        "# Normalize the vector\n",
        "normalized_Psi_AB_test = Psi_AB / norm\n",
        "print(f\"The normalized state of Psi :\\n\", normalized_Psi_AB_test)"
      ]
    },
    {
      "cell_type": "code",
      "execution_count": null,
      "metadata": {
        "trusted": true
      },
      "outputs": [],
      "source": [
        "d#ef Psi_indexed(i, j):\n",
        " #   if isinstance(i, int) and i > 0 and i <= len(basis_A) and isinstance(j, int) and j > 0 and j <= len(basis_B):\n",
        " #       return normalized_Psi_AB[(i-1) * len(basis_B) + (j-1)]\n",
        " #   else:\n",
        " #       return ValueError(\"Indices are out of bounds or not integers.\")"
      ]
    },
    {
      "cell_type": "code",
      "execution_count": 24,
      "metadata": {},
      "outputs": [],
      "source": [
        "def Psi_indexed_v2(normalized_matrix, i, j):\n",
        "    if isinstance(i, int) and i > 0 and i <= 2**n_A and isinstance(j, int) and j > 0 and j <= 2**n_B:\n",
        "        return normalized_matrix[(i - 1) * 2**n_B + (j - 1)]\n",
        "    else:\n",
        "        return ValueError(\"Indices are out of bounds or not integers\")"
      ]
    },
    {
      "cell_type": "code",
      "execution_count": 40,
      "metadata": {},
      "outputs": [
        {
          "data": {
            "text/plain": [
              "array([0.12123656])"
            ]
          },
          "execution_count": 40,
          "metadata": {},
          "output_type": "execute_result"
        }
      ],
      "source": [
        "Psi_indexed_v2(normalized_Psi_AB_test, 2, 1)"
      ]
    },
    {
      "cell_type": "code",
      "execution_count": null,
      "metadata": {
        "trusted": true
      },
      "outputs": [],
      "source": [
        "#def Psi_indexed_conjugate(k, l):\n",
        "#    if isinstance(k, int) and k > 0 and k <= len(basis_A) and isinstance(l, int) and l > 0 and l <= len(basis_B):\n",
        "#        return np.conjugate(normalized_Psi_AB[(k-1) * len(basis_B) + (l-1)])    "
      ]
    },
    {
      "cell_type": "code",
      "execution_count": 22,
      "metadata": {},
      "outputs": [],
      "source": [
        "def Psi_indexed_conjugate_v2(normalized_matrix, k, l):\n",
        "    if isinstance(k, int) and k > 0 and k <= 2**n_A and isinstance(l, int) and l > 0 and l <= 2**n_B:\n",
        "        return np.conjugate(normalized_matrix[(k - 1) * 2**n_B + (l - 1)])\n",
        "    else:\n",
        "        return ValueError(\"Indices are out of bounds or not integers\")"
      ]
    },
    {
      "cell_type": "code",
      "execution_count": 23,
      "metadata": {},
      "outputs": [
        {
          "data": {
            "text/plain": [
              "array([0.20508751])"
            ]
          },
          "execution_count": 23,
          "metadata": {},
          "output_type": "execute_result"
        }
      ],
      "source": [
        "Psi_indexed_conjugate_v2(normalized_Psi_AB_test, k = 1, l = 1)"
      ]
    },
    {
      "cell_type": "code",
      "execution_count": null,
      "metadata": {
        "trusted": true
      },
      "outputs": [],
      "source": [
        "def Density_Matrix_Psi_AB(i, j, k, l):\n",
        "    # Summing over Psi(i,j) and Psi*(k, j), sum over J from 1 to the len(basis_B).\n",
        "    Density_Matrix_Psi_AB = Psi_indexed(i, j) * Psi_indexed_conjugate(k, l)\n",
        "    return Density_Matrix_Psi_AB[0]"
      ]
    },
    {
      "cell_type": "code",
      "execution_count": null,
      "metadata": {
        "trusted": true
      },
      "outputs": [],
      "source": [
        "def Partial_Trace_Subsystem_B(i, k):\n",
        "    result = 0\n",
        "    for j in range(len(basis_B)):\n",
        "        result += Density_Matrix_Psi_AB(i, (j+1), k, (j+1))\n",
        "    return result\n",
        "        "
      ]
    },
    {
      "cell_type": "code",
      "execution_count": null,
      "metadata": {
        "trusted": true
      },
      "outputs": [
        {
          "data": {
            "text/plain": [
              "range(1, 7)"
            ]
          },
          "execution_count": 3,
          "metadata": {},
          "output_type": "execute_result"
        }
      ],
      "source": [
        " range(1,8-1)"
      ]
    },
    {
      "cell_type": "code",
      "execution_count": null,
      "metadata": {
        "trusted": true
      },
      "outputs": [
        {
          "name": "stdout",
          "output_type": "stream",
          "text": [
            "[[0. 0.]\n",
            " [0. 0.]]\n"
          ]
        }
      ],
      "source": [
        "\n",
        "    matrix = np.zeros((len(basis_A), len(basis_A)))\n",
        "    print(matrix)"
      ]
    },
    {
      "cell_type": "code",
      "execution_count": null,
      "metadata": {
        "trusted": true
      },
      "outputs": [],
      "source": [
        "def Partial_Trace_Subsystem_B_array_test():\n",
        "    matrix = np.zeros((len(basis_A), len(basis_A)))\n",
        "    \n",
        "    for i in range(len(basis_A) - 1):\n",
        "        for k in range(len(basis_A) - 1):\n",
        "            matrix[i, k] = Partial_Trace_Subsystem_B((i + 1), (k + 1))\n",
        "    return print(matrix)"
      ]
    },
    {
      "cell_type": "code",
      "execution_count": null,
      "metadata": {
        "trusted": true
      },
      "outputs": [
        {
          "name": "stdout",
          "output_type": "stream",
          "text": [
            "[[0.42973814 0.49503866]\n",
            " [0.49503866 0.57026186]]\n"
          ]
        }
      ],
      "source": [
        "def f(i, k):\n",
        "    return Partial_Trace_Subsystem_B(i, k)\n",
        "\n",
        "# Simple ranges\n",
        "i_range = range(1,len(basis_A)+1 )  # i = 0, 1\n",
        "k_range = range(1,len(basis_A) +1)  # j = 0, 1\n",
        "\n",
        "# Create the matrix\n",
        "matrix = np.array([[f(i, k) for k in k_range] for i in i_range])\n",
        "print(matrix)"
      ]
    },
    {
      "cell_type": "code",
      "execution_count": null,
      "metadata": {
        "trusted": true
      },
      "outputs": [
        {
          "name": "stdout",
          "output_type": "stream",
          "text": [
            "range(1, 3)\n"
          ]
        }
      ],
      "source": [
        "print(i_range)"
      ]
    },
    {
      "cell_type": "raw",
      "metadata": {},
      "source": [
        "matrix = np.array([[Partial_Trace_Subsystem_B(i+1, j+1) for j in range(len(basis_A))] for i in range(len(basis_A))])\n",
        "print(matrix)\n",
        "print(matrix[0])"
      ]
    },
    {
      "cell_type": "code",
      "execution_count": null,
      "metadata": {
        "trusted": true
      },
      "outputs": [
        {
          "name": "stdout",
          "output_type": "stream",
          "text": [
            "[-1.11022302e-16  1.00000000e+00]\n"
          ]
        }
      ],
      "source": [
        "eigenvalues, eigenvectors = np.linalg.eig(matrix)\n",
        "print(eigenvalues)"
      ]
    },
    {
      "cell_type": "code",
      "execution_count": null,
      "metadata": {},
      "outputs": [
        {
          "name": "stdout",
          "output_type": "stream",
          "text": [
            "[[1 2]\n",
            " [3 4]]\n",
            "[-0.37228132  5.37228132]\n"
          ]
        }
      ],
      "source": [
        "testmatrix = ((0, 1), (3, 1))\n",
        "#print(testmatrix)\n",
        "\n",
        "row_vector = np.array((1, 2))\n",
        "#print(row_vector)\n",
        "\n",
        "vector = np.array(((1, 2), (3, 4)))\n",
        "print(vector)\n",
        "\n",
        "eigenvalue_test, eigen_bases = np.linalg.eig(vector)\n",
        "print(eigenvalue_test)"
      ]
    },
    {
      "cell_type": "code",
      "execution_count": null,
      "metadata": {},
      "outputs": [
        {
          "name": "stdout",
          "output_type": "stream",
          "text": [
            "nan\n",
            "9.032162188360221\n"
          ]
        },
        {
          "name": "stderr",
          "output_type": "stream",
          "text": [
            "C:\\Users\\Acer Aspire 5\\AppData\\Local\\Temp\\ipykernel_13424\\1267295119.py:3: RuntimeWarning: invalid value encountered in log\n",
            "  lambda_log_lambda = i * np.log(i)\n"
          ]
        }
      ],
      "source": [
        "for i in eigenvalue_test:\n",
        "    sum_of_EE = 0\n",
        "    lambda_log_lambda = i * np.log(i)\n",
        "    sum_of_EE += lambda_log_lambda\n",
        "    print(sum_of_EE)\n"
      ]
    }
  ],
  "metadata": {
    "kernelspec": {
      "display_name": "Python 3",
      "language": "python",
      "name": "python3"
    },
    "language_info": {
      "codemirror_mode": {
        "name": "ipython",
        "version": 3
      },
      "file_extension": ".py",
      "mimetype": "text/x-python",
      "name": "python",
      "nbconvert_exporter": "python",
      "pygments_lexer": "ipython3",
      "version": "3.9.2"
    }
  },
  "nbformat": 4,
  "nbformat_minor": 4
}
