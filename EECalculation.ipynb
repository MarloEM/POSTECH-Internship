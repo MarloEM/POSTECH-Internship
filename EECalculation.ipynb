{
 "cells": [
  {
   "cell_type": "markdown",
   "metadata": {},
   "source": [
    "# EE Calculation from Scratch\n",
    "\n",
    "Here's another (correct) way to calculate the EE,\n",
    "\n",
    "First we will make a system where we describe the random variable states from a value of $[0, 1]$\n",
    "\n",
    "$$\n",
    "\\ket{\\psi} = \\begin{pmatrix} 0.38 \\\\ 0.45 \\\\ 0.56 \\\\ \\vdots \\end{pmatrix}\n",
    "$$\n",
    "\n",
    "where the length of the column matrix is $N = 2^{n}$, with $n$ as the number of qubits we want to study and calculate the entanglement entropy.\n",
    "Now that we have a random statevector, we would like to re-write it as a combination of its basis, \n",
    "\n",
    "$$\n",
    "\\ket{\\psi} = \\begin{pmatrix} 0.38 \\\\ 0.45 \\\\ 0.56 \\\\ \\vdots \\end{pmatrix} = 0.38 \\begin{pmatrix} 1 \\\\ 0 \\\\ 0 \\\\ \\vdots \\end{pmatrix} + 0.45 \\begin{pmatrix} 0 \\\\ 1 \\\\ 0 \\\\ \\vdots \\end{pmatrix} + 0.56 \\begin{pmatrix} 0 \\\\ 0 \\\\ 1 \\\\ \\vdots \\end{pmatrix} + \\cdots.\n",
    "$$\n",
    "\n",
    "We would need to normalize the statevector by taking $\\rho = \\sum_i a_i a^*_i\\ket{i}\\bra{i} = 1$.\n",
    "Lets realize this into python,"
   ]
  },
  {
   "cell_type": "code",
   "execution_count": 1,
   "metadata": {},
   "outputs": [],
   "source": [
    "import numpy as np"
   ]
  },
  {
   "cell_type": "code",
   "execution_count": 2,
   "metadata": {},
   "outputs": [],
   "source": [
    "def psi_initial_random_state(nQubits = 8, min_val = 0, max_val = 1):\n",
    "    \"\"\"\n",
    "    Generate a row vector of random zeros and ones, and then each of the components are multiplied by a constant taken from a Gaussian ensemble\n",
    "    for each of the components of the statevector.\n",
    "\n",
    "    Parameters:\n",
    "    nQubits (int): The length of the vector which corresponds to how many qubits.\n",
    "\n",
    "    Returns:\n",
    "    numpy.ndarray: A row vector of random numbers from [0, 1].\n",
    "    \"\"\"\n",
    "    if not isinstance(nQubits, int) or nQubits <= 0:\n",
    "        raise ValueError(\"The number of qubits must be a positive integer.\")\n",
    "    gaussian_ensemble = np.random.uniform(min_val, max_val, size = (nQubits, 1))\n",
    "    #print(f\"The gaussian ensemble for each of the components: \\n\", gaussian_ensemble)\n",
    "    return gaussian_ensemble "
   ]
  },
  {
   "cell_type": "code",
   "execution_count": 3,
   "metadata": {},
   "outputs": [
    {
     "data": {
      "text/plain": [
       "array([[0.05909613],\n",
       "       [0.51441531],\n",
       "       [0.47544773],\n",
       "       [0.15909784]])"
      ]
     },
     "execution_count": 3,
     "metadata": {},
     "output_type": "execute_result"
    }
   ],
   "source": [
    "test_psi_initial_random_state = psi_initial_random_state(4)\n",
    "test_psi_initial_random_state"
   ]
  },
  {
   "cell_type": "markdown",
   "metadata": {},
   "source": [
    "now that we have a random state $\\ket{\\psi}$, we want to normalize the state so that $\\rho = \\sum_{ij} a_i a^*_j \\ket{i}\\bra{j} =1 $."
   ]
  },
  {
   "cell_type": "code",
   "execution_count": 4,
   "metadata": {},
   "outputs": [],
   "source": [
    "def normalize(matrix):\n",
    "    norm = np.linalg.norm(matrix)\n",
    "    matrix = matrix/norm  # normalized matrix\n",
    "    return matrix\n",
    "    return norm_arr"
   ]
  },
  {
   "cell_type": "code",
   "execution_count": 5,
   "metadata": {},
   "outputs": [
    {
     "name": "stdout",
     "output_type": "stream",
     "text": [
      "Here's the normalized random state :\n",
      " [[0.08199274]\n",
      " [0.71372392]\n",
      " [0.65965847]\n",
      " [0.2207398 ]]\n",
      "and here's the sum of the normalized density matrix :\n",
      " [1.]\n"
     ]
    }
   ],
   "source": [
    "normalized_test_psi_initial_random_state = normalize(test_psi_initial_random_state)\n",
    "print(f\"Here's the normalized random state :\\n\",normalized_test_psi_initial_random_state)\n",
    "Y = normalized_test_psi_initial_random_state*normalized_test_psi_initial_random_state\n",
    "print(f\"and here's the sum of the normalized density matrix :\\n\",sum(Y))"
   ]
  },
  {
   "cell_type": "markdown",
   "metadata": {},
   "source": [
    "Okay, now that we have a normalized statevector, we can start to translate each of the components of the matrix into a binary number which corresponds to the state of the system.\n",
    "\n",
    "For example, for an nQubit column vector, we have the first component symbolized as `psi[0]` with a certain normalized constant of $a_{[0]}$, as in python, the first component have the index of 0. This would represent the following state,\n",
    "$$\n",
    "\\psi[0] \\rightarrow a_{[0]}\\ket{00000\\cdots 00},\n",
    "$$\n",
    "where the length of the ket is nQubits.\n",
    "\n",
    "and for $\\psi_{[1]}$, it would correspond a state of,\n",
    "$$\n",
    "\\psi[1] \\rightarrow a_{[1]}\\ket{00000\\cdots 01},\n",
    "$$\n",
    "and so on. Here it is clear that our system just use the index of the array and translate it into binary that will correspond into the actual quantum state.\n",
    "Before thinking about how to separate the system into 2 sub-system, lets translate it first."
   ]
  },
  {
   "cell_type": "markdown",
   "metadata": {},
   "source": [
    "From Vinay's explanation, the first step I want to do is to determine the size of subsystem A and B as $n_A$ and $n_B$ respectively.\n",
    "\n",
    "So for a system with a total of 4 qubits, I want to start from $n_A = 1$ and $n_B = 3$, where I would need to create a basis with the size of $2^{n_A}$ and $2^{n_B}$.\n"
   ]
  },
  {
   "cell_type": "code",
   "execution_count": 6,
   "metadata": {},
   "outputs": [],
   "source": [
    "n_A = 2\n",
    "n_B = 3"
   ]
  },
  {
   "cell_type": "markdown",
   "metadata": {},
   "source": [
    "Creating the basis"
   ]
  },
  {
   "cell_type": "code",
   "execution_count": 7,
   "metadata": {},
   "outputs": [
    {
     "name": "stdout",
     "output_type": "stream",
     "text": [
      "Basis for subsystem A :\n",
      " [[0.29650532]\n",
      " [0.108582  ]\n",
      " [0.87204695]\n",
      " [0.23457501]]\n",
      "Basis for subsystem B :\n",
      " [[0.15024211]\n",
      " [0.99051392]\n",
      " [0.21651915]\n",
      " [0.16005066]\n",
      " [0.26254737]\n",
      " [0.84750628]\n",
      " [0.59807119]\n",
      " [0.31576786]]\n"
     ]
    }
   ],
   "source": [
    "basis_A = np.random.uniform(0, 1, (2**n_A, 1))\n",
    "print(f\"Basis for subsystem A :\\n\",basis_A)\n",
    "basis_B = np.random.uniform(0, 1, (2**n_B, 1))\n",
    "print(f\"Basis for subsystem B :\\n\",basis_B)"
   ]
  },
  {
   "cell_type": "code",
   "execution_count": 8,
   "metadata": {},
   "outputs": [
    {
     "name": "stdout",
     "output_type": "stream",
     "text": [
      "State of 'Psi' as kronecker product of basis A and B :\n",
      " [[0.04454759]\n",
      " [0.29369265]\n",
      " [0.06419908]\n",
      " [0.04745587]\n",
      " [0.07784669]\n",
      " [0.25129012]\n",
      " [0.17733129]\n",
      " [0.09362685]\n",
      " [0.01631359]\n",
      " [0.10755198]\n",
      " [0.02351008]\n",
      " [0.01737862]\n",
      " [0.02850792]\n",
      " [0.09202392]\n",
      " [0.06493976]\n",
      " [0.0342867 ]\n",
      " [0.13101818]\n",
      " [0.86377464]\n",
      " [0.18881486]\n",
      " [0.13957169]\n",
      " [0.22895364]\n",
      " [0.73906527]\n",
      " [0.52154616]\n",
      " [0.2753644 ]\n",
      " [0.03524305]\n",
      " [0.23234981]\n",
      " [0.05078998]\n",
      " [0.03754388]\n",
      " [0.06158705]\n",
      " [0.19880379]\n",
      " [0.14029255]\n",
      " [0.07407125]]\n"
     ]
    }
   ],
   "source": [
    "Psi_AB = np.kron(basis_A, basis_B)\n",
    "print(f\"State of 'Psi' as kronecker product of basis A and B :\\n\",\n",
    "      Psi_AB)"
   ]
  },
  {
   "cell_type": "code",
   "execution_count": 9,
   "metadata": {},
   "outputs": [
    {
     "data": {
      "text/plain": [
       "32"
      ]
     },
     "execution_count": 9,
     "metadata": {},
     "output_type": "execute_result"
    }
   ],
   "source": [
    "len(Psi_AB)"
   ]
  },
  {
   "cell_type": "markdown",
   "metadata": {},
   "source": [
    "Normalizing the column vector (State of $\\Psi$)"
   ]
  },
  {
   "cell_type": "code",
   "execution_count": 10,
   "metadata": {},
   "outputs": [
    {
     "name": "stdout",
     "output_type": "stream",
     "text": [
      "The normalized state of Psi :\n",
      " [[0.03056677]\n",
      " [0.20152016]\n",
      " [0.04405084]\n",
      " [0.03256232]\n",
      " [0.05341529]\n",
      " [0.17242524]\n",
      " [0.12167764]\n",
      " [0.064243  ]\n",
      " [0.01119373]\n",
      " [0.07379787]\n",
      " [0.01613168]\n",
      " [0.01192451]\n",
      " [0.01956099]\n",
      " [0.06314314]\n",
      " [0.04455907]\n",
      " [0.02352617]\n",
      " [0.08989944]\n",
      " [0.59268764]\n",
      " [0.12955721]\n",
      " [0.09576851]\n",
      " [0.15709883]\n",
      " [0.50711705]\n",
      " [0.35786413]\n",
      " [0.18894404]\n",
      " [0.02418237]\n",
      " [0.15942915]\n",
      " [0.03485005]\n",
      " [0.02576111]\n",
      " [0.04225857]\n",
      " [0.13641122]\n",
      " [0.09626314]\n",
      " [0.05082473]]\n"
     ]
    }
   ],
   "source": [
    "norm = np.linalg.norm(Psi_AB)\n",
    "\n",
    "# Normalize the vector\n",
    "normalized_Psi_AB = Psi_AB / norm\n",
    "print(f\"The normalized state of Psi :\\n\", normalized_Psi_AB)"
   ]
  },
  {
   "cell_type": "code",
   "execution_count": 11,
   "metadata": {},
   "outputs": [],
   "source": [
    "def Psi_indexed(i, j):\n",
    "    if isinstance(i, int) and i > 0 and i <= len(basis_A) and isinstance(j, int) and j > 0 and j <= len(basis_B):\n",
    "        return normalized_Psi_AB[(i-1) * len(basis_B) + (j-1)]\n",
    "    else:\n",
    "        return ValueError(\"Indices are out of bounds or not integers.\")"
   ]
  },
  {
   "cell_type": "code",
   "execution_count": 12,
   "metadata": {},
   "outputs": [
    {
     "data": {
      "text/plain": [
       "array([0.03056677])"
      ]
     },
     "execution_count": 12,
     "metadata": {},
     "output_type": "execute_result"
    }
   ],
   "source": [
    "Psi_indexed(i = 1,j = 1)"
   ]
  },
  {
   "cell_type": "code",
   "execution_count": 13,
   "metadata": {},
   "outputs": [],
   "source": [
    "def Psi_indexed_conjugate(k, l):\n",
    "    if isinstance(k, int) and k > 0 and k <= len(basis_A) and isinstance(l, int) and l > 0 and l <= len(basis_B):\n",
    "        return np.conjugate(normalized_Psi_AB[(k-1) * len(basis_B) + (l-1)])\n",
    "    else:\n",
    "        return ValueError(\"Indices are out of bounds or not integers.\")\n",
    "    "
   ]
  },
  {
   "cell_type": "code",
   "execution_count": 14,
   "metadata": {},
   "outputs": [
    {
     "data": {
      "text/plain": [
       "array([0.03056677])"
      ]
     },
     "execution_count": 14,
     "metadata": {},
     "output_type": "execute_result"
    }
   ],
   "source": [
    "Psi_indexed_conjugate(k = 1, l = 1)"
   ]
  },
  {
   "cell_type": "code",
   "execution_count": 15,
   "metadata": {},
   "outputs": [],
   "source": [
    "def Density_Matrix_Psi_AB(i, j, k, l):\n",
    "    # Summing over Psi(i,j) and Psi*(k, j), sum over J from 1 to the len(basis_B).\n",
    "    Density_Matrix_Psi_AB = Psi_indexed(i, j) * Psi_indexed_conjugate(k, l)\n",
    "    return Density_Matrix_Psi_AB"
   ]
  },
  {
   "cell_type": "code",
   "execution_count": 16,
   "metadata": {},
   "outputs": [
    {
     "name": "stdout",
     "output_type": "stream",
     "text": [
      "[0.00093433]\n"
     ]
    }
   ],
   "source": [
    "test_dense_matrix = Density_Matrix_Psi_AB(1, 1, 1, 1)\n",
    "print(test_dense_matrix)"
   ]
  },
  {
   "cell_type": "code",
   "execution_count": 17,
   "metadata": {},
   "outputs": [],
   "source": [
    "#def Partial_Trace_Subsystem_B(i, k):\n",
    "#    result1 = 0\n",
    "#    for j in range(len(basis_B)):\n",
    "#        result1 += Density_Matrix_Psi_AB(i, (j+1), k, (j+1))\n",
    "#    return result1[0]\n",
    "        "
   ]
  },
  {
   "cell_type": "code",
   "execution_count": 18,
   "metadata": {},
   "outputs": [],
   "source": [
    "def Partial_Trace_Subsystem_B_v2(i, k):\n",
    "    result = 0\n",
    "    for j in range(1, len(basis_B)):\n",
    "        result += Density_Matrix_Psi_AB(i, j, k, j)\n",
    "    return result[0]"
   ]
  },
  {
   "cell_type": "code",
   "execution_count": 19,
   "metadata": {},
   "outputs": [
    {
     "data": {
      "text/plain": [
       "range(0, 8)"
      ]
     },
     "execution_count": 19,
     "metadata": {},
     "output_type": "execute_result"
    }
   ],
   "source": [
    "range(len(basis_B))"
   ]
  },
  {
   "cell_type": "code",
   "execution_count": 20,
   "metadata": {},
   "outputs": [
    {
     "data": {
      "text/plain": [
       "range(1, 8)"
      ]
     },
     "execution_count": 20,
     "metadata": {},
     "output_type": "execute_result"
    }
   ],
   "source": [
    "range(1, len(basis_B))"
   ]
  },
  {
   "cell_type": "code",
   "execution_count": 21,
   "metadata": {},
   "outputs": [],
   "source": [
    "#Partial_Trace_Subsystem_B(1, 1)"
   ]
  },
  {
   "cell_type": "code",
   "execution_count": 22,
   "metadata": {},
   "outputs": [
    {
     "data": {
      "text/plain": [
       "0.09193458764245407"
      ]
     },
     "execution_count": 22,
     "metadata": {},
     "output_type": "execute_result"
    }
   ],
   "source": [
    "Partial_Trace_Subsystem_B_v2(1, 1)"
   ]
  },
  {
   "cell_type": "code",
   "execution_count": 23,
   "metadata": {},
   "outputs": [
    {
     "data": {
      "text/plain": [
       "array([[0.09193459, 0.03366699],\n",
       "       [0.03366699, 0.01232905]])"
      ]
     },
     "execution_count": 23,
     "metadata": {},
     "output_type": "execute_result"
    }
   ],
   "source": [
    "array_test_eigvalue = np.array([\n",
    "    [Partial_Trace_Subsystem_B_v2(1, 1), Partial_Trace_Subsystem_B_v2(1, 2)],\n",
    "    [Partial_Trace_Subsystem_B_v2(2, 1), Partial_Trace_Subsystem_B_v2(2, 2)]\n",
    "])\n",
    "array_test_eigvalue"
   ]
  },
  {
   "cell_type": "code",
   "execution_count": 24,
   "metadata": {},
   "outputs": [],
   "source": [
    "#def Partial_Trace_Subsystem_B_array_test():\n",
    "#    matrix = np.zeros((len(basis_A), len(basis_A)))\n",
    "#    \n",
    "#    for i in range(1, len(basis_A)):\n",
    "#        for k in range(1, len(basis_A)):\n",
    "#            matrix[i, k] = Partial_Trace_Subsystem_B(i, k)\n",
    "#    return print(matrix)"
   ]
  },
  {
   "cell_type": "code",
   "execution_count": 25,
   "metadata": {},
   "outputs": [
    {
     "data": {
      "text/plain": [
       "range(1, 4)"
      ]
     },
     "execution_count": 25,
     "metadata": {},
     "output_type": "execute_result"
    }
   ],
   "source": [
    "range(1, len(basis_A))"
   ]
  },
  {
   "cell_type": "code",
   "execution_count": 26,
   "metadata": {},
   "outputs": [
    {
     "name": "stdout",
     "output_type": "stream",
     "text": [
      "[[0.09193459 0.03366699 0.27038731 0.07273244]\n",
      " [0.03366699 0.01232905 0.09901743 0.02663505]\n",
      " [0.27038731 0.09901743 0.79523171 0.2139122 ]\n",
      " [0.07273244 0.02663505 0.2139122  0.057541  ]]\n"
     ]
    }
   ],
   "source": [
    "partial_trace_matrix = np.array([[Partial_Trace_Subsystem_B_v2(i+1, j+1) for j in range(len(basis_A))] for i in range(len(basis_A))])\n",
    "print(partial_trace_matrix)"
   ]
  },
  {
   "cell_type": "code",
   "execution_count": 27,
   "metadata": {},
   "outputs": [
    {
     "name": "stdout",
     "output_type": "stream",
     "text": [
      "Eigenvalues of the partial trace matrix:\n",
      "[ 0.00000000e+00  9.57036351e-01 -2.62025254e-18  7.41488796e-18]\n",
      "0.9570363513169686\n"
     ]
    }
   ],
   "source": [
    "eigenvalues, eigenvectors = np.linalg.eig(partial_trace_matrix)\n",
    "print(\"Eigenvalues of the partial trace matrix:\")\n",
    "print(eigenvalues)\n",
    "print(sum(eigenvalues))"
   ]
  },
  {
   "cell_type": "markdown",
   "metadata": {},
   "source": [
    "Lets loop everything from $n_A = 1$ to $n_A = N- n_B$ which in this case $n_A = 3$ as we could only divide a 4 qubit system 3 times.\n",
    "\n",
    "here's the visualization of the subsystem division,\n",
    "$$\n",
    "\\ket{(0)_A (000)_B}\n",
    "$$\n",
    "$$\n",
    "\\ket{(00)_A (00)_B}\n",
    "$$\n",
    "$$\n",
    "\\ket{(000)_A (0)_B}\n",
    "$$\n",
    "\n",
    "which means that $n_A$ goes from $1$ to $(n_A + n_B) - 1$"
   ]
  },
  {
   "cell_type": "code",
   "execution_count": 28,
   "metadata": {},
   "outputs": [],
   "source": [
    "def Entanglement_Entropy_lambda(eigenvalues_input):\n",
    "    sum_of_EE = 0\n",
    "    #epsilon = 1e-14\n",
    "    for i in eigenvalues_input:\n",
    "        if i > 0 :  # Ensure we don't take the log of zero\n",
    "            lambda_log_lambda = i * np.log(i)\n",
    "            sum_of_EE += lambda_log_lambda\n",
    "\n",
    "    entropy = -sum_of_EE\n",
    "\n",
    "    # Replace NaN or -inf with 0\n",
    "    if np.isnan(entropy) or np.isinf(entropy):\n",
    "        entropy = 0\n",
    "\n",
    "    return entropy"
   ]
  },
  {
   "cell_type": "code",
   "execution_count": 29,
   "metadata": {},
   "outputs": [
    {
     "name": "stdout",
     "output_type": "stream",
     "text": [
      "[[0.09193459 0.03366699 0.27038731 0.07273244]\n",
      " [0.03366699 0.01232905 0.09901743 0.02663505]\n",
      " [0.27038731 0.09901743 0.79523171 0.2139122 ]\n",
      " [0.07273244 0.02663505 0.2139122  0.057541  ]]\n",
      "[ 0.00000000e+00  9.57036351e-01 -2.62025254e-18  7.41488796e-18]\n",
      "0.04202720206706712\n"
     ]
    }
   ],
   "source": [
    "import numpy as np\n",
    "partial_trace_matrix_test = np.array([[Partial_Trace_Subsystem_B_v2(i+1, j+1) for j in range(len(basis_A))] for i in range(len(basis_A))])\n",
    "print(partial_trace_matrix_test)\n",
    "eigenvalues, eigenvectors = np.linalg.eig(partial_trace_matrix)\n",
    "print(eigenvalues)\n",
    "EE_final = Entanglement_Entropy_lambda(eigenvalues)\n",
    "print(EE_final)"
   ]
  },
  {
   "cell_type": "code",
   "execution_count": 30,
   "metadata": {},
   "outputs": [],
   "source": [
    "def Entanglement_Entropy(nQubits = 8, min_val = 0, max_val = 1):\n",
    "    \"\"\"\n",
    "    Performs several operations with the following steps:\n",
    "    1. It produces a random statevector with a size of 2**nQubits, where n is the number\n",
    "        of the qubits we want to generate.\n",
    "    2. Then we normalize the statevector so that the sum of its coefficients of each basis\n",
    "        returns a 1 or other normalized value.\n",
    "    3. We have an indexed Psi function that will function as a \"portal\" or \"dictionary\" that\n",
    "        will take the specific components that corresponds to a certain qubits to be kept \n",
    "        or traced out during the partial trace process.\n",
    "    4. \n",
    "\n",
    "    Note to self : Update this definitions\n",
    "\n",
    "    Parameters:\n",
    "    nQubits (int): The length of the vector which corresponds to how many qubits.\n",
    "\n",
    "    Returns:\n",
    "    numpy.ndarray: A row vector of random numbers from [0, 1].\n",
    "    \"\"\"\n",
    "    #if not isinstance(nQubits, int) or nQubits <= 0:\n",
    "    #    raise ValueError(\"The number of qubits must be a positive integer.\")\n",
    "    #gaussian_ensemble = np.random.uniform(min_val, max_val, size = (nQubits, 1))\n",
    "    \n",
    "    # 2nd step Normalization\n",
    "    #normalized_psi_random_state = normalize(gaussian_ensemble)\n",
    "\n",
    "    # 3rd step of having the indexed Psi function, and loop the number of subsystem\n",
    "    # The steps above are currently not used, and the function starts from here\n",
    "    for n_A in range(1, nQubits-1):\n",
    "        # Create a random statevector\n",
    "        n_B = nQubits - n_A\n",
    "        basis_A = np.random.uniform(min_val, max_val, (2**n_A, 1))\n",
    "        basis_B = np.random.uniform(min_val, max_val, (2**n_B, 1))\n",
    "        Psi_AB = np.kron(basis_A, basis_B)\n",
    "\n",
    "        # Normalize the statevector\n",
    "        norm = np.linalg.norm(Psi_AB)\n",
    "        normalized_Psi_AB = Psi_AB / norm\n",
    "        # We use the Psi_indexed function we've created to operate the Density_Matrix of \n",
    "        # Psi_AB, where then we have the function inside of the Partial_Trace function\n",
    "        # of the subsystem B\n",
    "        #density_matrix = Partial_Trace_Subsystem_B_v2()\n",
    "        partial_trace_matrix = np.array([[Partial_Trace_Subsystem_B_v2(i+1, j+1) for j in range(len(basis_A))] for i in range(len(basis_A))])\n",
    "\n",
    "        # Take the eigenvalues of the partial_trace matrix\n",
    "        eigenvalues, eigenvectors = np.linalg.eig(partial_trace_matrix)\n",
    "        eigenvalues_total = sum(eigenvalues)\n",
    "        EE_final_value = Entanglement_Entropy_lambda(eigenvalues_total)\n",
    "\n",
    "    return EE_final_value"
   ]
  },
  {
   "cell_type": "code",
   "execution_count": 31,
   "metadata": {},
   "outputs": [],
   "source": [
    "def Entanglement_Entropy_v2(nQubits = 8, min_val = 0, max_val = 1):\n",
    "    \"\"\"\n",
    "    Performs several operations with the following steps:\n",
    "    1. It produces a random statevector with a size of 2**nQubits, where n is the number\n",
    "        of the qubits we want to generate.\n",
    "    2. Then we normalize the statevector so that the sum of its coefficients of each basis\n",
    "        returns a 1 or other normalized value.\n",
    "    3. We have an indexed Psi function that will function as a \"portal\" or \"dictionary\" that\n",
    "        will take the specific components that corresponds to a certain qubits to be kept \n",
    "        or traced out during the partial trace process.\n",
    "    4. \n",
    "\n",
    "    Note to self : Update this definitions\n",
    "\n",
    "    Parameters:\n",
    "    nQubits (int): The length of the vector which corresponds to how many qubits.\n",
    "\n",
    "    Returns:\n",
    "    numpy.ndarray: A row vector of random numbers from [0, 1].\n",
    "    \"\"\"\n",
    "    #if not isinstance(nQubits, int) or nQubits <= 0:\n",
    "    #    raise ValueError(\"The number of qubits must be a positive integer.\")\n",
    "    #gaussian_ensemble = np.random.uniform(min_val, max_val, size = (nQubits, 1))\n",
    "    \n",
    "    # 2nd step Normalization\n",
    "    #normalized_psi_random_state = normalize(gaussian_ensemble)\n",
    "\n",
    "    # 3rd step of having the indexed Psi function, and loop the number of subsystem\n",
    "    # The steps above are currently not used, and the function starts from here\n",
    "    for n_A in range(1, nQubits-1):\n",
    "        EE_values = []\n",
    "        # Create a random statevector\n",
    "        n_B = nQubits - n_A\n",
    "        basis_A = np.random.uniform(min_val, max_val, (2**n_A, 1))\n",
    "        basis_B = np.random.uniform(min_val, max_val, (2**n_B, 1))\n",
    "        Psi_AB = np.kron(basis_A, basis_B)\n",
    "\n",
    "        # Normalize the statevector\n",
    "        norm = np.linalg.norm(Psi_AB)\n",
    "        normalized_Psi_AB = Psi_AB / norm\n",
    "        # We use the Psi_indexed function we've created to operate the Density_Matrix of \n",
    "        # Psi_AB, where then we have the function inside of the Partial_Trace function\n",
    "        # of the subsystem B\n",
    "        #density_matrix = Partial_Trace_Subsystem_B_v2()\n",
    "        partial_trace_matrix = np.array([[Partial_Trace_Subsystem_B_v2(i+1, j+1) for j in range(len(basis_A))] for i in range(len(basis_A))])\n",
    "\n",
    "        # Take the eigenvalues of the partial_trace matrix\n",
    "        eigenvalues, eigenvectors = np.linalg.eig(partial_trace_matrix)\n",
    "        #eigenvalues_total = sum(eigenvalues)\n",
    "        EE_final_value = Entanglement_Entropy_lambda(eigenvalues)\n",
    "        EE_values.append(EE_final_value)\n",
    "\n",
    "    return EE_values"
   ]
  },
  {
   "cell_type": "code",
   "execution_count": 32,
   "metadata": {},
   "outputs": [],
   "source": [
    "def Entanglement_Entropy_v2(nQubits = 8, min_val = 0, max_val = 1):\n",
    "    \"\"\"\n",
    "    Performs several operations with the following steps:\n",
    "    1. It produces a random statevector with a size of 2**nQubits, where n is the number\n",
    "        of the qubits we want to generate.\n",
    "    2. Then we normalize the statevector so that the sum of its coefficients of each basis\n",
    "        returns a 1 or other normalized value.\n",
    "    3. We have an indexed Psi function that will function as a \"portal\" or \"dictionary\" that\n",
    "        will take the specific components that corresponds to a certain qubits to be kept \n",
    "        or traced out during the partial trace process.\n",
    "    4. \n",
    "\n",
    "    Note to self : Update this definitions\n",
    "\n",
    "    Parameters:\n",
    "    nQubits (int): The length of the vector which corresponds to how many qubits.\n",
    "\n",
    "    Returns:\n",
    "    numpy.ndarray: A row vector of random numbers from [0, 1].\n",
    "    \"\"\"\n",
    "    for n_A in range(1, nQubits-1):\n",
    "        EE_values = []\n",
    "        # Create a random statevector\n",
    "        n_B = nQubits - n_A\n",
    "        basis_A = np.random.uniform(min_val, max_val, (2**n_A, 1))\n",
    "        basis_B = np.random.uniform(min_val, max_val, (2**n_B, 1))\n",
    "        Psi_AB = np.kron(basis_A, basis_B)\n",
    "\n",
    "        # Normalize the statevector\n",
    "        norm = np.linalg.norm(Psi_AB)\n",
    "        normalized_Psi_AB = Psi_AB / norm\n",
    "        # We use the Psi_indexed function we've created to operate the Density_Matrix of \n",
    "        # Psi_AB, where then we have the function inside of the Partial_Trace function\n",
    "        # of the subsystem B\n",
    "        #density_matrix = Partial_Trace_Subsystem_B_v2()\n",
    "        partial_trace_matrix = np.array([[Partial_Trace_Subsystem_B_v2(i+1, j+1) for j in range(len(basis_A))] for i in range(len(basis_A))])\n",
    "\n",
    "        # Take the eigenvalues of the partial_trace matrix\n",
    "        eigenvalues, eigenvectors = np.linalg.eig(partial_trace_matrix)\n",
    "        #eigenvalues_total = sum(eigenvalues)\n",
    "        EE_final_value = Entanglement_Entropy_lambda(eigenvalues)\n",
    "        EE_values.append(EE_final_value)\n",
    "\n",
    "    return EE_values"
   ]
  },
  {
   "cell_type": "markdown",
   "metadata": {},
   "source": [
    "I got this completely wrong. We would only need to run the random.uniform for the two basis once, and then run the Psi_indexed and its conjugate differently"
   ]
  },
  {
   "cell_type": "code",
   "execution_count": 33,
   "metadata": {},
   "outputs": [],
   "source": [
    "import matplotlib.pyplot as plt"
   ]
  },
  {
   "cell_type": "code",
   "execution_count": 34,
   "metadata": {},
   "outputs": [],
   "source": [
    "def plot_entanglement_entropy(nQubits=8, min_val=0, max_val=1):\n",
    "    EE_values = Entanglement_Entropy_v2(nQubits, min_val, max_val)\n",
    "    n_A_values = np.arange(1, nQubits)\n",
    "    \n",
    "    plt.figure(figsize=(10, 6))\n",
    "    plt.plot(n_A_values, EE_values, marker='o', linestyle='-', color='b')\n",
    "    plt.xlabel('Number of Qubits in Subsystem A (n_A)')\n",
    "    plt.ylabel('Entanglement Entropy (EE)')\n",
    "    plt.title(f'Entanglement Entropy vs Subsystem Size for {nQubits} Qubits')\n",
    "    plt.grid(True)\n",
    "    plt.show()"
   ]
  },
  {
   "cell_type": "code",
   "execution_count": 36,
   "metadata": {},
   "outputs": [
    {
     "ename": "ValueError",
     "evalue": "x and y must have same first dimension, but have shapes (2,) and (1,)",
     "output_type": "error",
     "traceback": [
      "\u001b[1;31m---------------------------------------------------------------------------\u001b[0m",
      "\u001b[1;31mValueError\u001b[0m                                Traceback (most recent call last)",
      "Input \u001b[1;32mIn [36]\u001b[0m, in \u001b[0;36m<cell line: 1>\u001b[1;34m()\u001b[0m\n\u001b[1;32m----> 1\u001b[0m \u001b[43mplot_entanglement_entropy\u001b[49m\u001b[43m(\u001b[49m\u001b[43mnQubits\u001b[49m\u001b[38;5;241;43m=\u001b[39;49m\u001b[38;5;241;43m3\u001b[39;49m\u001b[43m)\u001b[49m\n",
      "Input \u001b[1;32mIn [34]\u001b[0m, in \u001b[0;36mplot_entanglement_entropy\u001b[1;34m(nQubits, min_val, max_val)\u001b[0m\n\u001b[0;32m      3\u001b[0m n_A_values \u001b[38;5;241m=\u001b[39m np\u001b[38;5;241m.\u001b[39marange(\u001b[38;5;241m1\u001b[39m, nQubits)\n\u001b[0;32m      5\u001b[0m plt\u001b[38;5;241m.\u001b[39mfigure(figsize\u001b[38;5;241m=\u001b[39m(\u001b[38;5;241m10\u001b[39m, \u001b[38;5;241m6\u001b[39m))\n\u001b[1;32m----> 6\u001b[0m \u001b[43mplt\u001b[49m\u001b[38;5;241;43m.\u001b[39;49m\u001b[43mplot\u001b[49m\u001b[43m(\u001b[49m\u001b[43mn_A_values\u001b[49m\u001b[43m,\u001b[49m\u001b[43m \u001b[49m\u001b[43mEE_values\u001b[49m\u001b[43m,\u001b[49m\u001b[43m \u001b[49m\u001b[43mmarker\u001b[49m\u001b[38;5;241;43m=\u001b[39;49m\u001b[38;5;124;43m'\u001b[39;49m\u001b[38;5;124;43mo\u001b[39;49m\u001b[38;5;124;43m'\u001b[39;49m\u001b[43m,\u001b[49m\u001b[43m \u001b[49m\u001b[43mlinestyle\u001b[49m\u001b[38;5;241;43m=\u001b[39;49m\u001b[38;5;124;43m'\u001b[39;49m\u001b[38;5;124;43m-\u001b[39;49m\u001b[38;5;124;43m'\u001b[39;49m\u001b[43m,\u001b[49m\u001b[43m \u001b[49m\u001b[43mcolor\u001b[49m\u001b[38;5;241;43m=\u001b[39;49m\u001b[38;5;124;43m'\u001b[39;49m\u001b[38;5;124;43mb\u001b[39;49m\u001b[38;5;124;43m'\u001b[39;49m\u001b[43m)\u001b[49m\n\u001b[0;32m      7\u001b[0m plt\u001b[38;5;241m.\u001b[39mxlabel(\u001b[38;5;124m'\u001b[39m\u001b[38;5;124mNumber of Qubits in Subsystem A (n_A)\u001b[39m\u001b[38;5;124m'\u001b[39m)\n\u001b[0;32m      8\u001b[0m plt\u001b[38;5;241m.\u001b[39mylabel(\u001b[38;5;124m'\u001b[39m\u001b[38;5;124mEntanglement Entropy (EE)\u001b[39m\u001b[38;5;124m'\u001b[39m)\n",
      "File \u001b[1;32mc:\\Users\\Acer Aspire 5\\AppData\\Local\\Programs\\Python\\Python39\\lib\\site-packages\\matplotlib\\pyplot.py:2769\u001b[0m, in \u001b[0;36mplot\u001b[1;34m(scalex, scaley, data, *args, **kwargs)\u001b[0m\n\u001b[0;32m   2767\u001b[0m \u001b[38;5;129m@_copy_docstring_and_deprecators\u001b[39m(Axes\u001b[38;5;241m.\u001b[39mplot)\n\u001b[0;32m   2768\u001b[0m \u001b[38;5;28;01mdef\u001b[39;00m \u001b[38;5;21mplot\u001b[39m(\u001b[38;5;241m*\u001b[39margs, scalex\u001b[38;5;241m=\u001b[39m\u001b[38;5;28;01mTrue\u001b[39;00m, scaley\u001b[38;5;241m=\u001b[39m\u001b[38;5;28;01mTrue\u001b[39;00m, data\u001b[38;5;241m=\u001b[39m\u001b[38;5;28;01mNone\u001b[39;00m, \u001b[38;5;241m*\u001b[39m\u001b[38;5;241m*\u001b[39mkwargs):\n\u001b[1;32m-> 2769\u001b[0m     \u001b[38;5;28;01mreturn\u001b[39;00m gca()\u001b[38;5;241m.\u001b[39mplot(\n\u001b[0;32m   2770\u001b[0m         \u001b[38;5;241m*\u001b[39margs, scalex\u001b[38;5;241m=\u001b[39mscalex, scaley\u001b[38;5;241m=\u001b[39mscaley,\n\u001b[0;32m   2771\u001b[0m         \u001b[38;5;241m*\u001b[39m\u001b[38;5;241m*\u001b[39m({\u001b[38;5;124m\"\u001b[39m\u001b[38;5;124mdata\u001b[39m\u001b[38;5;124m\"\u001b[39m: data} \u001b[38;5;28;01mif\u001b[39;00m data \u001b[38;5;129;01mis\u001b[39;00m \u001b[38;5;129;01mnot\u001b[39;00m \u001b[38;5;28;01mNone\u001b[39;00m \u001b[38;5;28;01melse\u001b[39;00m {}), \u001b[38;5;241m*\u001b[39m\u001b[38;5;241m*\u001b[39mkwargs)\n",
      "File \u001b[1;32mc:\\Users\\Acer Aspire 5\\AppData\\Local\\Programs\\Python\\Python39\\lib\\site-packages\\matplotlib\\axes\\_axes.py:1632\u001b[0m, in \u001b[0;36mAxes.plot\u001b[1;34m(self, scalex, scaley, data, *args, **kwargs)\u001b[0m\n\u001b[0;32m   1390\u001b[0m \u001b[38;5;250m\u001b[39m\u001b[38;5;124;03m\"\"\"\u001b[39;00m\n\u001b[0;32m   1391\u001b[0m \u001b[38;5;124;03mPlot y versus x as lines and/or markers.\u001b[39;00m\n\u001b[0;32m   1392\u001b[0m \n\u001b[1;32m   (...)\u001b[0m\n\u001b[0;32m   1629\u001b[0m \u001b[38;5;124;03m(``'green'``) or hex strings (``'#008000'``).\u001b[39;00m\n\u001b[0;32m   1630\u001b[0m \u001b[38;5;124;03m\"\"\"\u001b[39;00m\n\u001b[0;32m   1631\u001b[0m kwargs \u001b[38;5;241m=\u001b[39m cbook\u001b[38;5;241m.\u001b[39mnormalize_kwargs(kwargs, mlines\u001b[38;5;241m.\u001b[39mLine2D)\n\u001b[1;32m-> 1632\u001b[0m lines \u001b[38;5;241m=\u001b[39m [\u001b[38;5;241m*\u001b[39m\u001b[38;5;28mself\u001b[39m\u001b[38;5;241m.\u001b[39m_get_lines(\u001b[38;5;241m*\u001b[39margs, data\u001b[38;5;241m=\u001b[39mdata, \u001b[38;5;241m*\u001b[39m\u001b[38;5;241m*\u001b[39mkwargs)]\n\u001b[0;32m   1633\u001b[0m \u001b[38;5;28;01mfor\u001b[39;00m line \u001b[38;5;129;01min\u001b[39;00m lines:\n\u001b[0;32m   1634\u001b[0m     \u001b[38;5;28mself\u001b[39m\u001b[38;5;241m.\u001b[39madd_line(line)\n",
      "File \u001b[1;32mc:\\Users\\Acer Aspire 5\\AppData\\Local\\Programs\\Python\\Python39\\lib\\site-packages\\matplotlib\\axes\\_base.py:312\u001b[0m, in \u001b[0;36m_process_plot_var_args.__call__\u001b[1;34m(self, data, *args, **kwargs)\u001b[0m\n\u001b[0;32m    310\u001b[0m     this \u001b[38;5;241m+\u001b[39m\u001b[38;5;241m=\u001b[39m args[\u001b[38;5;241m0\u001b[39m],\n\u001b[0;32m    311\u001b[0m     args \u001b[38;5;241m=\u001b[39m args[\u001b[38;5;241m1\u001b[39m:]\n\u001b[1;32m--> 312\u001b[0m \u001b[38;5;28;01myield from\u001b[39;00m \u001b[38;5;28;43mself\u001b[39;49m\u001b[38;5;241;43m.\u001b[39;49m\u001b[43m_plot_args\u001b[49m\u001b[43m(\u001b[49m\u001b[43mthis\u001b[49m\u001b[43m,\u001b[49m\u001b[43m \u001b[49m\u001b[43mkwargs\u001b[49m\u001b[43m)\u001b[49m\n",
      "File \u001b[1;32mc:\\Users\\Acer Aspire 5\\AppData\\Local\\Programs\\Python\\Python39\\lib\\site-packages\\matplotlib\\axes\\_base.py:498\u001b[0m, in \u001b[0;36m_process_plot_var_args._plot_args\u001b[1;34m(self, tup, kwargs, return_kwargs)\u001b[0m\n\u001b[0;32m    495\u001b[0m     \u001b[38;5;28mself\u001b[39m\u001b[38;5;241m.\u001b[39maxes\u001b[38;5;241m.\u001b[39myaxis\u001b[38;5;241m.\u001b[39mupdate_units(y)\n\u001b[0;32m    497\u001b[0m \u001b[38;5;28;01mif\u001b[39;00m x\u001b[38;5;241m.\u001b[39mshape[\u001b[38;5;241m0\u001b[39m] \u001b[38;5;241m!=\u001b[39m y\u001b[38;5;241m.\u001b[39mshape[\u001b[38;5;241m0\u001b[39m]:\n\u001b[1;32m--> 498\u001b[0m     \u001b[38;5;28;01mraise\u001b[39;00m \u001b[38;5;167;01mValueError\u001b[39;00m(\u001b[38;5;124mf\u001b[39m\u001b[38;5;124m\"\u001b[39m\u001b[38;5;124mx and y must have same first dimension, but \u001b[39m\u001b[38;5;124m\"\u001b[39m\n\u001b[0;32m    499\u001b[0m                      \u001b[38;5;124mf\u001b[39m\u001b[38;5;124m\"\u001b[39m\u001b[38;5;124mhave shapes \u001b[39m\u001b[38;5;132;01m{\u001b[39;00mx\u001b[38;5;241m.\u001b[39mshape\u001b[38;5;132;01m}\u001b[39;00m\u001b[38;5;124m and \u001b[39m\u001b[38;5;132;01m{\u001b[39;00my\u001b[38;5;241m.\u001b[39mshape\u001b[38;5;132;01m}\u001b[39;00m\u001b[38;5;124m\"\u001b[39m)\n\u001b[0;32m    500\u001b[0m \u001b[38;5;28;01mif\u001b[39;00m x\u001b[38;5;241m.\u001b[39mndim \u001b[38;5;241m>\u001b[39m \u001b[38;5;241m2\u001b[39m \u001b[38;5;129;01mor\u001b[39;00m y\u001b[38;5;241m.\u001b[39mndim \u001b[38;5;241m>\u001b[39m \u001b[38;5;241m2\u001b[39m:\n\u001b[0;32m    501\u001b[0m     \u001b[38;5;28;01mraise\u001b[39;00m \u001b[38;5;167;01mValueError\u001b[39;00m(\u001b[38;5;124mf\u001b[39m\u001b[38;5;124m\"\u001b[39m\u001b[38;5;124mx and y can be no greater than 2D, but have \u001b[39m\u001b[38;5;124m\"\u001b[39m\n\u001b[0;32m    502\u001b[0m                      \u001b[38;5;124mf\u001b[39m\u001b[38;5;124m\"\u001b[39m\u001b[38;5;124mshapes \u001b[39m\u001b[38;5;132;01m{\u001b[39;00mx\u001b[38;5;241m.\u001b[39mshape\u001b[38;5;132;01m}\u001b[39;00m\u001b[38;5;124m and \u001b[39m\u001b[38;5;132;01m{\u001b[39;00my\u001b[38;5;241m.\u001b[39mshape\u001b[38;5;132;01m}\u001b[39;00m\u001b[38;5;124m\"\u001b[39m)\n",
      "\u001b[1;31mValueError\u001b[0m: x and y must have same first dimension, but have shapes (2,) and (1,)"
     ]
    },
    {
     "data": {
      "image/png": "[encoded data removed]",
      "text/plain": [
       "<Figure size 720x432 with 1 Axes>"
      ]
     },
     "metadata": {
      "needs_background": "light"
     },
     "output_type": "display_data"
    }
   ],
   "source": [
    "plot_entanglement_entropy(nQubits=3)"
   ]
  },
  {
   "cell_type": "markdown",
   "metadata": {},
   "source": [
    "As a class object instead of a function"
   ]
  },
  {
   "cell_type": "code",
   "execution_count": null,
   "metadata": {},
   "outputs": [
    {
     "name": "stdout",
     "output_type": "stream",
     "text": [
      "Entanglement Entropy:\n",
      "(8.577722564158611e-15-0j)\n"
     ]
    },
    {
     "name": "stderr",
     "output_type": "stream",
     "text": [
      "C:\\Users\\Acer Aspire 5\\AppData\\Local\\Temp\\ipykernel_16252\\302637967.py:33: DeprecationWarning: Conversion of an array with ndim > 0 to a scalar is deprecated, and will error in future. Ensure you extract a single element from your array before performing this operation. (Deprecated NumPy 1.25.)\n",
      "  matrix[i, k] = self.Partial_Trace_Subsystem_B_v2(i+1, k+1, normalized_Psi_AB, basis_B)\n"
     ]
    }
   ],
   "source": [
    "import numpy as np\n",
    "\n",
    "class QuantumSubsystem:\n",
    "    def __init__(self, nQubits=8, min_val=0, max_val=1):\n",
    "        self.nQubits = nQubits\n",
    "        self.min_val = min_val\n",
    "        self.max_val = max_val\n",
    "\n",
    "    def Psi_indexed(self, i, j, normalized_Psi_AB, basis_B):\n",
    "        if isinstance(i, int) and i > 0 and i <= len(normalized_Psi_AB) // len(basis_B) and isinstance(j, int) and j > 0 and j <= len(basis_B):\n",
    "            return normalized_Psi_AB[(i-1) * len(basis_B) + (j-1)]\n",
    "        else:\n",
    "            raise ValueError(\"Index out of range.\")\n",
    "\n",
    "    def Psi_indexed_conjugate(self, i, j, normalized_Psi_AB, basis_B):\n",
    "        return np.conjugate(self.Psi_indexed(i, j, normalized_Psi_AB, basis_B))\n",
    "\n",
    "    def Density_Matrix_Psi_AB(self, i, j, k, l, normalized_Psi_AB, basis_B):\n",
    "        Psi_i_j = self.Psi_indexed(i, j, normalized_Psi_AB, basis_B)\n",
    "        Psi_k_l_conjugate = self.Psi_indexed_conjugate(k, l, normalized_Psi_AB, basis_B)\n",
    "        return Psi_i_j * Psi_k_l_conjugate\n",
    "\n",
    "    def Partial_Trace_Subsystem_B_v2(self, i, k, normalized_Psi_AB, basis_B):\n",
    "        result = 0\n",
    "        for j in range(len(basis_B)):\n",
    "            result += self.Density_Matrix_Psi_AB(i, j+1, k, j+1, normalized_Psi_AB, basis_B)\n",
    "        return result\n",
    "\n",
    "    def generate_partial_trace_matrix(self, basis_A, basis_B, normalized_Psi_AB):\n",
    "        matrix = np.zeros((len(basis_A), len(basis_A)))\n",
    "        for i in range(len(basis_A)):\n",
    "            for k in range(len(basis_A)):\n",
    "                matrix[i, k] = self.Partial_Trace_Subsystem_B_v2(i+1, k+1, normalized_Psi_AB, basis_B)\n",
    "        return matrix\n",
    "\n",
    "    def calculate_eigenvalues(self, matrix):\n",
    "        eigenvalues, eigenvectors = np.linalg.eig(matrix)\n",
    "        return eigenvalues, eigenvectors\n",
    "\n",
    "    def entanglement_entropy_internal(self, eigenvalues):\n",
    "        sum_of_EE = 0\n",
    "        for i in eigenvalues:\n",
    "            if i > 0:  # Ensure we don't take the log of zero\n",
    "                lambda_log_lambda = i * np.log(i)\n",
    "                sum_of_EE += lambda_log_lambda\n",
    "\n",
    "        entropy = -sum_of_EE\n",
    "\n",
    "        # Replace NaN or -inf with 0\n",
    "        if np.isnan(entropy) or np.isinf(entropy):\n",
    "            entropy = 0\n",
    "\n",
    "        return entropy\n",
    "\n",
    "    def Entanglement_Entropy(self):\n",
    "        for n_A in range(1, self.nQubits-1):\n",
    "            n_B = self.nQubits - n_A\n",
    "            basis_A = np.random.uniform(self.min_val, self.max_val, (2**n_A, 1))\n",
    "            basis_B = np.random.uniform(self.min_val, self.max_val, (2**n_B, 1))\n",
    "            Psi_AB = np.kron(basis_A, basis_B)\n",
    "\n",
    "            # Normalize the statevector\n",
    "            norm = np.linalg.norm(Psi_AB)\n",
    "            normalized_Psi_AB = Psi_AB / norm\n",
    "\n",
    "            partial_trace_matrix = self.generate_partial_trace_matrix(basis_A, basis_B, normalized_Psi_AB)\n",
    "\n",
    "            # Take the eigenvalues of the partial_trace matrix\n",
    "            eigenvalues, eigenvectors = self.calculate_eigenvalues(partial_trace_matrix)\n",
    "\n",
    "            EE_final_value = self.entanglement_entropy_internal(eigenvalues)\n",
    "\n",
    "        return EE_final_value\n",
    "\n",
    "# Example usage\n",
    "if __name__ == \"__main__\":\n",
    "    quantum_subsystem = QuantumSubsystem(nQubits=8, min_val=0, max_val=1)\n",
    "    EE_value = quantum_subsystem.Entanglement_Entropy()\n",
    "    print(\"Entanglement Entropy:\")\n",
    "    print(EE_value)\n"
   ]
  },
  {
   "cell_type": "code",
   "execution_count": null,
   "metadata": {},
   "outputs": [
    {
     "name": "stdout",
     "output_type": "stream",
     "text": [
      "Entanglement Entropy:\n",
      "(1.1944928500817369e-14-0j)\n"
     ]
    },
    {
     "name": "stderr",
     "output_type": "stream",
     "text": [
      "C:\\Users\\Acer Aspire 5\\AppData\\Local\\Temp\\ipykernel_16252\\302637967.py:33: DeprecationWarning: Conversion of an array with ndim > 0 to a scalar is deprecated, and will error in future. Ensure you extract a single element from your array before performing this operation. (Deprecated NumPy 1.25.)\n",
      "  matrix[i, k] = self.Partial_Trace_Subsystem_B_v2(i+1, k+1, normalized_Psi_AB, basis_B)\n"
     ]
    }
   ],
   "source": [
    "if __name__ == \"__main__\":\n",
    "    quantum_subsystem = QuantumSubsystem(nQubits=8, min_val=0, max_val=1)\n",
    "    EE_value = quantum_subsystem.Entanglement_Entropy()\n",
    "    print(\"Entanglement Entropy:\")\n",
    "    print(EE_value)"
   ]
  },
  {
   "cell_type": "markdown",
   "metadata": {},
   "source": [
    "## Version 3 of EE calculation"
   ]
  },
  {
   "cell_type": "markdown",
   "metadata": {},
   "source": [
    "First we define the random statevector"
   ]
  },
  {
   "cell_type": "code",
   "execution_count": 2,
   "metadata": {},
   "outputs": [],
   "source": [
    "import numpy as np\n",
    "import matplotlib.pyplot as plt"
   ]
  },
  {
   "cell_type": "code",
   "execution_count": 3,
   "metadata": {},
   "outputs": [],
   "source": [
    "def psi_initial_random_state_gaussian(nQubits = 8, mean = 0, std = 1):\n",
    "    \"\"\"\n",
    "    Generate a row vector of random zeros and ones, and then each of the components are multiplied by a constant taken from a Gaussian ensemble\n",
    "    for each of the components of the statevector.\n",
    "\n",
    "    Parameters:\n",
    "    nQubits (int): The length of the vector which corresponds to how many qubits.\n",
    "\n",
    "    Returns:\n",
    "    numpy.ndarray: A row vector of random numbers from [0, 1].\n",
    "    \"\"\"\n",
    "    if not isinstance(nQubits, int) or nQubits <= 0:\n",
    "        raise ValueError(\"The number of qubits must be a positive integer.\")\n",
    "    gaussian_ensemble = np.random.normal(mean, std, size = (2**nQubits, 1))\n",
    "    #print(f\"The gaussian ensemble for each of the components: \\n\", gaussian_ensemble)\n",
    "    normalized_gaussian_ensemble = gaussian_ensemble / np.linalg.norm(gaussian_ensemble)\n",
    "    return normalized_gaussian_ensemble"
   ]
  },
  {
   "cell_type": "code",
   "execution_count": 4,
   "metadata": {},
   "outputs": [
    {
     "name": "stdout",
     "output_type": "stream",
     "text": [
      "[[-0.00101543]\n",
      " [-0.28796163]\n",
      " [ 0.06998969]\n",
      " [-0.01740374]\n",
      " [-0.32522598]\n",
      " [-0.27514684]\n",
      " [-0.12663356]\n",
      " [ 0.41429789]\n",
      " [ 0.11546968]\n",
      " [-0.22017212]\n",
      " [ 0.26083822]\n",
      " [-0.05888088]\n",
      " [-0.00821254]\n",
      " [-0.59575279]\n",
      " [ 0.1815347 ]\n",
      " [ 0.14650212]]\n"
     ]
    }
   ],
   "source": [
    "gaussian_statevector = psi_initial_random_state_gaussian(4, 0, 1)\n",
    "print(gaussian_statevector)"
   ]
  },
  {
   "cell_type": "code",
   "execution_count": 5,
   "metadata": {},
   "outputs": [],
   "source": [
    "def psi_initial_random_state_uniform(nQubits = 8, min_val = 0, max_val = 1):\n",
    "    \"\"\"\n",
    "    Generate a row vector of random zeros and ones, and then each of the components are multiplied by a constant taken from a Gaussian ensemble\n",
    "    for each of the components of the statevector.\n",
    "\n",
    "    Parameters:\n",
    "    nQubits (int): The length of the vector which corresponds to how many qubits.\n",
    "\n",
    "    Returns:\n",
    "    numpy.ndarray: A row vector of random numbers from [0, 1].\n",
    "    \"\"\"\n",
    "    if not isinstance(nQubits, int) or nQubits <= 0:\n",
    "        raise ValueError(\"The number of qubits must be a positive integer.\")\n",
    "    uniform_ensemble = np.random.uniform(min_val, max_val, size = (2**nQubits, 1))\n",
    "    normalized_uniform_ensemble = uniform_ensemble / np.linalg.norm(uniform_ensemble)\n",
    "    #print(f\"The gaussian ensemble for each of the components: \\n\", gaussian_ensemble)\n",
    "    return normalized_uniform_ensemble"
   ]
  },
  {
   "cell_type": "code",
   "execution_count": 6,
   "metadata": {},
   "outputs": [
    {
     "name": "stdout",
     "output_type": "stream",
     "text": [
      "[[0.21424219]\n",
      " [0.19091433]\n",
      " [0.4610632 ]\n",
      " [0.36377477]\n",
      " [0.12225332]\n",
      " [0.24348477]\n",
      " [0.00192954]\n",
      " [0.19779281]\n",
      " [0.44908136]\n",
      " [0.28732674]\n",
      " [0.01504996]\n",
      " [0.29845466]\n",
      " [0.24688417]\n",
      " [0.13967053]\n",
      " [0.00993359]\n",
      " [0.07275626]]\n"
     ]
    }
   ],
   "source": [
    "uniform_statevector = psi_initial_random_state_uniform(4, 0, 1)\n",
    "print(uniform_statevector)"
   ]
  },
  {
   "cell_type": "code",
   "execution_count": 7,
   "metadata": {},
   "outputs": [
    {
     "data": {
      "text/plain": [
       "4.0"
      ]
     },
     "execution_count": 7,
     "metadata": {},
     "output_type": "execute_result"
    }
   ],
   "source": [
    "np.log2(len(uniform_statevector))"
   ]
  },
  {
   "cell_type": "markdown",
   "metadata": {},
   "source": [
    "Next is that we have the Psi_indexed function that can take specific qubits which will corresponds to the divided subsystems"
   ]
  },
  {
   "cell_type": "code",
   "execution_count": 8,
   "metadata": {},
   "outputs": [],
   "source": [
    "def Psi_indexed_v2(normalized_matrix, n_A, i, j):\n",
    "    n_B = int(np.log2(len(normalized_matrix)) - n_A)\n",
    "    if isinstance(i, int) and i > 0 and i <= 2**n_A and isinstance(j, int) and j > 0 and j <= 2**n_B:\n",
    "        return normalized_matrix[(i - 1) * 2**n_B + (j - 1)]\n",
    "    else:\n",
    "        return ValueError(\"Indices are out of bounds or not integers\")"
   ]
  },
  {
   "cell_type": "code",
   "execution_count": 9,
   "metadata": {},
   "outputs": [],
   "source": [
    "def Psi_indexed_conjugate_v2(normalized_matrix, n_A, k, l):\n",
    "    n_B = int(np.log2(len(normalized_matrix)) - n_A)\n",
    "    if isinstance(k, int) and k > 0 and k <= 2**n_A and isinstance(l, int) and l > 0 and l <= 2**n_B:\n",
    "        return np.conjugate(normalized_matrix[(k - 1) * 2**n_B + (l - 1)])\n",
    "    else:\n",
    "        return ValueError(\"Indices are out of bounds or not integers\")"
   ]
  },
  {
   "cell_type": "code",
   "execution_count": 10,
   "metadata": {},
   "outputs": [
    {
     "name": "stdout",
     "output_type": "stream",
     "text": [
      "[-0.00101543]\n",
      "[0.21424219]\n"
     ]
    }
   ],
   "source": [
    "test_gaussian_psi_indexed = Psi_indexed_v2(gaussian_statevector, 2, 1, 1)\n",
    "print(test_gaussian_psi_indexed)\n",
    "test_uniform_psi_indexed = Psi_indexed_v2(uniform_statevector, 2, 1, 1)\n",
    "print(test_uniform_psi_indexed)"
   ]
  },
  {
   "cell_type": "code",
   "execution_count": 11,
   "metadata": {},
   "outputs": [
    {
     "name": "stdout",
     "output_type": "stream",
     "text": [
      "[[4.58997155e-02 4.09019049e-02 9.87791893e-02 7.79359038e-02\n",
      "  2.61918196e-02 5.21647108e-02 4.13388364e-04 4.23755656e-02\n",
      "  9.62121745e-02 6.15575096e-02 3.22433577e-03 6.39415791e-02\n",
      "  5.28930047e-02 2.99233193e-02 2.12819509e-03 1.55874593e-02]\n",
      " [4.09019049e-02 3.64482831e-02 8.80235742e-02 6.94498189e-02\n",
      "  2.33399119e-02 4.64847335e-02 3.68376391e-04 3.77614836e-02\n",
      "  8.57360699e-02 5.48547933e-02 2.87325257e-03 5.69792724e-02\n",
      "  4.71337268e-02 2.66651056e-02 1.89646564e-03 1.38902120e-02]\n",
      " [9.87791893e-02 8.80235742e-02 2.12579275e-01 1.67723162e-01\n",
      "  5.63665086e-02 1.12261869e-01 8.89638792e-04 9.11949884e-02\n",
      "  2.07054891e-01 1.32475786e-01 6.93898144e-03 1.37606460e-01\n",
      "  1.13829205e-01 6.43969400e-02 4.58001502e-03 3.35452318e-02]\n",
      " [7.79359038e-02 6.94498189e-02 1.67723162e-01 1.32332086e-01\n",
      "  4.44726751e-02 8.85736185e-02 7.01917113e-04 7.19520366e-02\n",
      "  1.63364472e-01 1.04522220e-01 5.47479479e-03 1.08570276e-01\n",
      "  8.98102328e-02 5.08086143e-02 3.61359121e-03 2.64668902e-02]\n",
      " [2.61918196e-02 2.33399119e-02 5.63665086e-02 4.44726751e-02\n",
      "  1.49458751e-02 2.97668228e-02 2.35892387e-04 2.41808290e-02\n",
      "  5.49016893e-02 3.51266488e-02 1.83990728e-03 3.64870738e-02\n",
      "  3.01824101e-02 1.70751860e-02 1.21441498e-03 8.89469397e-03]\n",
      " [5.21647108e-02 4.64847335e-02 1.12261869e-01 8.85736185e-02\n",
      "  2.97668228e-02 5.92848350e-02 4.69813031e-04 4.81595388e-02\n",
      "  1.09344474e-01 6.99596862e-02 3.66443542e-03 7.26691648e-02\n",
      "  6.01125360e-02 3.40076465e-02 2.41867908e-03 1.77150403e-02]\n",
      " [4.13388364e-04 3.68376391e-04 8.89638792e-04 7.01917113e-04\n",
      "  2.35892387e-04 4.69813031e-04 3.72311544e-06 3.81648678e-04\n",
      "  8.66519388e-04 5.54407754e-04 2.90394587e-05 5.75879491e-04\n",
      "  4.76372292e-04 2.69499536e-04 1.91672449e-05 1.40385931e-04]\n",
      " [4.23755656e-02 3.77614836e-02 9.11949884e-02 7.19520366e-02\n",
      "  2.41808290e-02 4.81595388e-02 3.81648678e-04 3.91219976e-02\n",
      "  8.88250672e-02 5.68311647e-02 2.97677340e-03 5.90321869e-02\n",
      "  4.88319147e-02 2.76258266e-02 1.96479368e-03 1.43906645e-02]\n",
      " [9.62121745e-02 8.57360699e-02 2.07054891e-01 1.63364472e-01\n",
      "  5.49016893e-02 1.09344474e-01 8.66519388e-04 8.88250672e-02\n",
      "  2.01674072e-01 1.29033084e-01 6.75865532e-03 1.34030425e-01\n",
      "  1.10871079e-01 6.27234307e-02 4.46099231e-03 3.26734783e-02]\n",
      " [6.15575096e-02 5.48547933e-02 1.32475786e-01 1.04522220e-01\n",
      "  3.51266488e-02 6.99596862e-02 5.54407754e-04 5.68311647e-02\n",
      "  1.29033084e-01 8.25566554e-02 4.32425514e-03 8.57540038e-02\n",
      "  7.09364234e-02 4.01310770e-02 2.85418741e-03 2.09048176e-02]\n",
      " [3.22433577e-03 2.87325257e-03 6.93898144e-03 5.47479479e-03\n",
      "  1.83990728e-03 3.66443542e-03 2.90394587e-05 2.97677340e-03\n",
      "  6.75865532e-03 4.32425514e-03 2.26501212e-04 4.49172983e-03\n",
      "  3.71559618e-03 2.10203545e-03 1.49500177e-04 1.09497853e-03]\n",
      " [6.39415791e-02 5.69792724e-02 1.37606460e-01 1.08570276e-01\n",
      "  3.64870738e-02 7.26691648e-02 5.75879491e-04 5.90321869e-02\n",
      "  1.34030425e-01 8.57540038e-02 4.49172983e-03 8.90751827e-02\n",
      "  7.36837301e-02 4.16853192e-02 2.96472764e-03 2.17144432e-02]\n",
      " [5.28930047e-02 4.71337268e-02 1.13829205e-01 8.98102328e-02\n",
      "  3.01824101e-02 6.01125360e-02 4.76372292e-04 4.88319147e-02\n",
      "  1.10871079e-01 7.09364234e-02 3.71559618e-03 7.36837301e-02\n",
      "  6.09517929e-02 3.44824419e-02 2.45244730e-03 1.79623676e-02]\n",
      " [2.99233193e-02 2.66651056e-02 6.43969400e-02 5.08086143e-02\n",
      "  1.70751860e-02 3.40076465e-02 2.69499536e-04 2.76258266e-02\n",
      "  6.27234307e-02 4.01310770e-02 2.10203545e-03 4.16853192e-02\n",
      "  3.44824419e-02 1.95078560e-02 1.38743042e-03 1.01619045e-02]\n",
      " [2.12819509e-03 1.89646564e-03 4.58001502e-03 3.61359121e-03\n",
      "  1.21441498e-03 2.41867908e-03 1.91672449e-05 1.96479368e-03\n",
      "  4.46099231e-03 2.85418741e-03 1.49500177e-04 2.96472764e-03\n",
      "  2.45244730e-03 1.38743042e-03 9.86763058e-05 7.22731157e-04]\n",
      " [1.55874593e-02 1.38902120e-02 3.35452318e-02 2.64668902e-02\n",
      "  8.89469397e-03 1.77150403e-02 1.40385931e-04 1.43906645e-02\n",
      "  3.26734783e-02 2.09048176e-02 1.09497853e-03 2.17144432e-02\n",
      "  1.79623676e-02 1.01619045e-02 7.22731157e-04 5.29347265e-03]]\n"
     ]
    }
   ],
   "source": [
    "A = uniform_statevector\n",
    "#print(A)\n",
    "A_herm_conj = A.conj().T\n",
    "\n",
    "print(A @ A_herm_conj)"
   ]
  },
  {
   "cell_type": "code",
   "execution_count": 12,
   "metadata": {},
   "outputs": [
    {
     "name": "stdout",
     "output_type": "stream",
     "text": [
      "[-0.00101543]\n",
      "[0.21424219]\n"
     ]
    }
   ],
   "source": [
    "test_gaussian_psi_indexed = Psi_indexed_conjugate_v2(gaussian_statevector, 2, 1, 1)\n",
    "print(test_gaussian_psi_indexed)\n",
    "test_uniform_psi_indexed = Psi_indexed_conjugate_v2(uniform_statevector, 2, 1, 1)\n",
    "print(test_uniform_psi_indexed)"
   ]
  },
  {
   "cell_type": "code",
   "execution_count": 13,
   "metadata": {},
   "outputs": [],
   "source": [
    "def Density_Matrix_Psi_AB_v2(normalized_matrix, n_A, i, j, k, l):\n",
    "    dense_matrix = Psi_indexed_v2(normalized_matrix, n_A, i, j) * Psi_indexed_conjugate_v2(normalized_matrix, n_A, k, l)\n",
    "    return dense_matrix"
   ]
  },
  {
   "cell_type": "code",
   "execution_count": 14,
   "metadata": {},
   "outputs": [
    {
     "name": "stdout",
     "output_type": "stream",
     "text": [
      "[1.03110794e-06]\n",
      "[0.03644828]\n"
     ]
    }
   ],
   "source": [
    "test_gaussian_dense_matrix = Density_Matrix_Psi_AB_v2(gaussian_statevector, 1, i=1, j=1, k=1, l=1)\n",
    "print(test_gaussian_dense_matrix)\n",
    "test_uniform_dense_matrix = Density_Matrix_Psi_AB_v2(uniform_statevector, 2, i=1, j=2, k=1, l=2)\n",
    "print(test_uniform_dense_matrix)"
   ]
  },
  {
   "cell_type": "code",
   "execution_count": 15,
   "metadata": {},
   "outputs": [],
   "source": [
    "def Partial_Trace_Subsystem_B_v3(normalized_matrix, n_A, i, k):\n",
    "    result = 0\n",
    "    n_B = int(np.log2(len(normalized_matrix)) - n_A)\n",
    "    for j in range(1, 2**n_B):\n",
    "        result += Density_Matrix_Psi_AB_v2(normalized_matrix, n_A, i, j, k, j)\n",
    "    return result[0]"
   ]
  },
  {
   "cell_type": "code",
   "execution_count": 16,
   "metadata": {},
   "outputs": [
    {
     "name": "stdout",
     "output_type": "stream",
     "text": [
      "0.2856381560688396\n",
      "0.5014937932802284\n"
     ]
    }
   ],
   "source": [
    "PT_gaussian = Partial_Trace_Subsystem_B_v3(gaussian_statevector, 1, 1, 1)\n",
    "print(PT_gaussian)\n",
    "PT_uniform = Partial_Trace_Subsystem_B_v3(uniform_statevector, 1, 1, 1)\n",
    "print(PT_uniform)"
   ]
  },
  {
   "cell_type": "code",
   "execution_count": 17,
   "metadata": {},
   "outputs": [
    {
     "name": "stdout",
     "output_type": "stream",
     "text": [
      "[[ 0.08782149  0.07069893  0.08153986  0.18426784]\n",
      " [ 0.07069893  0.19751378 -0.01000495  0.14360204]\n",
      " [ 0.08153986 -0.01000495  0.12984559  0.17757104]\n",
      " [ 0.18426784  0.14360204  0.17757104  0.38794368]]\n"
     ]
    }
   ],
   "source": [
    "PT_matrix_gaussian = np.array([[Partial_Trace_Subsystem_B_v3(gaussian_statevector, 2, i+1, j+1) for j in range(2**2)] for i in range(2**2)])\n",
    "print(PT_matrix_gaussian)"
   ]
  },
  {
   "cell_type": "code",
   "execution_count": 18,
   "metadata": {},
   "outputs": [],
   "source": [
    "def partial_matrix_v3(normalized_matrix, n_A):\n",
    "    PT_matrix = np.array([[Partial_Trace_Subsystem_B_v3(normalized_matrix, n_A, i+1, j+1) for j in range(2**n_A)] for i in range(2**n_A)])\n",
    "    return PT_matrix"
   ]
  },
  {
   "cell_type": "code",
   "execution_count": 19,
   "metadata": {},
   "outputs": [],
   "source": [
    "PT_gaussian_nA_1 = partial_matrix_v3(gaussian_statevector, 1)\n",
    "PT_gaussian_nA_2 = partial_matrix_v3(gaussian_statevector, 2)\n",
    "PT_gaussian_nA_3 = partial_matrix_v3(gaussian_statevector, 3)"
   ]
  },
  {
   "cell_type": "code",
   "execution_count": 20,
   "metadata": {},
   "outputs": [
    {
     "name": "stdout",
     "output_type": "stream",
     "text": [
      "[0.14843676 0.65845763]\n",
      "[6.13103540e-01 1.84016776e-01 3.65916128e-17 6.00422019e-03]\n",
      "[ 0.00000000e+00  2.41099703e-01  1.03673664e-17  5.87411643e-18\n",
      " -4.74466164e-18 -2.16265713e-18 -1.27785452e-18  6.94763817e-21]\n"
     ]
    }
   ],
   "source": [
    "eigenval_PT_nA_1, eigenvec_PT_nA_1 = np.linalg.eig(PT_gaussian_nA_1)\n",
    "print(eigenval_PT_nA_1)\n",
    "eigenval_PT_nA_2, eigenvec_PT_nA_2 = np.linalg.eig(PT_gaussian_nA_2)\n",
    "print(eigenval_PT_nA_2)\n",
    "eigenval_PT_nA_3, eigenvec_PT_nA_3 = np.linalg.eig(PT_gaussian_nA_3)\n",
    "print(eigenval_PT_nA_3)"
   ]
  },
  {
   "cell_type": "markdown",
   "metadata": {},
   "source": [
    "next is to get each of the components and multiply it with its log like this,\n",
    "$$\n",
    "S_A = -Tr[\\lambda_A \\log{\\lambda_A}],\n",
    "$$\n",
    "where lambda is the eigenvalues we have calculated using `np.linalg.eig`"
   ]
  },
  {
   "cell_type": "code",
   "execution_count": 21,
   "metadata": {},
   "outputs": [],
   "source": [
    "def Entanglement_Entropy_lambda(eigenvalues_input):\n",
    "    sum_of_EE = 0\n",
    "    #epsilon = 1e-14\n",
    "    for i in eigenvalues_input:\n",
    "        if i > 0 :  # Ensure we don't take the log of zero\n",
    "            lambda_log_lambda = i * np.log(i)\n",
    "            sum_of_EE += lambda_log_lambda\n",
    "\n",
    "    entropy = -sum_of_EE\n",
    "\n",
    "    # Replace NaN or -inf with 0\n",
    "    if np.isnan(entropy) or np.isinf(entropy):\n",
    "        entropy = 0\n",
    "\n",
    "    return entropy"
   ]
  },
  {
   "cell_type": "code",
   "execution_count": 22,
   "metadata": {},
   "outputs": [
    {
     "name": "stdout",
     "output_type": "stream",
     "text": [
      "0.5582972918705005\n",
      "0.642147160824542\n",
      "0.34297511076883436\n"
     ]
    }
   ],
   "source": [
    "EE_gaussian_nA_1 = Entanglement_Entropy_lambda(eigenval_PT_nA_1)\n",
    "print(EE_gaussian_nA_1)\n",
    "EE_gaussian_nA_2 = Entanglement_Entropy_lambda(eigenval_PT_nA_2)\n",
    "print(EE_gaussian_nA_2)\n",
    "EE_gaussian_nA_3 = Entanglement_Entropy_lambda(eigenval_PT_nA_3)\n",
    "print(EE_gaussian_nA_3)"
   ]
  },
  {
   "cell_type": "markdown",
   "metadata": {},
   "source": [
    "Combining everything into 1 function"
   ]
  },
  {
   "cell_type": "code",
   "execution_count": 23,
   "metadata": {},
   "outputs": [],
   "source": [
    "def Entanglement_Entropy_COMBINED_uniform(normalized_statevector, n_A=1):\n",
    "    PT_matrix_uniform = np.array([[Partial_Trace_Subsystem_B_v3(normalized_statevector, n_A, i+1, j+1) for j in range(2**n_A)] for i in range(2**n_A)])\n",
    "    eigenval_PT_nA, eigenvec_PT_nA = np.linalg.eig(PT_matrix_uniform)\n",
    "    EE_final_result = Entanglement_Entropy_lambda(eigenval_PT_nA)\n",
    "    return EE_final_result"
   ]
  },
  {
   "cell_type": "code",
   "execution_count": 24,
   "metadata": {},
   "outputs": [
    {
     "name": "stdout",
     "output_type": "stream",
     "text": [
      "[[0.04138094]\n",
      " [0.00039287]\n",
      " [0.10061151]\n",
      " [0.03400253]\n",
      " [0.01493643]\n",
      " [0.01122252]\n",
      " [0.06798897]\n",
      " [0.00276532]\n",
      " [0.06678236]\n",
      " [0.10443234]\n",
      " [0.00401077]\n",
      " [0.00637168]\n",
      " [0.04928116]\n",
      " [0.010142  ]\n",
      " [0.05294018]\n",
      " [0.09141956]\n",
      " [0.06849024]\n",
      " [0.079198  ]\n",
      " [0.02704718]\n",
      " [0.03713735]\n",
      " [0.09682787]\n",
      " [0.07647116]\n",
      " [0.01984786]\n",
      " [0.08708782]\n",
      " [0.00835423]\n",
      " [0.00195799]\n",
      " [0.04206626]\n",
      " [0.0493775 ]\n",
      " [0.09632338]\n",
      " [0.07890839]\n",
      " [0.06161624]\n",
      " [0.03816459]\n",
      " [0.01667576]\n",
      " [0.08047048]\n",
      " [0.02200309]\n",
      " [0.07730758]\n",
      " [0.08614997]\n",
      " [0.07858982]\n",
      " [0.02345275]\n",
      " [0.04098562]\n",
      " [0.03023752]\n",
      " [0.04996714]\n",
      " [0.06076992]\n",
      " [0.02435005]\n",
      " [0.08074102]\n",
      " [0.03466124]\n",
      " [0.04329899]\n",
      " [0.08194922]\n",
      " [0.02813015]\n",
      " [0.09488834]\n",
      " [0.09219798]\n",
      " [0.08534299]\n",
      " [0.01790039]\n",
      " [0.03198575]\n",
      " [0.09902877]\n",
      " [0.10577539]\n",
      " [0.06821143]\n",
      " [0.01468276]\n",
      " [0.02457677]\n",
      " [0.07189029]\n",
      " [0.07885168]\n",
      " [0.04681025]\n",
      " [0.05176581]\n",
      " [0.0442446 ]\n",
      " [0.05062842]\n",
      " [0.03202023]\n",
      " [0.03689874]\n",
      " [0.03440954]\n",
      " [0.06853856]\n",
      " [0.03921796]\n",
      " [0.10001051]\n",
      " [0.02654699]\n",
      " [0.04184853]\n",
      " [0.05861246]\n",
      " [0.02291602]\n",
      " [0.01395058]\n",
      " [0.00243957]\n",
      " [0.10605264]\n",
      " [0.09450849]\n",
      " [0.05479951]\n",
      " [0.05429931]\n",
      " [0.10096113]\n",
      " [0.05021226]\n",
      " [0.0185417 ]\n",
      " [0.03180049]\n",
      " [0.08638701]\n",
      " [0.00588032]\n",
      " [0.07752572]\n",
      " [0.06467458]\n",
      " [0.09560502]\n",
      " [0.08549336]\n",
      " [0.00210251]\n",
      " [0.00429303]\n",
      " [0.08144653]\n",
      " [0.04175843]\n",
      " [0.06652161]\n",
      " [0.09986527]\n",
      " [0.02142646]\n",
      " [0.10340032]\n",
      " [0.08053721]\n",
      " [0.0189729 ]\n",
      " [0.05974958]\n",
      " [0.01704683]\n",
      " [0.043395  ]\n",
      " [0.10293811]\n",
      " [0.07904311]\n",
      " [0.09697359]\n",
      " [0.02078748]\n",
      " [0.05378519]\n",
      " [0.10353293]\n",
      " [0.09898451]\n",
      " [0.08326545]\n",
      " [0.05403225]\n",
      " [0.09545747]\n",
      " [0.08150289]\n",
      " [0.04513536]\n",
      " [0.01501758]\n",
      " [0.0221286 ]\n",
      " [0.03224805]\n",
      " [0.05764263]\n",
      " [0.0480651 ]\n",
      " [0.05005494]\n",
      " [0.06531154]\n",
      " [0.0663101 ]\n",
      " [0.09184145]\n",
      " [0.01195633]\n",
      " [0.08389529]\n",
      " [0.0604474 ]\n",
      " [0.00247799]\n",
      " [0.07917283]\n",
      " [0.01057444]\n",
      " [0.10385021]\n",
      " [0.09847836]\n",
      " [0.05543489]\n",
      " [0.0718587 ]\n",
      " [0.01814815]\n",
      " [0.0089988 ]\n",
      " [0.0831417 ]\n",
      " [0.00362143]\n",
      " [0.00403471]\n",
      " [0.04273251]\n",
      " [0.10610364]\n",
      " [0.05565095]\n",
      " [0.07502021]\n",
      " [0.07109246]\n",
      " [0.03899823]\n",
      " [0.07080876]\n",
      " [0.08473911]\n",
      " [0.04519714]\n",
      " [0.01518254]\n",
      " [0.10263694]\n",
      " [0.10206341]\n",
      " [0.00696194]\n",
      " [0.06076447]\n",
      " [0.06348395]\n",
      " [0.10442333]\n",
      " [0.08980949]\n",
      " [0.00079885]\n",
      " [0.10078067]\n",
      " [0.05121986]\n",
      " [0.0349484 ]\n",
      " [0.07310582]\n",
      " [0.08779328]\n",
      " [0.02464061]\n",
      " [0.04816358]\n",
      " [0.07396517]\n",
      " [0.0577062 ]\n",
      " [0.0471553 ]\n",
      " [0.00819522]\n",
      " [0.06826886]\n",
      " [0.07392557]\n",
      " [0.07607026]\n",
      " [0.0241525 ]\n",
      " [0.0833724 ]\n",
      " [0.03286331]\n",
      " [0.07493422]\n",
      " [0.03263886]\n",
      " [0.07804753]\n",
      " [0.06677551]\n",
      " [0.00842748]\n",
      " [0.03047948]\n",
      " [0.07133547]\n",
      " [0.07485855]\n",
      " [0.09377618]\n",
      " [0.09308815]\n",
      " [0.0899307 ]\n",
      " [0.07789308]\n",
      " [0.01637647]\n",
      " [0.03948164]\n",
      " [0.00568026]\n",
      " [0.08359592]\n",
      " [0.03385152]\n",
      " [0.10186388]\n",
      " [0.01164565]\n",
      " [0.0430364 ]\n",
      " [0.00146877]\n",
      " [0.03408152]\n",
      " [0.07270674]\n",
      " [0.06127157]\n",
      " [0.07288244]\n",
      " [0.01264136]\n",
      " [0.04315189]\n",
      " [0.01285625]\n",
      " [0.01190653]\n",
      " [0.01701399]\n",
      " [0.07746116]\n",
      " [0.0595017 ]\n",
      " [0.04516018]\n",
      " [0.06587442]\n",
      " [0.03354903]\n",
      " [0.01358058]\n",
      " [0.03981671]\n",
      " [0.05546567]\n",
      " [0.10410437]\n",
      " [0.06037911]\n",
      " [0.10132196]\n",
      " [0.1059269 ]\n",
      " [0.03060557]\n",
      " [0.00871576]\n",
      " [0.0766861 ]\n",
      " [0.01369639]\n",
      " [0.08986367]\n",
      " [0.02043545]\n",
      " [0.01499292]\n",
      " [0.03804453]\n",
      " [0.02487387]\n",
      " [0.06997762]\n",
      " [0.04140464]\n",
      " [0.08308052]\n",
      " [0.06732502]\n",
      " [0.10319953]\n",
      " [0.08331985]\n",
      " [0.09761562]\n",
      " [0.08848428]\n",
      " [0.04415542]\n",
      " [0.0572361 ]\n",
      " [0.0340884 ]\n",
      " [0.10012308]\n",
      " [0.00599101]\n",
      " [0.09728703]\n",
      " [0.01115888]\n",
      " [0.0124886 ]\n",
      " [0.10493637]\n",
      " [0.02070727]\n",
      " [0.04226147]\n",
      " [0.07470391]\n",
      " [0.04522405]\n",
      " [0.05002751]\n",
      " [0.09791232]\n",
      " [0.08777809]\n",
      " [0.02718908]\n",
      " [0.03782945]\n",
      " [0.02407446]\n",
      " [0.0077432 ]\n",
      " [0.04942667]\n",
      " [0.03270203]]\n"
     ]
    }
   ],
   "source": [
    "uniform_statevector_test = psi_initial_random_state_uniform(8, 0, 1)\n",
    "print(uniform_statevector_test)"
   ]
  },
  {
   "cell_type": "code",
   "execution_count": 25,
   "metadata": {},
   "outputs": [
    {
     "data": {
      "text/plain": [
       "0.3575558630370961"
      ]
     },
     "execution_count": 25,
     "metadata": {},
     "output_type": "execute_result"
    }
   ],
   "source": [
    "Entanglement_Entropy_COMBINED_uniform(uniform_statevector_test, 1)"
   ]
  },
  {
   "cell_type": "code",
   "execution_count": 26,
   "metadata": {},
   "outputs": [],
   "source": [
    "def plot_entanglement_entropy_qubits(normalized_statevector):\n",
    "    fig, ax = plt.subplots()\n",
    "    EE_list = []\n",
    "\n",
    "    n_A_values = int(np.log2(len(normalized_statevector)) - 1)\n",
    "\n",
    "    for i in range(n_A_values):\n",
    "        EE_value = Entanglement_Entropy_COMBINED_uniform(normalized_statevector, i+1)\n",
    "        EE_list.append(EE_value)\n",
    "    \n",
    "    # Plot the entanglement entropy values\n",
    "    ax.plot(range(1, n_A_values+1), EE_list, marker='o', linestyle='-', color='b', label='Entanglement Entropy')\n",
    "    \n",
    "    # Set the title and labels\n",
    "    ax.set_title('Entanglement Entropy vs. Subsystem Size')\n",
    "    ax.set_xlabel('Number of Qubits in Subsystem A')\n",
    "    ax.set_ylabel('Entanglement Entropy')\n",
    "    \n",
    "    # Add a grid\n",
    "    ax.grid(True)\n",
    "    \n",
    "    # Add a legend\n",
    "    ax.legend()\n",
    "    \n",
    "    # Display the plot\n",
    "    plt.show()\n",
    "    \n",
    "    return EE_list\n"
   ]
  },
  {
   "cell_type": "code",
   "execution_count": 37,
   "metadata": {},
   "outputs": [
    {
     "name": "stdout",
     "output_type": "stream",
     "text": [
      "[[0.07424418]\n",
      " [0.10285257]\n",
      " [0.13680919]\n",
      " [0.11081724]\n",
      " [0.14605674]\n",
      " [0.05465108]\n",
      " [0.00134137]\n",
      " [0.14521467]\n",
      " [0.15193005]\n",
      " [0.06975838]\n",
      " [0.12296256]\n",
      " [0.04046332]\n",
      " [0.10281296]\n",
      " [0.12566027]\n",
      " [0.13791355]\n",
      " [0.04945432]\n",
      " [0.03587269]\n",
      " [0.1363053 ]\n",
      " [0.09574146]\n",
      " [0.15467189]\n",
      " [0.0577992 ]\n",
      " [0.09895452]\n",
      " [0.05080009]\n",
      " [0.11549125]\n",
      " [0.10227689]\n",
      " [0.00267262]\n",
      " [0.00621897]\n",
      " [0.01642229]\n",
      " [0.02256264]\n",
      " [0.07056746]\n",
      " [0.10351514]\n",
      " [0.11881569]\n",
      " [0.11798984]\n",
      " [0.08359071]\n",
      " [0.14999231]\n",
      " [0.07947119]\n",
      " [0.04233042]\n",
      " [0.10399446]\n",
      " [0.12559662]\n",
      " [0.03065572]\n",
      " [0.0887419 ]\n",
      " [0.12404349]\n",
      " [0.10908275]\n",
      " [0.10016146]\n",
      " [0.0155587 ]\n",
      " [0.09846541]\n",
      " [0.02638756]\n",
      " [0.12876876]\n",
      " [0.00608616]\n",
      " [0.04260437]\n",
      " [0.00778701]\n",
      " [0.05635236]\n",
      " [0.04241713]\n",
      " [0.11111375]\n",
      " [0.05448758]\n",
      " [0.02303334]\n",
      " [0.15517525]\n",
      " [0.08172609]\n",
      " [0.05548434]\n",
      " [0.08985567]\n",
      " [0.05394996]\n",
      " [0.09300055]\n",
      " [0.08214815]\n",
      " [0.13184601]\n",
      " [0.07961237]\n",
      " [0.12870461]\n",
      " [0.00645666]\n",
      " [0.03571656]\n",
      " [0.14326306]\n",
      " [0.08320054]\n",
      " [0.13969901]\n",
      " [0.01894124]\n",
      " [0.10667759]\n",
      " [0.07887027]\n",
      " [0.12195901]\n",
      " [0.0655155 ]\n",
      " [0.00295429]\n",
      " [0.08304225]\n",
      " [0.08547743]\n",
      " [0.04454445]\n",
      " [0.11405958]\n",
      " [0.00828576]\n",
      " [0.15151798]\n",
      " [0.10238498]\n",
      " [0.12932706]\n",
      " [0.03423579]\n",
      " [0.15507356]\n",
      " [0.07350693]\n",
      " [0.09438048]\n",
      " [0.02680061]\n",
      " [0.06182388]\n",
      " [0.03032489]\n",
      " [0.03029124]\n",
      " [0.02260953]\n",
      " [0.06452733]\n",
      " [0.06945787]\n",
      " [0.05941663]\n",
      " [0.01573186]\n",
      " [0.0363113 ]\n",
      " [0.12553618]\n",
      " [0.03401486]\n",
      " [0.03402716]\n",
      " [0.09708454]\n",
      " [0.08675815]\n",
      " [0.03548514]\n",
      " [0.14489214]\n",
      " [0.06846822]\n",
      " [0.01342822]\n",
      " [0.09145672]\n",
      " [0.11550164]\n",
      " [0.01250508]\n",
      " [0.06842715]\n",
      " [0.0465704 ]\n",
      " [0.01621074]\n",
      " [0.0532378 ]\n",
      " [0.07797621]\n",
      " [0.01254989]\n",
      " [0.02257219]\n",
      " [0.12481335]\n",
      " [0.1366365 ]\n",
      " [0.11025753]\n",
      " [0.09195763]\n",
      " [0.04230328]\n",
      " [0.12202016]\n",
      " [0.04728757]\n",
      " [0.09879505]\n",
      " [0.07989171]\n",
      " [0.03468302]]\n"
     ]
    },
    {
     "data": {
      "image/png": "[encoded data removed]",
      "text/plain": [
       "<Figure size 432x288 with 1 Axes>"
      ]
     },
     "metadata": {
      "needs_background": "light"
     },
     "output_type": "display_data"
    },
    {
     "data": {
      "text/plain": [
       "[0.3619231040497556,\n",
       " 0.70538968170633,\n",
       " 0.8885312832075855,\n",
       " (0.8046409943540617-0j),\n",
       " (0.6221658036164902-0j),\n",
       " (0.34155266481501845-0j)]"
      ]
     },
     "execution_count": 37,
     "metadata": {},
     "output_type": "execute_result"
    }
   ],
   "source": [
    "uniform_statevector_test = psi_initial_random_state_uniform(7, 0, 1)\n",
    "print(uniform_statevector_test)\n",
    "plot_entanglement_entropy_qubits(uniform_statevector_test)"
   ]
  },
  {
   "cell_type": "code",
   "execution_count": 31,
   "metadata": {},
   "outputs": [],
   "source": [
    "gaussian_statevector_test = psi_initial_random_state_gaussian(10, 0, 1)"
   ]
  },
  {
   "cell_type": "code",
   "execution_count": 32,
   "metadata": {},
   "outputs": [
    {
     "data": {
      "image/png": "[encoded data removed]",
      "text/plain": [
       "<Figure size 432x288 with 1 Axes>"
      ]
     },
     "metadata": {
      "needs_background": "light"
     },
     "output_type": "display_data"
    },
    {
     "data": {
      "text/plain": [
       "[0.6876935915953176,\n",
       " 1.372925782867458,\n",
       " 2.044106951655724,\n",
       " 2.6360525793099665,\n",
       " 2.915319111930162,\n",
       " (2.5222617208511258-0j),\n",
       " (1.8063839447814576-0j),\n",
       " (1.0416737328245564-0j),\n",
       " (0.33527020133552926-0j)]"
      ]
     },
     "execution_count": 32,
     "metadata": {},
     "output_type": "execute_result"
    }
   ],
   "source": [
    "plot_entanglement_entropy_qubits(gaussian_statevector_test)"
   ]
  }
 ],
 "metadata": {
  "kernelspec": {
   "display_name": "Python 3",
   "language": "python",
   "name": "python3"
  },
  "language_info": {
   "codemirror_mode": {
    "name": "ipython",
    "version": 3
   },
   "file_extension": ".py",
   "mimetype": "text/x-python",
   "name": "python",
   "nbconvert_exporter": "python",
   "pygments_lexer": "ipython3",
   "version": "3.9.2"
  }
 },
 "nbformat": 4,
 "nbformat_minor": 2
}
