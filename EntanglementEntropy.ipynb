{
 "cells": [
  {
   "cell_type": "markdown",
   "metadata": {},
   "source": [
    "# Entanglement Entropy\n",
    "\n",
    "Here we explore how to calculate entropy using python.\n",
    "First lets see what are the things we have learned from chapter 11 Nielsen's book of quantum computation, and Vinay's lecture notes.\n",
    "\n",
    "## Pure and mixed states\n",
    "\n",
    "When we know the exact state of a quantum system, then we can say that the system is in a pure state. The density matrix of such system can be written as,\n",
    "\n",
    "$$\n",
    "\\hat{\\rho} = \\ket{\\psi}\\bra{\\psi}.\n",
    "$$\n",
    "The probability of getting this state is then 1, since we know exactly that the system are occupying the state $\\ket{\\psi}$. If we have no idea what state the quantum system currently occupy then the state is in a mixed state condition. Mixed states can be written as,\n",
    "\n",
    "$$\n",
    "\\hat{\\rho} = \\sum_i p_i \\ket{\\psi_i}\\bra{\\psi_i},\n",
    "$$\n",
    "where index \"$i$\" indicates the states that are possible for the system to be in. Example : A state of spin-1/2, and we say that the system have a probability 50% of being in an up or down state,\n",
    "\n",
    "$$\n",
    "\\hat{\\rho} = \\frac{1}{2}\\ket{\\psi_1}\\bra{\\psi_i} + \\frac{1}{2}\\ket{\\psi_2}\\bra{\\psi_2},\n",
    "$$\n",
    "with $\\ket{\\psi_1} = \\frac{1}{\\sqrt{2}}\\ket{0} + \\frac{1}{\\sqrt{2}}\\ket{1} $ and $\\ket{\\psi_2} = \\ket{1}$ as the two possible states the system could occupy."
   ]
  },
  {
   "cell_type": "markdown",
   "metadata": {},
   "source": [
    "First we import the necessary libraries in order to calculate the entropy"
   ]
  },
  {
   "cell_type": "code",
   "execution_count": 3,
   "metadata": {},
   "outputs": [],
   "source": [
    "import numpy as np\n",
    "import matplotlib as mpl\n",
    "import scipy as scp"
   ]
  },
  {
   "cell_type": "code",
   "execution_count": 4,
   "metadata": {},
   "outputs": [
    {
     "name": "stdout",
     "output_type": "stream",
     "text": [
      "Entanglement Entropy: 0.5895144857350482\n"
     ]
    }
   ],
   "source": [
    "from scipy.linalg import logm\n",
    "\n",
    "# Define the density matrix of the quantum spin chain\n",
    "Density_Matrix = np.array([[0.4, 0.2], [0.2, 0.6]])\n",
    "\n",
    "# Compute the eigenvalues of the density matrix\n",
    "Eigenvalues = np.linalg.eigvalsh(Density_Matrix)\n",
    "\n",
    "# Filter out eigenvalues close to zero\n",
    "Filtered_Eigenvalues = Eigenvalues[np.abs(Eigenvalues) > 1e-12]\n",
    "\n",
    "# Calculate the logarithm of the filtered eigenvalues\n",
    "Log_Eigenvalues = np.log(Filtered_Eigenvalues)\n",
    "\n",
    "# Compute the entanglement entropy using the von Neumann entropy formula\n",
    "Entanglement_Entropy = -np.sum(Filtered_Eigenvalues * Log_Eigenvalues)\n",
    "\n",
    "print(\"Entanglement Entropy:\", Entanglement_Entropy)"
   ]
  },
  {
   "cell_type": "markdown",
   "metadata": {},
   "source": [
    "Von-neumann entropy"
   ]
  },
  {
   "cell_type": "code",
   "execution_count": 5,
   "metadata": {},
   "outputs": [
    {
     "name": "stdout",
     "output_type": "stream",
     "text": [
      "Von Neumann Entropy: 0.6319259215440223\n"
     ]
    }
   ],
   "source": [
    "import numpy as np\n",
    "from scipy.linalg import logm\n",
    "\n",
    "# Define the reduced density matrix\n",
    "rho_A = np.array([[0.7, 0.6], [0.3, 0.4]])\n",
    "\n",
    "# Compute the eigenvalues of the reduced density matrix\n",
    "eigenvalues = np.linalg.eigvalsh(rho_A)\n",
    "\n",
    "# Filter out eigenvalues close to zero\n",
    "#filtered_eigenvalues = eigenvalues[np.abs(eigenvalues) > 1e-12]\n",
    "\n",
    "# Compute the logarithm of the filtered eigenvalues\n",
    "#log_eigenvalues = np.log2(filtered_eigenvalues)\n",
    "log_eigenvalues = np.log2(eigenvalues)\n",
    "\n",
    "# Compute the von Neumann entropy using the filtered eigenvalues\n",
    "#entropy = -np.sum(filtered_eigenvalues * log_eigenvalues)\n",
    "entropy = -np.sum(eigenvalues * log_eigenvalues)\n",
    "\n",
    "print(\"Von Neumann Entropy:\", entropy)"
   ]
  },
  {
   "cell_type": "markdown",
   "metadata": {},
   "source": [
    "## Qiskit\n"
   ]
  },
  {
   "cell_type": "code",
   "execution_count": 6,
   "metadata": {},
   "outputs": [],
   "source": [
    "import qiskit "
   ]
  },
  {
   "cell_type": "markdown",
   "metadata": {},
   "source": [
    "First quantum circuit, its an entangled state called the GHZ Gate. This example is from https://github.com/Qiskit/qiskit\n",
    "\n",
    "$$\n",
    "\\ket{\\psi_3} = \\ket{000} + i\\ket{111}\n",
    "$$"
   ]
  },
  {
   "cell_type": "code",
   "execution_count": 7,
   "metadata": {},
   "outputs": [
    {
     "data": {
      "text/plain": [
       "<qiskit.circuit.instructionset.InstructionSet at 0x1bc4b187460>"
      ]
     },
     "execution_count": 7,
     "metadata": {},
     "output_type": "execute_result"
    }
   ],
   "source": [
    "from qiskit import QuantumCircuit\n",
    "\n",
    "# We have 3 qubits, and we want to prepare its initial states to be in |000> + i|111>.\n",
    "qc_GHZ = QuantumCircuit(3) # This means that we initialize 3 different qubits\n",
    "qc_GHZ.h(0) # Hadamard gate, applied to qubit index (0)\n",
    "qc_GHZ.p(np.pi/2,0) # p here refers to the quantum phase of the qubit. So we're adding a phase of pi/2 to the state. The second position\n",
    "                    # refers to which qubit you want this phase to be applied to, which here we're applying a phase of pi/2 to the '0' qubit.\n",
    "qc_GHZ.cx(0, 1) # cx refers to a CNOT gate. The term means that the '0' qubit controls the NOT gate of the '1' qubit\n",
    "qc_GHZ.cx(0, 2) # cx refers to a CNOT gate. The term now means that the '0' qubit controls the NOT gate of the '2' qubit \n",
    "\n",
    "# We can also write the last two lines of code as\n",
    "# qc_GHZ.cx(0, range(1, 2)) or more than 2 if we use more than 3 qubits. Such as if we use 5 qubits, then we would need to apply a CNOT gate from '0' qubit\n",
    "# to the rest of the qubit written as qc_GHZ.cx(0, range(1, 5))"
   ]
  },
  {
   "cell_type": "code",
   "execution_count": 8,
   "metadata": {},
   "outputs": [
    {
     "name": "stdout",
     "output_type": "stream",
     "text": [
      "1\n",
      "2\n",
      "3\n",
      "4\n"
     ]
    }
   ],
   "source": [
    "X = range(1,5)\n",
    "for i in X:\n",
    "    print(i)"
   ]
  },
  {
   "cell_type": "markdown",
   "metadata": {},
   "source": [
    "we can draw the circuit using the function `.draw()`"
   ]
  },
  {
   "cell_type": "code",
   "execution_count": 9,
   "metadata": {},
   "outputs": [
    {
     "data": {
      "text/html": [
       "<pre style=\"word-wrap: normal;white-space: pre;background: #fff0;line-height: 1.1;font-family: &quot;Courier New&quot;,Courier,monospace\">     ┌───┐┌────────┐          \n",
       "q_0: ┤ H ├┤ P(π/2) ├──■────■──\n",
       "     └───┘└────────┘┌─┴─┐  │  \n",
       "q_1: ───────────────┤ X ├──┼──\n",
       "                    └───┘┌─┴─┐\n",
       "q_2: ────────────────────┤ X ├\n",
       "                         └───┘</pre>"
      ],
      "text/plain": [
       "     ┌───┐┌────────┐          \n",
       "q_0: ┤ H ├┤ P(π/2) ├──■────■──\n",
       "     └───┘└────────┘┌─┴─┐  │  \n",
       "q_1: ───────────────┤ X ├──┼──\n",
       "                    └───┘┌─┴─┐\n",
       "q_2: ────────────────────┤ X ├\n",
       "                         └───┘"
      ]
     },
     "execution_count": 9,
     "metadata": {},
     "output_type": "execute_result"
    }
   ],
   "source": [
    "qc_GHZ.draw()"
   ]
  },
  {
   "cell_type": "markdown",
   "metadata": {},
   "source": [
    "Next that we have the quantum circuit initialized, we can start to choose which primitive function we want to use. Here we use `sampler` with the function of `measure_all(inplace = False)` to get a copy of all the circuits which all the qubits are measured"
   ]
  },
  {
   "cell_type": "code",
   "execution_count": 10,
   "metadata": {},
   "outputs": [],
   "source": [
    "# We now add a classical output in a form of a measurement of all the qubits in the circuits\n",
    "qc_measured = qc_GHZ.measure_all(inplace=False) # Inplace means that it will replace the circuits with a new one after measurements\n"
   ]
  },
  {
   "cell_type": "markdown",
   "metadata": {},
   "source": [
    "We have both the initial quantum circuits with its initial states, and have a classical output in a form of a measurement of all the qubits. We can now execute the sampler primitive, and run multiple measurements using the sampler function."
   ]
  },
  {
   "cell_type": "code",
   "execution_count": 11,
   "metadata": {},
   "outputs": [
    {
     "name": "stdout",
     "output_type": "stream",
     "text": [
      " > Quasi probability distribution: [{0: 0.508, 7: 0.492}]\n"
     ]
    }
   ],
   "source": [
    "from qiskit.primitives.sampler import Sampler\n",
    "sampler = Sampler()\n",
    "job = sampler.run(qc_measured, shots = 1000)\n",
    "results = job.result()\n",
    "print(f\" > Quasi probability distribution: {results.quasi_dists}\")"
   ]
  },
  {
   "cell_type": "markdown",
   "metadata": {},
   "source": [
    "This run gives an output of |000> close to 50% of the time and |111> close to 50% of the time up to statistical fluctuations. Next we explore the use of an estimator by first using a quantum information toolbox of $XXY + XYX + YXX - YYY$ and pass it through a `run()` function. We will use our previous circuit of `gc_GHZ`.\n",
    "\n",
    "The first step is to define the observables we want to measure. Which in this case we want to measure the expectation value of measuring a 3 qubit system. "
   ]
  },
  {
   "cell_type": "code",
   "execution_count": 12,
   "metadata": {},
   "outputs": [
    {
     "name": "stdout",
     "output_type": "stream",
     "text": [
      " > Expectation values: [4.]\n"
     ]
    }
   ],
   "source": [
    "from qiskit.quantum_info import SparsePauliOp\n",
    "operator = SparsePauliOp.from_list([(\"XXY\", 1), (\"XYX\", 1), (\"YXX\", 1), (\"YYY\", -1)])\n",
    "\n",
    "# 3. Execute using the Estimator primitive\n",
    "from qiskit.primitives import Estimator\n",
    "estimator = Estimator()\n",
    "job = estimator.run(qc_GHZ, operator, shots=1000)\n",
    "result = job.result()\n",
    "print(f\" > Expectation values: {result.values}\")"
   ]
  },
  {
   "cell_type": "markdown",
   "metadata": {},
   "source": [
    "Experimenting with different value of 1/-1 for the operator will give out a different output/results."
   ]
  },
  {
   "cell_type": "markdown",
   "metadata": {},
   "source": [
    "## A simple N-qubit GHZ gate"
   ]
  },
  {
   "cell_type": "code",
   "execution_count": 13,
   "metadata": {},
   "outputs": [],
   "source": [
    "from qiskit.quantum_info import Statevector"
   ]
  },
  {
   "cell_type": "code",
   "execution_count": 14,
   "metadata": {},
   "outputs": [
    {
     "name": "stdout",
     "output_type": "stream",
     "text": [
      "     ┌───┐               \n",
      "q_0: ┤ H ├──■────────────\n",
      "     └───┘┌─┴─┐          \n",
      "q_1: ─────┤ X ├──■───────\n",
      "          └───┘┌─┴─┐     \n",
      "q_2: ──────────┤ X ├──■──\n",
      "               └───┘┌─┴─┐\n",
      "q_3: ───────────────┤ X ├\n",
      "                    └───┘\n",
      "Statevector([0.70710678+0.j, 0.        +0.j, 0.        +0.j,\n",
      "             0.        +0.j, 0.        +0.j, 0.        +0.j,\n",
      "             0.        +0.j, 0.        +0.j, 0.        +0.j,\n",
      "             0.        +0.j, 0.        +0.j, 0.        +0.j,\n",
      "             0.        +0.j, 0.        +0.j, 0.        +0.j,\n",
      "             0.70710678+0.j],\n",
      "            dims=(2, 2, 2, 2))\n",
      " > Quasi probability distribution: [{0: 0.518, 15: 0.482}]\n"
     ]
    }
   ],
   "source": [
    "def N_qubit_GHZ(n, no_simulation):\n",
    "    qc_nGHZ = QuantumCircuit(n) \n",
    "    qc_nGHZ.h(0) \n",
    "    for i in range(n-1):\n",
    "        qc_nGHZ.cx(i, i+1)\n",
    "    print(qc_nGHZ.draw())\n",
    "\n",
    "    qc_nGHZ_state = Statevector(qc_nGHZ)\n",
    "    print(qc_nGHZ_state)\n",
    "\n",
    "    qc_measured = qc_nGHZ.measure_all(inplace=False)\n",
    "    sampler = Sampler()\n",
    "    job = sampler.run(qc_measured, shots = no_simulation)\n",
    "    results = job.result()\n",
    "    print(f\" > Quasi probability distribution: {results.quasi_dists}\")\n",
    "\n",
    "    #final_index = (2**n)-1\n",
    "    #print(final_index)\n",
    "\n",
    "    #Prob_state_00 = (results.quasi_dists[0])[0]\n",
    "    #Prob_state_11 = (results.quasi_dists[0])[final_index]\n",
    "\n",
    "    #Entropy = entropy([[Prob_state_00, 0], [0, Prob_state_11]])\n",
    "    #print(f\" > Entanglement entropy of the first Bell state: {Entropy}\")\n",
    "N_qubit_GHZ(4, 1000)\n"
   ]
  },
  {
   "cell_type": "markdown",
   "metadata": {},
   "source": [
    "A better code for n-qubit GHZ gate are from https://docs.quantum.ibm.com/guides/hello-world"
   ]
  },
  {
   "cell_type": "code",
   "execution_count": 15,
   "metadata": {},
   "outputs": [],
   "source": [
    "from qiskit import QuantumCircuit\n",
    " \n",
    "def get_qc_for_n_qubit_GHZ_state(n: int) -> QuantumCircuit:\n",
    "    \"\"\"This function will create a qiskit.QuantumCircuit (qc) for an n-qubit GHZ state.\n",
    " \n",
    "    Args:\n",
    "        n (int): Number of qubits in the n-qubit GHZ state\n",
    " \n",
    "    Returns:\n",
    "        QuantumCircuit: Quantum circuit that generate the n-qubit GHZ state, assuming all qubits start in the 0 state\n",
    "    \"\"\"\n",
    "    if isinstance(n, int) and n >= 2:\n",
    "        qc = QuantumCircuit(n)\n",
    "        qc.h(0)\n",
    "        for i in range(n-1):\n",
    "            qc.cx(i, i+1)\n",
    "    else:\n",
    "        raise Exception(\"n is not a valid input\")\n",
    "    return qc\n",
    " \n",
    "# Create a new circuit with two qubits (first argument) and two classical\n",
    "# bits (second argument)\n",
    "n = 4\n",
    "qc = get_qc_for_n_qubit_GHZ_state(n)"
   ]
  },
  {
   "cell_type": "markdown",
   "metadata": {},
   "source": [
    "## Sparse Pauli Operator\n",
    "\n",
    "https://docs.quantum.ibm.com/guides/operators-overview\n"
   ]
  },
  {
   "cell_type": "code",
   "execution_count": 16,
   "metadata": {},
   "outputs": [
    {
     "name": "stdout",
     "output_type": "stream",
     "text": [
      "SparsePauliOp(['IZZ'],\n",
      "              coeffs=[1.+2.j])\n",
      "SparsePauliOp(['XIIZI', 'IYIIY'],\n",
      "              coeffs=[ 1.+0.j, -1.+1.j])\n"
     ]
    }
   ],
   "source": [
    "op_test = SparsePauliOp.from_sparse_list(\n",
    "    [('ZZ', [0, 1], 1 + 2j)], num_qubits=3\n",
    ")\n",
    "print(op_test)\n",
    "\n",
    "op1 = SparsePauliOp.from_sparse_list(\n",
    "    [(\"ZX\", [1, 4], 1.0), (\"YY\", [0, 3], -1 + 1j)], num_qubits=5\n",
    ")\n",
    "print(op1)\n"
   ]
  },
  {
   "cell_type": "markdown",
   "metadata": {},
   "source": [
    "# Observables with Pauli\n",
    "\n",
    "https://docs.quantum.ibm.com/guides/specify-observables-pauli\n",
    "\n",
    "Observables $\\rightarrow$ set of physical properties that can be measured. Such as spin, position, momentum, energy.\n",
    "Measuring $n$-qubit observable of $\\mathcal{O}$ on a quantum computers need to be represented by sum of products of Pauli operators.\n",
    "\n",
    "$$\n",
    "\\mathcal{O} = \\sum_{k=1}^{K} \\alpha_k P_k, P_k \\in \\{I, X, Y, Z\\}^{\\otimes n}, \\alpha_k \\in \\R.\n",
    "$$\n",
    "\n",
    "where $I$, $X, Y, Z$ as identity matrices, and x, y, z Pauli matrices respectively.\n",
    "We can try to write down the Hamiltonian for a 1+1 dimensional Ising model of a $-\\frac{1}{2}$ system as a combination of Paulis bases.\n",
    "The Hamiltonian for the Ising model,\n",
    "$$\n",
    "H = \\sum_{\\braket{i,j}} Z_i Z_j - \\sum_{i=1}^{n} X_i.\n",
    "$$\n",
    "\n",
    "We will first study a 1-dimensional Ising chain."
   ]
  },
  {
   "cell_type": "code",
   "execution_count": 17,
   "metadata": {},
   "outputs": [
    {
     "name": "stdout",
     "output_type": "stream",
     "text": [
      "[('ZZ', [0, 1], 1), ('ZZ', [1, 2], 1), ('ZZ', [2, 3], 1), ('ZZ', [3, 4], 1)]\n",
      "[('X', [0], -1), ('X', [1], -1), ('X', [2], -1), ('X', [3], -1), ('X', [4], -1)]\n"
     ]
    },
    {
     "data": {
      "text/plain": [
       "SparsePauliOp(['IIIZZ', 'IIZZI', 'IZZII', 'ZZIII', 'IIIIX', 'IIIXI', 'IIXII', 'IXIII', 'XIIII'],\n",
       "              coeffs=[ 1.+0.j,  1.+0.j,  1.+0.j,  1.+0.j, -1.+0.j, -1.+0.j, -1.+0.j, -1.+0.j,\n",
       " -1.+0.j])"
      ]
     },
     "execution_count": 17,
     "metadata": {},
     "output_type": "execute_result"
    }
   ],
   "source": [
    "from qiskit.quantum_info import SparsePauliOp\n",
    "# Define how many qubits you want to check out\n",
    "n=5\n",
    "\n",
    "# Define the interaction of the Ising model\n",
    "ising_interaction = [(\"ZZ\", [i, i+1], 1) for i in range(n-1)]\n",
    "ising_external_field = [(\"X\", [i], -1) for i in range(n)]\n",
    "\n",
    "print(ising_interaction)\n",
    "print(ising_external_field)\n",
    "\n",
    "ising_hamiltonian = SparsePauliOp.from_sparse_list(ising_interaction + ising_external_field, num_qubits=n)\n",
    "ising_hamiltonian\n"
   ]
  },
  {
   "cell_type": "markdown",
   "metadata": {},
   "source": [
    "Using qiskit to write a matrix in terms of Pauli matrices"
   ]
  },
  {
   "cell_type": "code",
   "execution_count": 18,
   "metadata": {},
   "outputs": [
    {
     "name": "stdout",
     "output_type": "stream",
     "text": [
      "SparsePauliOp(['II', 'IZ', 'XI', 'YY', 'ZI', 'ZZ'],\n",
      "              coeffs=[ 0.25+0.j, -1.25+0.j,  0.5 +0.j,  1.  -0.j, -0.25+0.j,  0.25+0.j])\n"
     ]
    }
   ],
   "source": [
    "import numpy as np\n",
    "from qiskit.quantum_info import SparsePauliOp\n",
    " \n",
    "matrix = np.array([[-1, 0, 0.5, -1],\n",
    "\t\t   [0, 1, 1, 0.5],\n",
    "\t\t   [0.5, 1, -1, 0],\n",
    "\t\t   [-1, 0.5, 0, 2]])\n",
    " \n",
    "observable = SparsePauliOp.from_operator(matrix)\n",
    "print(observable)  "
   ]
  },
  {
   "cell_type": "markdown",
   "metadata": {},
   "source": [
    "where then teh operator are written as follows,\n",
    "\n",
    "$$\n",
    "\\mathcal{O} = 0.25 - 1.25Z_1 + 0.5X_2 + Y_2Y_1 - 0.25Z_2 \n",
    "$$"
   ]
  },
  {
   "cell_type": "markdown",
   "metadata": {},
   "source": [
    "Another example from https://github.com/Qiskit/textbook/blob/main/notebooks/ch-gates/multiple-qubits-entangled-states.ipynb"
   ]
  },
  {
   "cell_type": "code",
   "execution_count": 19,
   "metadata": {},
   "outputs": [],
   "source": [
    "from qiskit import QuantumCircuit, assemble\n",
    "import numpy as np\n",
    "from qiskit.visualization import plot_histogram, plot_bloch_multivector"
   ]
  },
  {
   "cell_type": "markdown",
   "metadata": {},
   "source": [
    "This circuits are from https://github.com/Qiskit/qiskit-tutorials/blob/master/tutorials/circuits_advanced/03_advanced_circuit_visualization.ipynb"
   ]
  },
  {
   "cell_type": "code",
   "execution_count": 20,
   "metadata": {},
   "outputs": [
    {
     "data": {
      "text/html": [
       "<pre style=\"word-wrap: normal;white-space: pre;background: #fff0;line-height: 1.1;font-family: &quot;Courier New&quot;,Courier,monospace\">     ┌───┐          ┌─┐   \n",
       "q_0: ┤ H ├───────■──┤M├───\n",
       "     ├───┤┌───┐┌─┴─┐└╥┘┌─┐\n",
       "q_1: ┤ X ├┤ H ├┤ X ├─╫─┤M├\n",
       "     ├───┤└┬─┬┘└───┘ ║ └╥┘\n",
       "q_2: ┤ H ├─┤M├───────╫──╫─\n",
       "     └───┘ └╥┘       ║  ║ \n",
       "c: 3/═══════╩════════╩══╩═\n",
       "            2        0  1 </pre>"
      ],
      "text/plain": [
       "     ┌───┐          ┌─┐   \n",
       "q_0: ┤ H ├───────■──┤M├───\n",
       "     ├───┤┌───┐┌─┴─┐└╥┘┌─┐\n",
       "q_1: ┤ X ├┤ H ├┤ X ├─╫─┤M├\n",
       "     ├───┤└┬─┬┘└───┘ ║ └╥┘\n",
       "q_2: ┤ H ├─┤M├───────╫──╫─\n",
       "     └───┘ └╥┘       ║  ║ \n",
       "c: 3/═══════╩════════╩══╩═\n",
       "            2        0  1 "
      ]
     },
     "execution_count": 20,
     "metadata": {},
     "output_type": "execute_result"
    }
   ],
   "source": [
    "# Quantum circuits with 3 quantum registers and 3 classical \n",
    "quantum_circuit = QuantumCircuit(3, 3)\n",
    "\n",
    "quantum_circuit.x(1)\n",
    "quantum_circuit.h(range(3))\n",
    "quantum_circuit.cx(0, 1)\n",
    "quantum_circuit.measure(range(3), range(3))\n",
    "quantum_circuit.draw()"
   ]
  },
  {
   "cell_type": "markdown",
   "metadata": {},
   "source": [
    "# Bell states\n",
    "\n",
    "This code is from https://quantumcomputinguk.org/tutorials/introduction-to-bell-states.\n",
    "We need to make these 4 states in qiskit.\n",
    "\n",
    "$$\n",
    "\\ket{\\Psi_{00}^+} = \\frac{\\ket{00} + \\ket{11}}{\\sqrt{2}}\n",
    "$$\n",
    "$$\n",
    "\\ket{\\Psi_{01}^-} = \\frac{\\ket{00} - \\ket{11}}{\\sqrt{2}}\n",
    "$$\n",
    "$$\n",
    "\\ket{\\Psi_{10}^+} = \\frac{\\ket{01} + \\ket{10}}{\\sqrt{2}}\n",
    "$$\n",
    "$$\n",
    "\\ket{\\Psi_{11}^-} = \\frac{\\ket{01} - \\ket{10}}{\\sqrt{2}}\n",
    "$$"
   ]
  },
  {
   "cell_type": "markdown",
   "metadata": {},
   "source": [
    "The first bell state can be created using a Hadamard gate and a CNOT gate"
   ]
  },
  {
   "cell_type": "code",
   "execution_count": 21,
   "metadata": {},
   "outputs": [],
   "source": [
    "from qiskit.quantum_info import entropy"
   ]
  },
  {
   "cell_type": "code",
   "execution_count": 22,
   "metadata": {},
   "outputs": [
    {
     "name": "stdout",
     "output_type": "stream",
     "text": [
      "     ┌───┐     \n",
      "q_0: ┤ H ├──■──\n",
      "     └───┘┌─┴─┐\n",
      "q_1: ─────┤ X ├\n",
      "          └───┘\n",
      "Statevector([0.70710678+0.j, 0.        +0.j, 0.        +0.j,\n",
      "             0.70710678+0.j],\n",
      "            dims=(2, 2))\n",
      " > Quasi probability distribution of the first Bell state: [{0: 0.525, 3: 0.475}]\n",
      " > Entanglement entropy of the first Bell state: 0.99819587904281\n"
     ]
    }
   ],
   "source": [
    "from qiskit.quantum_info import Statevector\n",
    "def Bell_State_1():\n",
    "    Bell_1 = QuantumCircuit(2)\n",
    "    Bell_1.h(0)\n",
    "    Bell_1.cx(0, 1)\n",
    "    print(Bell_1.draw())\n",
    "\n",
    "    Bell_1_State = Statevector(Bell_1)\n",
    "    print(Bell_1_State)\n",
    "\n",
    "    Bell_1_measure = Bell_1.measure_all(inplace=False)\n",
    "\n",
    "    from qiskit.primitives.sampler import Sampler\n",
    "    sampler = Sampler()\n",
    "    job = sampler.run(Bell_1_measure, shots = 1000)\n",
    "    results = job.result()\n",
    "    print(f\" > Quasi probability distribution of the first Bell state: {results.quasi_dists}\")\n",
    "\n",
    "    Prob_state_00 = (results.quasi_dists[0])[0]\n",
    "    Prob_state_11 = (results.quasi_dists[0])[3]\n",
    "\n",
    "    Entropy = entropy([[Prob_state_00, 0], [0, Prob_state_11]])\n",
    "    print(f\" > Entanglement entropy of the first Bell state: {Entropy}\")\n",
    "\n",
    "Bell_State_1()"
   ]
  },
  {
   "cell_type": "code",
   "execution_count": 23,
   "metadata": {},
   "outputs": [
    {
     "name": "stdout",
     "output_type": "stream",
     "text": [
      "     ┌───┐┌───┐     \n",
      "q_0: ┤ X ├┤ H ├──■──\n",
      "     └───┘└───┘┌─┴─┐\n",
      "q_1: ──────────┤ X ├\n",
      "               └───┘\n",
      "Statevector([ 0.70710678+0.j,  0.        +0.j,  0.        +0.j,\n",
      "             -0.70710678+0.j],\n",
      "            dims=(2, 2))\n",
      " > Quasi probability distribution of the second Bell state: [{0: 0.552, 3: 0.448}]\n",
      " > Entanglement entropy of the second Bell state: 0.992183779438731\n"
     ]
    }
   ],
   "source": [
    "def Bell_State_2():\n",
    "    Bell_2 = QuantumCircuit(2)\n",
    "    Bell_2.x(0)\n",
    "    Bell_2.h(0)\n",
    "    Bell_2.cx(0, 1)\n",
    "    print(Bell_2.draw())\n",
    "\n",
    "    Bell_2_State = Statevector(Bell_2)\n",
    "    print(Bell_2_State)\n",
    "\n",
    "    Bell_2_measure = Bell_2.measure_all(inplace=False)\n",
    "\n",
    "    from qiskit.primitives.sampler import Sampler\n",
    "    sampler = Sampler()\n",
    "    job = sampler.run(Bell_2_measure, shots = 1000)\n",
    "    results = job.result()\n",
    "    print(f\" > Quasi probability distribution of the second Bell state: {results.quasi_dists}\")\n",
    "    Prob_state_00 = (results.quasi_dists[0])[0]\n",
    "    Prob_state_11 = (results.quasi_dists[0])[3]\n",
    "\n",
    "    Entropy = entropy([[Prob_state_00, 0], [0, Prob_state_11]])\n",
    "    \n",
    "    print(f\" > Entanglement entropy of the second Bell state: {Entropy}\")\n",
    "    \n",
    "Bell_State_2()"
   ]
  },
  {
   "cell_type": "code",
   "execution_count": 24,
   "metadata": {},
   "outputs": [
    {
     "name": "stdout",
     "output_type": "stream",
     "text": [
      "     ┌───┐     \n",
      "q_0: ┤ H ├──■──\n",
      "     ├───┤┌─┴─┐\n",
      "q_1: ┤ X ├┤ X ├\n",
      "     └───┘└───┘\n",
      "Statevector([0.        +0.j, 0.70710678+0.j, 0.70710678+0.j,\n",
      "             0.        +0.j],\n",
      "            dims=(2, 2))\n",
      " > Quasi probability distribution of the third Bell state: [{1: 0.515, 2: 0.485}]\n",
      " > Entanglement entropy of the third Bell state: 0.9993506898146103\n"
     ]
    }
   ],
   "source": [
    "def Bell_State_3():\n",
    "    Bell_3 = QuantumCircuit(2)\n",
    "    Bell_3.h(0)\n",
    "    Bell_3.x(1)\n",
    "    Bell_3.cx(0,1)\n",
    "    print(Bell_3.draw())\n",
    "\n",
    "    Bell_3_State = Statevector(Bell_3)\n",
    "    print(Bell_3_State)\n",
    "\n",
    "    Bell_3_measure = Bell_3.measure_all(inplace=False)\n",
    "\n",
    "    from qiskit.primitives.sampler import Sampler\n",
    "    sampler = Sampler()\n",
    "    job = sampler.run(Bell_3_measure, shots = 1000)\n",
    "    results = job.result()\n",
    "    print(f\" > Quasi probability distribution of the third Bell state: {results.quasi_dists}\")\n",
    "    Prob_state_00 = (results.quasi_dists[0])[1]\n",
    "    Prob_state_11 = (results.quasi_dists[0])[2]\n",
    "\n",
    "    Entropy = entropy([[Prob_state_00, 0], [0, Prob_state_11]])\n",
    "    \n",
    "    print(f\" > Entanglement entropy of the third Bell state: {Entropy}\")\n",
    "\n",
    "Bell_State_3()"
   ]
  },
  {
   "cell_type": "markdown",
   "metadata": {},
   "source": [
    "Turns out they have a `Statevector` function that translate the quantum circuit into a statevector."
   ]
  },
  {
   "cell_type": "code",
   "execution_count": 25,
   "metadata": {},
   "outputs": [
    {
     "name": "stdout",
     "output_type": "stream",
     "text": [
      "     ┌───┐┌───┐     \n",
      "q_0: ┤ H ├┤ Z ├──■──\n",
      "     ├───┤├───┤┌─┴─┐\n",
      "q_1: ┤ X ├┤ Z ├┤ X ├\n",
      "     └───┘└───┘└───┘\n",
      "Statevector([ 0.        +0.j,  0.70710678+0.j, -0.70710678+0.j,\n",
      "              0.        +0.j],\n",
      "            dims=(2, 2))\n",
      " > Quasi probability distribution of the third Bell state: [{1: 0.492, 2: 0.508}]\n",
      " > Entanglement entropy of the fourth Bell state: 0.9998153271549207\n"
     ]
    }
   ],
   "source": [
    "from matplotlib.figure import Figure\n",
    "import matplotlib_inline\n",
    "from qiskit.quantum_info import Statevector\n",
    "\n",
    "def Bell_State_4():\n",
    "    Bell_4 = QuantumCircuit(2)\n",
    "    Bell_4.h(0)\n",
    "    Bell_4.x(1)\n",
    "    Bell_4.z(0)\n",
    "    Bell_4.z(1)\n",
    "    Bell_4.cx(0, 1)\n",
    "    print(Bell_4.draw())\n",
    "\n",
    "#    print(plot_bloch_multivector(Bell_4_State, title='4th Bell State', reverse_bits=True))\n",
    "\n",
    "    Bell_4_measure = Bell_4.measure_all(inplace=False)\n",
    "\n",
    "    Bell_4_State = Statevector(Bell_4)\n",
    "    print(Bell_4_State)\n",
    "    from qiskit.primitives.sampler import Sampler\n",
    "    sampler = Sampler()\n",
    "    job = sampler.run(Bell_4_measure, shots = 1000)\n",
    "    results = job.result()\n",
    "    print(f\" > Quasi probability distribution of the third Bell state: {results.quasi_dists}\")\n",
    "\n",
    "    Prob_state_00 = (results.quasi_dists[0])[1]\n",
    "    Prob_state_11 = (results.quasi_dists[0])[2]\n",
    "\n",
    "    Entropy = entropy([[Prob_state_00, 0], [0, Prob_state_11]])\n",
    "    Bell_4_Visualize = plot_bloch_multivector([[Prob_state_00, 0], [0, Prob_state_11]])\n",
    "\n",
    "    #Entropy = entropy(Bell_4_State), the statevector function gives back the state of the system following the quantum circuit.\n",
    "    print(f\" > Entanglement entropy of the fourth Bell state: {Entropy}\")\n",
    "\n",
    "Bell_State_4()"
   ]
  },
  {
   "cell_type": "markdown",
   "metadata": {},
   "source": [
    "The previous work can also be done using density matrix, and you can convert the quantum circuit using `DensityMatrix` function. I am still working out on why the figure wont show up.\n",
    "\n",
    "There are many tools qiskit offers for visualization."
   ]
  },
  {
   "cell_type": "code",
   "execution_count": 26,
   "metadata": {},
   "outputs": [
    {
     "data": {
      "text/html": [
       "<pre style=\"word-wrap: normal;white-space: pre;background: #fff0;line-height: 1.1;font-family: &quot;Courier New&quot;,Courier,monospace\">     ┌───┐          \n",
       "q_0: ┤ H ├──■───────\n",
       "     ├───┤┌─┴─┐┌───┐\n",
       "q_1: ┤ X ├┤ X ├┤ X ├\n",
       "     └───┘└───┘└───┘</pre>"
      ],
      "text/plain": [
       "     ┌───┐          \n",
       "q_0: ┤ H ├──■───────\n",
       "     ├───┤┌─┴─┐┌───┐\n",
       "q_1: ┤ X ├┤ X ├┤ X ├\n",
       "     └───┘└───┘└───┘"
      ]
     },
     "execution_count": 26,
     "metadata": {},
     "output_type": "execute_result"
    }
   ],
   "source": [
    "qc_TEST = QuantumCircuit(2)\n",
    "qc_TEST.h(0)\n",
    "qc_TEST.x(1)\n",
    "qc_TEST.cx(0, 1)\n",
    "qc_TEST.x(1)\n",
    "qc_TEST.draw()"
   ]
  },
  {
   "cell_type": "markdown",
   "metadata": {},
   "source": [
    "# SYK MODEL\n",
    "\n",
    "The SYK model is a 0+1 dimensional model of $N \\gg 1$ fermions with an all-to-all random quartic interaction. The mild generalization of a q-body Hamiltonian for this model is written as follows,\n",
    "\n",
    "$$\n",
    "H = i^{q/2} \\sum_{1 \\le i_1 < \\ldots < i_q \\le N} J_{i_1 \\ldots i_q} \\psi_{i_1}\\ldots\\psi_{i_q},\n",
    "$$\n",
    "with a variance of zero, this means that the Gaussian couplings is now,\n",
    "$$\n",
    "\\sigma = \\sqrt{(q-1)!} \\frac{J}{N^{\\frac{q-1}{2}}}\n",
    "$$\n",
    "with $ q $ as an integer. Lets try an SYK model with $q=4$, with the coupling constant following a normal Gaussian distribution with mean of $\\mu = 0$ and the variance as $\\sigma =\\sqrt{(q-1)!}J/N^{\\frac{q-1}{2}}$\n",
    "\n"
   ]
  },
  {
   "cell_type": "markdown",
   "metadata": {},
   "source": [
    "## Recursion relation for the representation matrices\n",
    "\n",
    "This recursion relations are mentioned here, https://arxiv.org/pdf/1711.08482.\n",
    "\n",
    "\\begin{equation}\n",
    "\\begin{split}\n",
    "\\psi_i^{(K)} &= \\psi_i^{(K-1)} \\otimes \\begin{pmatrix} -1 & 0 \\\\ 0 & 1 \\end{pmatrix}, i =1,\\cdots, N-2 \\\\\n",
    "\n",
    "\\psi_{N-1}^{(K)} &= \\frac{1}{\\sqrt{2}} I_{2^{K-1}} \\otimes \\begin{pmatrix} 0 & 1 \\\\ 1 & 0 \\end{pmatrix}, \\\\\n",
    "\n",
    "\\psi_N^{(K)} &= \\frac{1}{\\sqrt{2}} I_{2^{K-1}} \\otimes \\begin{pmatrix} 0 & -i \\\\ i & 0 \\end{pmatrix},\n",
    "\\end{split}\n",
    "\\end{equation}\n",
    "\n",
    "with $K=N/2$. The following recursion relation can be computed using numpy and matplotlib to visualize the result.\n",
    "Lets say that we have 4 Majorana fermions, that means $q=4$, and that we choose $N=20$, as \n",
    "\n"
   ]
  },
  {
   "cell_type": "code",
   "execution_count": null,
   "metadata": {},
   "outputs": [],
   "source": []
  },
  {
   "cell_type": "markdown",
   "metadata": {},
   "source": [
    "## Simple State\n",
    "\n",
    "Lets start our disussion from a simple 2 qubit state\n",
    "\n",
    "$$\n",
    "\\ket{\\psi} = \\frac{1}{\\sqrt{2}} (\\ket{00} + \\ket{11}),\n",
    "$$\n",
    "\n",
    "where, $\\ket{00} = \\ket{0}\\otimes\\ket{0} = \\begin{pmatrix} 1 \\\\ 0 \\end{pmatrix} \\otimes \\begin{pmatrix} 1 \\\\ 0 \\end{pmatrix} = \\begin{pmatrix} 1 \\\\ 0 \\\\ 0 \\\\ 0 \\end{pmatrix}$, where each of the component is a qubit, which can have 2 values, either a 0 or a 1.\n",
    "\n",
    "and so in python we would write this state as,"
   ]
  },
  {
   "cell_type": "code",
   "execution_count": 27,
   "metadata": {},
   "outputs": [
    {
     "name": "stdout",
     "output_type": "stream",
     "text": [
      "state 00 :\n",
      " [[0.70710678]\n",
      " [0.        ]\n",
      " [0.        ]\n",
      " [0.        ]]\n",
      "state 00 :\n",
      " [[0.        ]\n",
      " [0.        ]\n",
      " [0.        ]\n",
      " [0.70710678]]\n",
      "[[0.70710678]\n",
      " [0.        ]\n",
      " [0.        ]\n",
      " [0.70710678]]\n"
     ]
    }
   ],
   "source": [
    "state_00_ket = np.array([[1], [0], [0], [0]], dtype=np.float64)\n",
    "state_00_ket *= 1/np.sqrt(2)\n",
    "print(f\"state 00 :\\n\", state_00_ket) \n",
    "state_11_ket = np.array([[0], [0], [0], [1]], dtype=np.float64)\n",
    "state_11_ket *= 1/np.sqrt(2)\n",
    "print(f\"state 00 :\\n\", state_11_ket) \n",
    "\n",
    "psi_ket = state_00_ket + state_11_ket\n",
    "print(psi_ket)"
   ]
  },
  {
   "cell_type": "markdown",
   "metadata": {},
   "source": [
    "where the dtype = float64 can store up to around 17 decimal points, where typically consists of a sign bit, 11 bits exponent, 52 bits mantissa. Then it is straightforward to calculate the density matrices from this state,\n",
    "$$\n",
    "\\begin{equation}\n",
    "\\begin{split}\n",
    "\\rho &= \\sum_i \\ket{\\psi_i}\\bra{\\psi_i} = \\bigg(\\frac{1}{\\sqrt{2}}\\ket{00}\\bra{00}\\bigg) + \\bigg(\\frac{1}{\\sqrt{2}}\\ket{11}\\bra{11}\\bigg)\\\\\n",
    "&= \\frac{1}{2} (\\ket{00}\\bra{00} + \\ket{11}\\bra{11})\n",
    "\\end{split}\n",
    "\\end{equation}\n",
    "$$\n",
    "\n",
    "we will make use of a function from numpy called `np.matrix.getH()`, which stands for 'get Hermitian'. For now, lets calculate it straight from the equation and we'll write the generelized function later on. For a normal matrix multiplication, we can use numpy's `np.matmul(x1, x2)` with `x1 x2` as the matrices."
   ]
  },
  {
   "cell_type": "code",
   "execution_count": 28,
   "metadata": {},
   "outputs": [
    {
     "data": {
      "text/plain": [
       "array([[0.5, 0. , 0. , 0. ],\n",
       "       [0. , 0. , 0. , 0. ],\n",
       "       [0. , 0. , 0. , 0. ],\n",
       "       [0. , 0. , 0. , 0.5]])"
      ]
     },
     "execution_count": 28,
     "metadata": {},
     "output_type": "execute_result"
    }
   ],
   "source": [
    "state_00_bra = np.matrix.getH(state_00_ket)\n",
    "state_11_bra = np.matrix.getH(state_11_ket)\n",
    "\n",
    "density_matrix = np.matmul(state_00_ket, state_00_bra) + np.matmul(state_11_ket, state_11_bra)\n",
    "density_matrix"
   ]
  },
  {
   "cell_type": "markdown",
   "metadata": {},
   "source": [
    "Our ultimate goal here is to calculate the entanglement entropy given by the following equaion,\n",
    "$$\n",
    "\\rho_A = -Tr_B[\\rho \\log{\\rho}],\n",
    "$$\n",
    "and it involves doing 2 types of operation on the matrix, first is taking a log of a matrix and the second is taking a partial trace out with respect of subsystem B. We will first figure out how to perform a log on a matrix in python with the help of numpy or scipy.\n",
    "\n",
    "Now, in Scipy, they have a function called `scipy.linalg.logm(A)`, which is the matrix logarithm and is the inverse of `expm`, where `expm(logm(A)) == A`."
   ]
  },
  {
   "cell_type": "code",
   "execution_count": 29,
   "metadata": {},
   "outputs": [],
   "source": [
    "import scipy as scp\n",
    "from scipy.linalg import logm"
   ]
  },
  {
   "cell_type": "code",
   "execution_count": 30,
   "metadata": {},
   "outputs": [
    {
     "name": "stderr",
     "output_type": "stream",
     "text": [
      "c:\\Users\\Acer Aspire 5\\AppData\\Local\\Programs\\Python\\Python39\\lib\\site-packages\\scipy\\linalg\\_matfuncs_inv_ssq.py:827: LogmExactlySingularWarning: The logm input matrix is exactly singular.\n",
      "  warnings.warn(exact_singularity_msg, LogmExactlySingularWarning)\n"
     ]
    },
    {
     "data": {
      "text/plain": [
       "array([[ -0.69314718,   0.        ,   0.        ,   0.        ],\n",
       "       [  0.        , -46.05170186,   0.        ,   0.        ],\n",
       "       [  0.        ,   0.        , -46.05170186,   0.        ],\n",
       "       [  0.        ,   0.        ,   0.        ,  -0.69314718]])"
      ]
     },
     "execution_count": 30,
     "metadata": {},
     "output_type": "execute_result"
    }
   ],
   "source": [
    "log_density_matrix = logm(density_matrix)\n",
    "log_density_matrix"
   ]
  },
  {
   "cell_type": "markdown",
   "metadata": {},
   "source": [
    "We then mutliply it with $\\rho$ again to get $\\rho \\log{\\rho}$,\n"
   ]
  },
  {
   "cell_type": "code",
   "execution_count": 31,
   "metadata": {},
   "outputs": [
    {
     "data": {
      "text/plain": [
       "array([[-0.34657359,  0.        ,  0.        ,  0.        ],\n",
       "       [ 0.        ,  0.        ,  0.        ,  0.        ],\n",
       "       [ 0.        ,  0.        ,  0.        ,  0.        ],\n",
       "       [ 0.        ,  0.        ,  0.        , -0.34657359]])"
      ]
     },
     "execution_count": 31,
     "metadata": {},
     "output_type": "execute_result"
    }
   ],
   "source": [
    "rho_log_rho = np.matmul(density_matrix, log_density_matrix)\n",
    "rho_log_rho"
   ]
  },
  {
   "cell_type": "markdown",
   "metadata": {},
   "source": [
    "And so for our simple 2 qubit model, we can then calculate the entanglement entropy as,"
   ]
  },
  {
   "cell_type": "code",
   "execution_count": 32,
   "metadata": {},
   "outputs": [
    {
     "data": {
      "text/plain": [
       "0.6931471805599454"
      ]
     },
     "execution_count": 32,
     "metadata": {},
     "output_type": "execute_result"
    }
   ],
   "source": [
    "entanglement_entropy_2_qubit = -np.trace(rho_log_rho)\n",
    "entanglement_entropy_2_qubit"
   ]
  },
  {
   "cell_type": "markdown",
   "metadata": {},
   "source": [
    "Now that we have a general idea of what we should do to calculate the entanglement entropy, we can start by incorporating the SYK model to the operation.\n",
    "\n",
    "$$\n",
    "H = i^{q/2} \\sum_{1 \\le i_1 < \\ldots < i_q \\le N} J_{i_1 \\ldots i_q} \\psi_{i_1}\\ldots\\psi_{i_q},\n",
    "$$\n",
    "with a variance of zero, this means that the Gaussian couplings is now,\n",
    "$$\n",
    "\\sigma = \\sqrt{(q-1)!} \\frac{J}{N^{\\frac{q-1}{2}}}\n",
    "$$\n",
    "\n",
    "where we will consider 4 interacting fermions, with the coupling constant taken from a Gaussian ensemble with a mean of $\\mu = 0$ and hence a variance of $\\sigma = \\sqrt{3!} \\frac{J}{N^{3/2}}$.\n",
    "\n",
    "$$\n",
    "H = \\sum_{1\\le i < j < j < k \\le N}^{N} \\psi_i \\psi_j \\psi_k \\psi_l.\n",
    "$$\n",
    "The matrix size of the coupling should be $2^{N/2} \\times 2^{N/2}$.\n",
    "\n",
    "I will first follow the flow of Prof. Junggi and Vinay's work on mathematica, and then find if I can do things differently (if possible) that could improve the codes.\n",
    "\n",
    "First, we define a function that generates gamma matrices, they call `gengammafast(n)`."
   ]
  },
  {
   "cell_type": "markdown",
   "metadata": {},
   "source": [
    "https://docs.scipy.org/doc/scipy/reference/generated/scipy.sparse.csr_matrix.html"
   ]
  },
  {
   "cell_type": "markdown",
   "metadata": {},
   "source": [
    "## `GenGammaFast` Function"
   ]
  },
  {
   "cell_type": "code",
   "execution_count": 33,
   "metadata": {},
   "outputs": [
    {
     "ename": "NameError",
     "evalue": "name 'csr_matrix' is not defined",
     "output_type": "error",
     "traceback": [
      "\u001b[1;31m---------------------------------------------------------------------------\u001b[0m",
      "\u001b[1;31mNameError\u001b[0m                                 Traceback (most recent call last)",
      "Input \u001b[1;32mIn [33]\u001b[0m, in \u001b[0;36m<cell line: 1>\u001b[1;34m()\u001b[0m\n\u001b[1;32m----> 1\u001b[0m pauli_x \u001b[38;5;241m=\u001b[39m \u001b[43mcsr_matrix\u001b[49m(np\u001b[38;5;241m.\u001b[39marray([[\u001b[38;5;241m0\u001b[39m, \u001b[38;5;241m1\u001b[39m], [\u001b[38;5;241m1\u001b[39m, \u001b[38;5;241m0\u001b[39m]]))\u001b[38;5;241m.\u001b[39mtoarray()\n\u001b[0;32m      2\u001b[0m \u001b[38;5;28mprint\u001b[39m(pauli_x)\n\u001b[0;32m      3\u001b[0m repeat_pauli_x \u001b[38;5;241m=\u001b[39m np\u001b[38;5;241m.\u001b[39mrepeat(pauli_x, \u001b[38;5;241m8\u001b[39m)\n",
      "\u001b[1;31mNameError\u001b[0m: name 'csr_matrix' is not defined"
     ]
    }
   ],
   "source": [
    "pauli_x = csr_matrix(np.array([[0, 1], [1, 0]])).toarray()\n",
    "print(pauli_x)\n",
    "repeat_pauli_x = np.repeat(pauli_x, 8)\n",
    "print(repeat_pauli_x)\n",
    "id_matrix = scp.sparse.identity(8).toarray()\n",
    "print(id_matrix)"
   ]
  },
  {
   "cell_type": "code",
   "execution_count": null,
   "metadata": {},
   "outputs": [
    {
     "ename": "TypeError",
     "evalue": "expected dimension <= 2 array or matrix",
     "output_type": "error",
     "traceback": [
      "\u001b[1;31m---------------------------------------------------------------------------\u001b[0m",
      "\u001b[1;31mTypeError\u001b[0m                                 Traceback (most recent call last)",
      "Input \u001b[1;32mIn [149]\u001b[0m, in \u001b[0;36m<cell line: 42>\u001b[1;34m()\u001b[0m\n\u001b[0;32m     40\u001b[0m \u001b[38;5;66;03m# Example usage\u001b[39;00m\n\u001b[0;32m     41\u001b[0m n \u001b[38;5;241m=\u001b[39m \u001b[38;5;241m4\u001b[39m\n\u001b[1;32m---> 42\u001b[0m result \u001b[38;5;241m=\u001b[39m \u001b[43mgengammafast\u001b[49m\u001b[43m(\u001b[49m\u001b[43mn\u001b[49m\u001b[43m)\u001b[49m\n\u001b[0;32m     43\u001b[0m \u001b[38;5;28mprint\u001b[39m(\u001b[38;5;28mlen\u001b[39m(result))\n\u001b[0;32m     44\u001b[0m \u001b[38;5;28;01mfor\u001b[39;00m matrix \u001b[38;5;129;01min\u001b[39;00m result:\n",
      "Input \u001b[1;32mIn [149]\u001b[0m, in \u001b[0;36mgengammafast\u001b[1;34m(n)\u001b[0m\n\u001b[0;32m     14\u001b[0m result \u001b[38;5;241m=\u001b[39m []\n\u001b[0;32m     16\u001b[0m dum1 \u001b[38;5;241m=\u001b[39m [pauli_z] \u001b[38;5;241m*\u001b[39m (n\u001b[38;5;241m-\u001b[39m\u001b[38;5;241m1\u001b[39m)\n\u001b[1;32m---> 17\u001b[0m dum1 \u001b[38;5;241m=\u001b[39m \u001b[43mkron\u001b[49m\u001b[43m(\u001b[49m\u001b[43mdum1\u001b[49m\u001b[43m,\u001b[49m\u001b[43m \u001b[49m\u001b[43mpauli_x\u001b[49m\u001b[43m)\u001b[49m\n\u001b[0;32m     19\u001b[0m dum2 \u001b[38;5;241m=\u001b[39m [pauli_z] \u001b[38;5;241m*\u001b[39m (n\u001b[38;5;241m-\u001b[39m\u001b[38;5;241m1\u001b[39m)\n\u001b[0;32m     20\u001b[0m dum2 \u001b[38;5;241m=\u001b[39m kron(dum2, pauli_y)\n",
      "File \u001b[1;32mc:\\Users\\Acer Aspire 5\\AppData\\Local\\Programs\\Python\\Python39\\lib\\site-packages\\scipy\\sparse\\_construct.py:325\u001b[0m, in \u001b[0;36mkron\u001b[1;34m(A, B, format)\u001b[0m\n\u001b[0;32m    321\u001b[0m B \u001b[38;5;241m=\u001b[39m coo_matrix(B)\n\u001b[0;32m    323\u001b[0m \u001b[38;5;28;01mif\u001b[39;00m (\u001b[38;5;28mformat\u001b[39m \u001b[38;5;129;01mis\u001b[39;00m \u001b[38;5;28;01mNone\u001b[39;00m \u001b[38;5;129;01mor\u001b[39;00m \u001b[38;5;28mformat\u001b[39m \u001b[38;5;241m==\u001b[39m \u001b[38;5;124m\"\u001b[39m\u001b[38;5;124mbsr\u001b[39m\u001b[38;5;124m\"\u001b[39m) \u001b[38;5;129;01mand\u001b[39;00m \u001b[38;5;241m2\u001b[39m\u001b[38;5;241m*\u001b[39mB\u001b[38;5;241m.\u001b[39mnnz \u001b[38;5;241m>\u001b[39m\u001b[38;5;241m=\u001b[39m B\u001b[38;5;241m.\u001b[39mshape[\u001b[38;5;241m0\u001b[39m] \u001b[38;5;241m*\u001b[39m B\u001b[38;5;241m.\u001b[39mshape[\u001b[38;5;241m1\u001b[39m]:\n\u001b[0;32m    324\u001b[0m     \u001b[38;5;66;03m# B is fairly dense, use BSR\u001b[39;00m\n\u001b[1;32m--> 325\u001b[0m     A \u001b[38;5;241m=\u001b[39m \u001b[43mcsr_matrix\u001b[49m\u001b[43m(\u001b[49m\u001b[43mA\u001b[49m\u001b[43m,\u001b[49m\u001b[43mcopy\u001b[49m\u001b[38;5;241;43m=\u001b[39;49m\u001b[38;5;28;43;01mTrue\u001b[39;49;00m\u001b[43m)\u001b[49m\n\u001b[0;32m    326\u001b[0m     output_shape \u001b[38;5;241m=\u001b[39m (A\u001b[38;5;241m.\u001b[39mshape[\u001b[38;5;241m0\u001b[39m]\u001b[38;5;241m*\u001b[39mB\u001b[38;5;241m.\u001b[39mshape[\u001b[38;5;241m0\u001b[39m], A\u001b[38;5;241m.\u001b[39mshape[\u001b[38;5;241m1\u001b[39m]\u001b[38;5;241m*\u001b[39mB\u001b[38;5;241m.\u001b[39mshape[\u001b[38;5;241m1\u001b[39m])\n\u001b[0;32m    328\u001b[0m     \u001b[38;5;28;01mif\u001b[39;00m A\u001b[38;5;241m.\u001b[39mnnz \u001b[38;5;241m==\u001b[39m \u001b[38;5;241m0\u001b[39m \u001b[38;5;129;01mor\u001b[39;00m B\u001b[38;5;241m.\u001b[39mnnz \u001b[38;5;241m==\u001b[39m \u001b[38;5;241m0\u001b[39m:\n\u001b[0;32m    329\u001b[0m         \u001b[38;5;66;03m# kronecker product is the zero matrix\u001b[39;00m\n",
      "File \u001b[1;32mc:\\Users\\Acer Aspire 5\\AppData\\Local\\Programs\\Python\\Python39\\lib\\site-packages\\scipy\\sparse\\_compressed.py:84\u001b[0m, in \u001b[0;36m_cs_matrix.__init__\u001b[1;34m(self, arg1, shape, dtype, copy)\u001b[0m\n\u001b[0;32m     80\u001b[0m     \u001b[38;5;28;01mexcept\u001b[39;00m \u001b[38;5;167;01mException\u001b[39;00m \u001b[38;5;28;01mas\u001b[39;00m e:\n\u001b[0;32m     81\u001b[0m         \u001b[38;5;28;01mraise\u001b[39;00m \u001b[38;5;167;01mValueError\u001b[39;00m(\u001b[38;5;124m\"\u001b[39m\u001b[38;5;124munrecognized \u001b[39m\u001b[38;5;132;01m{}\u001b[39;00m\u001b[38;5;124m_matrix constructor usage\u001b[39m\u001b[38;5;124m\"\u001b[39m\n\u001b[0;32m     82\u001b[0m                          \u001b[38;5;124m\"\u001b[39m\u001b[38;5;124m\"\u001b[39m\u001b[38;5;241m.\u001b[39mformat(\u001b[38;5;28mself\u001b[39m\u001b[38;5;241m.\u001b[39mformat)) \u001b[38;5;28;01mfrom\u001b[39;00m \u001b[38;5;21;01me\u001b[39;00m\n\u001b[0;32m     83\u001b[0m     \u001b[38;5;28mself\u001b[39m\u001b[38;5;241m.\u001b[39m_set_self(\u001b[38;5;28mself\u001b[39m\u001b[38;5;241m.\u001b[39m\u001b[38;5;18m__class__\u001b[39m(\n\u001b[1;32m---> 84\u001b[0m         \u001b[38;5;28;43mself\u001b[39;49m\u001b[38;5;241;43m.\u001b[39;49m\u001b[43m_coo_container\u001b[49m\u001b[43m(\u001b[49m\u001b[43marg1\u001b[49m\u001b[43m,\u001b[49m\u001b[43m \u001b[49m\u001b[43mdtype\u001b[49m\u001b[38;5;241;43m=\u001b[39;49m\u001b[43mdtype\u001b[49m\u001b[43m)\u001b[49m\n\u001b[0;32m     85\u001b[0m     ))\n\u001b[0;32m     87\u001b[0m \u001b[38;5;66;03m# Read matrix dimensions given, if any\u001b[39;00m\n\u001b[0;32m     88\u001b[0m \u001b[38;5;28;01mif\u001b[39;00m shape \u001b[38;5;129;01mis\u001b[39;00m \u001b[38;5;129;01mnot\u001b[39;00m \u001b[38;5;28;01mNone\u001b[39;00m:\n",
      "File \u001b[1;32mc:\\Users\\Acer Aspire 5\\AppData\\Local\\Programs\\Python\\Python39\\lib\\site-packages\\scipy\\sparse\\_coo.py:187\u001b[0m, in \u001b[0;36m_coo_base.__init__\u001b[1;34m(self, arg1, shape, dtype, copy)\u001b[0m\n\u001b[0;32m    184\u001b[0m M \u001b[38;5;241m=\u001b[39m np\u001b[38;5;241m.\u001b[39matleast_2d(np\u001b[38;5;241m.\u001b[39masarray(arg1))\n\u001b[0;32m    186\u001b[0m \u001b[38;5;28;01mif\u001b[39;00m M\u001b[38;5;241m.\u001b[39mndim \u001b[38;5;241m!=\u001b[39m \u001b[38;5;241m2\u001b[39m:\n\u001b[1;32m--> 187\u001b[0m     \u001b[38;5;28;01mraise\u001b[39;00m \u001b[38;5;167;01mTypeError\u001b[39;00m(\u001b[38;5;124m'\u001b[39m\u001b[38;5;124mexpected dimension <= 2 array or matrix\u001b[39m\u001b[38;5;124m'\u001b[39m)\n\u001b[0;32m    189\u001b[0m \u001b[38;5;28mself\u001b[39m\u001b[38;5;241m.\u001b[39m_shape \u001b[38;5;241m=\u001b[39m check_shape(M\u001b[38;5;241m.\u001b[39mshape)\n\u001b[0;32m    190\u001b[0m \u001b[38;5;28;01mif\u001b[39;00m shape \u001b[38;5;129;01mis\u001b[39;00m \u001b[38;5;129;01mnot\u001b[39;00m \u001b[38;5;28;01mNone\u001b[39;00m:\n",
      "\u001b[1;31mTypeError\u001b[0m: expected dimension <= 2 array or matrix"
     ]
    }
   ],
   "source": [
    "#TESTING\n",
    "import numpy as np\n",
    "from scipy.sparse import csr_matrix, kron\n",
    "from scipy.sparse import identity\n",
    "\n",
    "def gengammafast(n):\n",
    "    # Define Pauli matrices and identity matrix\n",
    "    pauli_x = csr_matrix(np.array([[0, 1], [1, 0]])).toarray()\n",
    "    pauli_y = csr_matrix(np.array([[0, -1j], [1j, 0]])).toarray()\n",
    "    pauli_z = csr_matrix(np.array([[1, 0], [0, -1]])).toarray()\n",
    "    #identity_matrix = csr_matrix(np.array([[1, 0], [0, 1]]))\n",
    "    identity_matrix = identity(n).toarray()\n",
    "\n",
    "    result = []\n",
    "\n",
    "    dum1 = pauli_z * (n-1)\n",
    "    dum1 = kron(dum1, pauli_x)\n",
    "\n",
    "    dum2 = pauli_z * (n-1)\n",
    "    dum2 = kron(dum2, pauli_y)\n",
    "\n",
    "    for i in range(n):\n",
    "        # Use Kronecker product to construct the required matrix\n",
    "        kron_prod1 = dum1[0]\n",
    "        for mat in dum1[1:]:\n",
    "            kron_prod1 = kron(kron_prod1, mat)\n",
    "        result.append(kron_prod1)\n",
    "        \n",
    "        kron_prod2 = dum2[0]\n",
    "        for mat in dum2[1:]:\n",
    "            kron_prod2 = kron(kron_prod2, mat)\n",
    "        result.append(kron_prod2)\n",
    "        \n",
    "        # Update dum1 and dum2\n",
    "        dum1 = dum1[1:] + [identity_matrix]\n",
    "        dum2 = dum2[1:] + [identity_matrix]\n",
    "\n",
    "    return result\n",
    "\n",
    "# Example usage\n",
    "n = 4\n",
    "result = gengammafast(n)\n",
    "print(len(result))\n",
    "for matrix in result:\n",
    "    print(matrix.toarray())  # Print dense form for readability\n"
   ]
  },
  {
   "cell_type": "code",
   "execution_count": null,
   "metadata": {},
   "outputs": [
    {
     "name": "stdout",
     "output_type": "stream",
     "text": [
      "[[ 0  1  0  0]\n",
      " [ 1  0  0  0]\n",
      " [ 0  0  0 -1]\n",
      " [ 0  0 -1  0]]\n",
      "[[0.+0.j 0.-1.j 0.+0.j 0.+0.j]\n",
      " [0.+1.j 0.+0.j 0.+0.j 0.+0.j]\n",
      " [0.+0.j 0.+0.j 0.+0.j 0.+1.j]\n",
      " [0.+0.j 0.+0.j 0.-1.j 0.+0.j]]\n",
      "[[0 0 1 0]\n",
      " [0 0 0 1]\n",
      " [1 0 0 0]\n",
      " [0 1 0 0]]\n",
      "[[0.+0.j 0.+0.j 0.-1.j 0.+0.j]\n",
      " [0.+0.j 0.+0.j 0.+0.j 0.-1.j]\n",
      " [0.+1.j 0.+0.j 0.+0.j 0.+0.j]\n",
      " [0.+0.j 0.+1.j 0.+0.j 0.+0.j]]\n"
     ]
    }
   ],
   "source": [
    "import numpy as np\n",
    "from scipy.sparse import csr_matrix, kron\n",
    "from scipy.sparse import identity\n",
    "\n",
    "def gengammafast(n):\n",
    "    # Define Pauli matrices and identity matrix\n",
    "    sig1 = csr_matrix(np.array([[0, 1], [1, 0]]))\n",
    "    sig2 = csr_matrix(np.array([[0, -1j], [1j, 0]]))\n",
    "    sig3 = csr_matrix(np.array([[1, 0], [0, -1]]))\n",
    "    id = csr_matrix(np.array([[1, 0], [0, 1]]))\n",
    "    \n",
    "    result = []\n",
    "\n",
    "    dum1 = [sig3] * (n - 1) + [sig1]\n",
    "    dum2 = [sig3] * (n - 1) + [sig2]\n",
    "\n",
    "    for i in range(n):\n",
    "        # Use Kronecker product to construct the required matrix\n",
    "        kron_prod1 = dum1[0]\n",
    "        for mat in dum1[1:]:\n",
    "            kron_prod1 = kron(kron_prod1, mat)\n",
    "        result.append(kron_prod1)\n",
    "        \n",
    "        kron_prod2 = dum2[0]\n",
    "        for mat in dum2[1:]:\n",
    "            kron_prod2 = kron(kron_prod2, mat)\n",
    "        result.append(kron_prod2)\n",
    "        \n",
    "        # Update dum1 and dum2\n",
    "        dum1 = dum1[1:] + [id]\n",
    "        dum2 = dum2[1:] + [id]\n",
    "\n",
    "    return result\n",
    "\n",
    "# Example usage\n",
    "n = 2\n",
    "result = gengammafast(n)\n",
    "for matrix in result:\n",
    "    print(matrix.toarray())  # Print dense form for readability\n"
   ]
  },
  {
   "cell_type": "markdown",
   "metadata": {},
   "source": [
    "## `GenRandomCoupling4` Function"
   ]
  },
  {
   "cell_type": "markdown",
   "metadata": {},
   "source": [
    "Then, we define a function that generates random coupling value from a normal (Gaussian) distribution with a mean of 0 and variance of 1"
   ]
  },
  {
   "cell_type": "code",
   "execution_count": null,
   "metadata": {},
   "outputs": [
    {
     "name": "stdout",
     "output_type": "stream",
     "text": [
      "[[[-0.95535991 -0.74764813 -0.27379232  0.64342986]\n",
      "  [-0.01441041  0.04914075 -1.25122972 -0.83858134]\n",
      "  [ 0.32584145  0.54105748 -1.67725792 -1.08890423]\n",
      "  [-0.17557002  1.23415509 -1.81305106  0.33238948]]\n",
      "\n",
      " [[-0.9556085  -0.28430025  0.97733597  0.12873729]\n",
      "  [ 0.2777473   0.55238811  0.52831097 -1.86305596]\n",
      "  [ 0.19448333 -0.88134047  1.82829407 -0.6747165 ]\n",
      "  [ 0.15105276  1.07892265 -1.49906832  1.82264524]]\n",
      "\n",
      " [[-0.14706167 -0.66246316 -0.1006622  -1.43070186]\n",
      "  [-0.53375975 -0.42529815  1.88200071 -0.08039174]\n",
      "  [-1.14547736  0.37448111 -1.14797349 -0.67715446]\n",
      "  [-1.02441159  0.81794306  0.9624273  -0.77719989]]\n",
      "\n",
      " [[ 0.02056569 -0.24529231 -0.95291606  0.94138687]\n",
      "  [-0.2278445  -0.45792749 -1.77812827 -1.83776724]\n",
      "  [ 1.70429396  0.85567415 -1.81488774 -1.20220708]\n",
      "  [-1.50274403 -0.35630726  0.78446296  0.03159643]]]\n",
      "4\n"
     ]
    }
   ],
   "source": [
    "def genrandomcoupling4(n, var=1, mean=0):\n",
    "    # Generate a 4-dimensional array for each of the qubits we used with random values from a normal distribution.\n",
    "    # Note that we're considering a q=4 SYK model.\n",
    "    result = np.random.normal(loc=mean, scale=var, size=(2*n, 2*n, 2*n, 2*n))\n",
    "    return result\n",
    "\n",
    "# Example usage\n",
    "n = 2\n",
    "var = 1\n",
    "mean = 0\n",
    "coupling_array_example = genrandomcoupling4(n, var, mean)\n",
    "print(coupling_array_example[0])\n",
    "print(len(coupling_array_example))"
   ]
  },
  {
   "cell_type": "markdown",
   "metadata": {},
   "source": [
    "## `GenHam4` function"
   ]
  },
  {
   "cell_type": "code",
   "execution_count": null,
   "metadata": {},
   "outputs": [
    {
     "name": "stdout",
     "output_type": "stream",
     "text": [
      "[[[[-1.02386768e+00  2.77545906e-01  1.21231459e+00 ...  6.43559659e-01\n",
      "    -2.11720715e+00 -1.65983460e-02]\n",
      "   [ 5.40767374e-01 -2.55573356e-01 -3.57134094e-01 ...  9.07797664e-02\n",
      "    -1.42443221e+00  2.57303501e-01]\n",
      "   [ 1.58101587e+00  1.67382883e+00  1.08000174e+00 ... -1.17343864e+00\n",
      "     1.43547876e+00 -1.68748511e+00]\n",
      "   ...\n",
      "   [ 5.54359591e-01 -2.94233146e-02 -4.78153504e-01 ... -8.92459890e-01\n",
      "     2.72491353e-01  1.31619907e+00]\n",
      "   [-8.38433761e-02  2.50664410e-01  2.14709368e+00 ...  2.83657423e-01\n",
      "     1.27770208e+00  3.52630603e-01]\n",
      "   [ 2.44860078e+00 -2.22982560e+00  3.09129064e-01 ...  2.80707314e-01\n",
      "     2.44557735e+00  3.07493118e+00]]\n",
      "\n",
      "  [[-9.83430110e-02  1.14033388e+00  8.32483654e-01 ...  1.23617011e+00\n",
      "    -2.36024286e-01  3.87288754e-01]\n",
      "   [-2.26594230e-01 -4.73036745e-02  2.16602225e+00 ... -6.72888952e-01\n",
      "    -3.05915978e-01 -1.04730871e-01]\n",
      "   [ 7.77369067e-01  3.91496458e-01 -5.24649594e-01 ...  6.57384945e-01\n",
      "     1.08053872e+00  1.48716017e+00]\n",
      "   ...\n",
      "   [-1.45508751e+00 -2.33551228e-01 -5.43098629e-01 ...  6.12479539e-01\n",
      "     5.49142141e-02  4.93367271e-01]\n",
      "   [-8.96709078e-01  1.79258049e+00  9.38010410e-02 ...  8.25028039e-01\n",
      "     9.57411900e-01  1.02129426e-01]\n",
      "   [-1.22358044e+00 -1.27801511e+00 -3.05553850e-01 ...  2.20706107e-01\n",
      "    -3.35443563e-01  1.11718733e+00]]\n",
      "\n",
      "  [[ 1.10580706e+00  1.34588612e+00 -6.45198161e-01 ... -9.46770699e-01\n",
      "    -6.22296519e-01 -3.71132737e-01]\n",
      "   [-1.40321067e+00  7.03216990e-01 -5.90376619e-01 ...  6.93249172e-01\n",
      "     2.44727923e-01 -1.36059472e+00]\n",
      "   [ 2.00639937e+00  2.31944805e+00 -7.56193366e-01 ... -7.28134226e-01\n",
      "     6.67669232e-01 -1.59123282e+00]\n",
      "   ...\n",
      "   [-7.30997947e-02  9.42192938e-01 -7.22164583e-01 ... -2.96233653e-01\n",
      "     1.68167845e+00 -1.62579871e-01]\n",
      "   [-5.10068214e-01  1.54508892e+00  1.15048703e+00 ... -8.76512612e-01\n",
      "    -3.62570557e+00 -9.74864040e-01]\n",
      "   [ 7.76679499e-02 -8.46907575e-01  3.07291254e-01 ... -1.05239527e+00\n",
      "     6.15651284e-01  8.74139748e-01]]\n",
      "\n",
      "  ...\n",
      "\n",
      "  [[-1.89875040e-01  2.20749854e-01 -1.26322780e+00 ... -1.33102386e+00\n",
      "    -5.72082684e-02 -2.30972268e-01]\n",
      "   [-1.01835596e-01 -6.71068551e-01 -2.98689585e-01 ...  1.13217380e+00\n",
      "     1.66710915e+00 -2.01501139e-01]\n",
      "   [ 9.53084050e-01  1.17002269e+00 -2.02445660e-01 ...  6.07804018e-01\n",
      "    -2.69581250e-01  1.81966652e+00]\n",
      "   ...\n",
      "   [ 3.49633760e-02  1.29145926e+00  1.17147318e+00 ... -5.14399327e-01\n",
      "     1.89654811e+00  6.49188059e-01]\n",
      "   [ 8.70003803e-01  1.44929882e+00  4.31219585e-01 ... -4.46961696e-01\n",
      "     6.47083180e-01  1.46400600e+00]\n",
      "   [-2.99465897e-01  1.29634307e+00  6.28905839e-01 ...  1.88395144e-01\n",
      "     8.39358194e-01 -4.20956469e-02]]\n",
      "\n",
      "  [[ 8.54563694e-01 -1.75395576e+00 -8.48161311e-01 ... -1.79622293e-01\n",
      "    -1.25023583e-01 -1.91504493e-01]\n",
      "   [-3.25385204e-01  3.28797275e-01 -1.72789972e+00 ...  1.06714326e-01\n",
      "    -8.05588477e-01  4.42628516e-01]\n",
      "   [ 2.21228446e-01 -1.93990864e-01 -1.62465438e-01 ...  7.89377594e-01\n",
      "    -1.52644811e-01  1.51253531e+00]\n",
      "   ...\n",
      "   [-8.16607457e-01  1.28918250e+00  8.89230425e-01 ... -2.24153587e-01\n",
      "    -6.70589728e-01 -1.02115754e+00]\n",
      "   [ 1.19901248e+00 -2.56878029e+00  1.30158077e+00 ...  1.50934794e+00\n",
      "    -6.94495082e-01 -9.40069647e-01]\n",
      "   [-1.82667324e+00 -1.84590680e-01  5.70582112e-01 ... -5.40723254e-01\n",
      "     9.45966092e-01  1.45003434e+00]]\n",
      "\n",
      "  [[ 1.61308648e+00 -1.22342690e-01 -2.68364316e-01 ...  1.06614626e+00\n",
      "     1.67075137e+00  3.60253698e-04]\n",
      "   [-7.48672239e-02 -1.50987104e+00  1.07798963e+00 ... -6.26902856e-01\n",
      "     8.26024336e-01  2.02643880e+00]\n",
      "   [-4.02416500e-01  2.44614942e-01 -9.70665843e-01 ...  2.36280188e-01\n",
      "    -7.98837191e-01  7.52811017e-01]\n",
      "   ...\n",
      "   [ 2.25897298e+00  3.30727518e-01  2.74936225e-01 ... -5.19651576e-01\n",
      "     2.06689352e-01 -6.38896876e-01]\n",
      "   [-1.31961247e+00  7.68029323e-01  2.73516382e-01 ...  5.24829470e-01\n",
      "    -3.81754177e-01 -1.14409532e+00]\n",
      "   [-1.03038246e-01 -1.54859080e+00 -1.11135283e+00 ...  1.03908499e+00\n",
      "     5.78396709e-01 -1.63279957e-01]]]\n",
      "\n",
      "\n",
      " [[[ 5.80067237e-02 -7.65672880e-01 -2.78094216e-01 ...  5.23803925e-01\n",
      "     2.27303353e+00 -6.46197421e-01]\n",
      "   [-2.68472409e-02 -8.90282749e-02  1.59651642e+00 ... -8.78742148e-01\n",
      "     1.15152247e-01 -7.62752500e-01]\n",
      "   [-9.33143754e-01 -9.00337110e-01 -6.37128551e-01 ...  2.06056310e+00\n",
      "     1.61865116e+00  1.40915788e+00]\n",
      "   ...\n",
      "   [ 5.90126452e-01  4.33048955e-02 -8.54718290e-01 ...  1.47843690e-01\n",
      "    -1.17617032e+00  7.84091960e-01]\n",
      "   [-9.47554457e-01 -5.35697367e-02 -9.01854941e-01 ... -2.52207851e+00\n",
      "    -7.32944713e-01  6.42984527e-01]\n",
      "   [ 2.39272236e+00  1.08380675e+00 -1.23551142e+00 ...  4.02652076e-02\n",
      "    -3.45674914e-02 -2.25444042e-01]]\n",
      "\n",
      "  [[ 3.02266221e-01 -1.51117654e+00 -4.27714937e-01 ...  6.91840269e-01\n",
      "    -6.70917816e-01 -1.58559625e+00]\n",
      "   [ 8.82933154e-01  7.51279432e-01 -1.15401967e+00 ...  9.61206583e-01\n",
      "    -1.62147214e+00 -1.43578757e-01]\n",
      "   [-4.08727552e-01  1.05742687e+00 -3.16075150e-03 ...  2.64377535e-01\n",
      "     3.45609176e-01  2.31257064e-01]\n",
      "   ...\n",
      "   [ 8.97893876e-01 -2.24953184e+00 -2.38399259e-01 ... -2.08741198e+00\n",
      "    -5.22633198e-01  1.55994510e-01]\n",
      "   [ 7.76789846e-02 -5.97788988e-01  1.88273870e+00 ... -2.44979460e+00\n",
      "     5.39267123e-01 -8.63289364e-01]\n",
      "   [-3.50634531e-02  1.06787637e+00 -9.07618909e-01 ... -1.35230754e+00\n",
      "    -1.54194399e+00  4.83077351e-01]]\n",
      "\n",
      "  [[-1.87416634e+00 -7.03322907e-01  7.15490541e-01 ...  5.81178527e-01\n",
      "     2.11369296e+00 -1.16246937e-01]\n",
      "   [-1.34593754e+00  2.09577973e-01  1.87092876e+00 ... -4.69218336e-01\n",
      "     1.33863086e+00  1.83765234e-01]\n",
      "   [ 9.89253987e-01 -8.99550927e-01 -1.51941774e+00 ... -8.55378182e-01\n",
      "    -4.44522164e-02 -4.05874517e-01]\n",
      "   ...\n",
      "   [ 4.51337493e-02  1.12625232e+00 -8.99237670e-01 ... -1.76563189e+00\n",
      "    -1.91375559e+00  3.04067351e-01]\n",
      "   [-8.48875416e-01 -1.59733283e+00  7.88203947e-02 ...  9.41370834e-01\n",
      "     3.59384644e-01 -7.36560184e-01]\n",
      "   [ 1.51434625e+00 -1.44679683e+00 -9.45953449e-01 ... -7.78019681e-01\n",
      "    -2.19565064e+00 -2.55514646e-01]]\n",
      "\n",
      "  ...\n",
      "\n",
      "  [[ 4.93138119e-01  2.22610407e-01 -3.76417777e-01 ... -7.01017984e-02\n",
      "     5.70821004e-01 -4.83350392e-01]\n",
      "   [ 1.85689114e+00  2.96720131e+00  1.58236119e+00 ...  2.19875386e-01\n",
      "     1.67471309e+00  4.47075551e-01]\n",
      "   [ 1.76537484e+00 -7.24641877e-01 -1.35423421e+00 ... -1.64966661e+00\n",
      "    -6.46118618e-01 -6.44066542e-01]\n",
      "   ...\n",
      "   [-2.96886267e-03  1.13512530e+00  3.54399133e-01 ... -1.00437845e+00\n",
      "     7.20132963e-01  2.97360974e-01]\n",
      "   [ 7.35419397e-01 -1.10889410e+00  4.81473470e-02 ...  7.18336612e-01\n",
      "    -1.28541149e+00 -4.52582164e-01]\n",
      "   [-2.25935321e-01 -4.29727022e-01 -3.08416023e-01 ... -1.97044265e-01\n",
      "    -8.08564902e-01  9.54082342e-01]]\n",
      "\n",
      "  [[ 1.16029567e+00  1.16528855e+00 -3.45637342e-01 ... -5.89932524e-01\n",
      "    -3.10873583e-01  9.99918319e-01]\n",
      "   [-6.77086674e-01  2.20356774e-01  2.54907152e-01 ... -4.85149081e-01\n",
      "    -5.55896875e-02  1.37886587e+00]\n",
      "   [ 3.27905477e-02  3.42899517e-01 -1.46788521e+00 ...  3.71872802e-01\n",
      "    -8.11629700e-01 -1.46238893e+00]\n",
      "   ...\n",
      "   [ 6.98400637e-01 -1.07447510e+00  8.90945721e-01 ...  1.01782793e+00\n",
      "     1.95226554e-01 -9.60677931e-01]\n",
      "   [ 1.56480064e+00 -4.58435867e-01 -1.24193174e+00 ... -4.42876047e-01\n",
      "    -5.40318313e-02 -3.47481146e-01]\n",
      "   [ 7.31745649e-01 -7.96926526e-01  1.50317345e-01 ...  4.65123871e-01\n",
      "     8.76788444e-01 -7.12616181e-02]]\n",
      "\n",
      "  [[-8.60332618e-01 -9.77516396e-02 -2.48461623e-01 ... -2.29421246e-01\n",
      "    -1.25323298e+00  3.57538230e-01]\n",
      "   [-1.17511004e+00 -3.64855843e-01  1.87815686e-01 ... -4.77295729e-02\n",
      "    -5.55431955e-01 -1.18403880e+00]\n",
      "   [-8.64073815e-01 -2.90861422e-01  1.44545312e+00 ... -1.59571137e-01\n",
      "    -5.09857445e-01 -1.06606521e+00]\n",
      "   ...\n",
      "   [-5.52308356e-01 -9.74722419e-01 -1.35659176e+00 ... -2.53277033e-01\n",
      "    -3.92816076e-03 -4.44350498e-01]\n",
      "   [-1.16644825e+00 -2.09714050e+00 -3.29913633e-01 ... -1.67887783e-01\n",
      "     1.23650841e-01  2.24887461e+00]\n",
      "   [-1.18130200e+00 -8.06884961e-02 -4.34057101e-01 ... -1.10681212e-01\n",
      "    -7.82191851e-02  1.04721419e+00]]]\n",
      "\n",
      "\n",
      " [[[-9.09387706e-01 -1.14407030e+00  1.39601271e-01 ...  2.15224294e+00\n",
      "     1.00956669e+00 -1.56277733e+00]\n",
      "   [ 2.91644416e-01  2.80574262e+00 -2.02574890e-01 ...  6.93043278e-01\n",
      "     3.10527967e-01 -1.25202036e+00]\n",
      "   [ 1.77812738e-01  6.96448483e-01  2.13137168e-01 ...  2.02635452e-01\n",
      "     4.83283429e-01 -8.33299398e-01]\n",
      "   ...\n",
      "   [ 1.49991147e+00  1.91531425e+00 -1.05156494e+00 ...  7.27005117e-01\n",
      "    -7.71020576e-01  8.02275829e-01]\n",
      "   [ 9.54640711e-01 -5.08346035e-01  3.95834162e-01 ...  8.54632291e-01\n",
      "    -3.96066123e-01 -3.74329071e-02]\n",
      "   [-3.20758941e-01  5.76985950e-01  1.39703723e-01 ...  9.91661847e-01\n",
      "     1.63430813e+00  1.24703140e+00]]\n",
      "\n",
      "  [[-2.21345895e-01  2.38530657e-01 -4.85948754e-01 ... -3.81114894e-01\n",
      "     6.07665999e-01  6.48958301e-01]\n",
      "   [-1.38094275e+00 -9.21878506e-01 -9.21593867e-01 ... -4.42223478e-01\n",
      "     7.69868407e-01 -1.02779185e+00]\n",
      "   [ 1.55141771e+00  2.28146495e+00 -7.05371667e-01 ...  3.76421070e-01\n",
      "     5.50547732e-01 -9.75132403e-01]\n",
      "   ...\n",
      "   [ 6.68372527e-01 -1.89508829e+00 -2.37266605e-01 ...  1.18269791e+00\n",
      "     1.38394695e-01  2.52197003e-02]\n",
      "   [-1.22467572e-01  4.80555115e-01 -1.49737788e+00 ...  2.07018657e-02\n",
      "    -1.58362306e-01 -1.75940997e-01]\n",
      "   [-6.51285151e-01  1.23802864e+00 -1.15289013e+00 ...  2.56819616e-01\n",
      "     3.60146832e-01  1.24083144e+00]]\n",
      "\n",
      "  [[-4.46690905e-01  1.56815941e+00  2.05226378e-02 ...  7.16658187e-01\n",
      "    -2.10045619e-01  6.81281161e-01]\n",
      "   [-7.52159036e-01 -1.03094146e+00  2.31271459e-01 ...  1.83855528e+00\n",
      "     5.13382439e-01 -1.99508500e-01]\n",
      "   [ 2.73710525e-01 -9.32450443e-01  9.18339708e-03 ...  7.56785471e-01\n",
      "    -2.20238997e+00  4.79080593e-01]\n",
      "   ...\n",
      "   [ 3.82323236e-01 -1.29901818e+00  1.12144098e+00 ...  5.33000224e-01\n",
      "    -2.86730590e-02  1.15380505e+00]\n",
      "   [ 5.69572461e-01  1.24947265e-01  2.92928906e-01 ... -1.15993288e+00\n",
      "     1.54341843e+00  1.44778183e+00]\n",
      "   [-1.34851100e+00 -1.73751026e+00 -8.80396912e-01 ...  1.36844181e+00\n",
      "     6.38173751e-01 -1.08952998e+00]]\n",
      "\n",
      "  ...\n",
      "\n",
      "  [[-1.01193567e+00  6.81053623e-01 -2.71246491e-01 ...  1.33720587e+00\n",
      "     6.82056049e-02  1.26981969e+00]\n",
      "   [-7.48763661e-01  2.14517594e+00  1.88838823e+00 ... -1.79242450e+00\n",
      "     1.17641697e+00  6.04661695e-01]\n",
      "   [ 5.09237968e-01 -1.98935510e-01 -6.98841287e-01 ... -1.11846904e-01\n",
      "    -2.23318502e+00 -9.63797922e-04]\n",
      "   ...\n",
      "   [-1.07345565e+00  8.64713678e-01 -5.10906411e-01 ...  4.79597068e-01\n",
      "     7.84743356e-01  1.10231792e+00]\n",
      "   [-3.84585487e-01  9.14042714e-01  1.31232586e-01 ... -6.63936834e-01\n",
      "     1.81726467e+00  1.05179903e+00]\n",
      "   [ 7.64095552e-01 -1.36071744e-01 -8.02170521e-01 ...  1.96586705e-01\n",
      "    -3.73118677e-01 -7.90987702e-01]]\n",
      "\n",
      "  [[ 5.29474810e-01 -1.70174720e+00 -1.55595291e+00 ... -1.82085313e+00\n",
      "    -1.28389112e+00  5.92470176e-02]\n",
      "   [ 5.58807862e-01  4.73006799e-01 -4.39531102e-01 ...  3.20504102e-01\n",
      "    -1.52222610e+00 -9.31097425e-01]\n",
      "   [-7.06176060e-02 -1.27161657e+00  9.51601532e-01 ...  1.07893192e+00\n",
      "     6.26374126e-01  1.66284121e-01]\n",
      "   ...\n",
      "   [ 3.38219222e-01 -6.63856064e-01  1.53525265e+00 ...  1.17054746e-01\n",
      "    -6.17729642e-01 -6.05876260e-01]\n",
      "   [ 2.48017269e-01 -3.67120089e-01  2.00873907e+00 ... -2.72113672e-01\n",
      "     7.51582858e-01  1.58162948e+00]\n",
      "   [ 6.26857719e-01  3.88560069e-01 -2.67988839e+00 ... -1.22184269e+00\n",
      "     6.73029409e-01  2.72699205e-01]]\n",
      "\n",
      "  [[ 6.13603695e-01  8.14054035e-01 -2.25620085e+00 ... -1.96609646e+00\n",
      "    -3.05547777e-01  1.86935337e+00]\n",
      "   [ 1.18428504e+00  9.88355710e-01  1.11950389e+00 ...  1.62776721e+00\n",
      "     5.33893894e-01  1.61490808e+00]\n",
      "   [-2.94444540e-01  8.58920467e-01  4.47519615e-01 ... -9.95330614e-01\n",
      "    -2.29487820e+00 -9.53766341e-01]\n",
      "   ...\n",
      "   [ 1.27489856e+00 -2.68285044e-01  2.02788646e-01 ...  2.07372196e-01\n",
      "    -1.75513807e-01 -8.10444420e-01]\n",
      "   [-1.03092606e-02  1.90925246e+00 -3.72923369e-02 ...  5.26924260e-01\n",
      "    -1.04003448e+00  1.08186928e+00]\n",
      "   [ 2.50734878e-01  4.09712768e-01 -9.71591396e-01 ... -1.46762996e-01\n",
      "     2.90728703e-01  5.42489523e-01]]]\n",
      "\n",
      "\n",
      " ...\n",
      "\n",
      "\n",
      " [[[-1.00356905e+00  7.31847390e-01  1.67377247e+00 ... -9.59997252e-01\n",
      "     3.00254268e-01 -1.74942866e+00]\n",
      "   [-1.82104282e+00 -5.11286912e-01  7.90756524e-01 ... -2.32033047e+00\n",
      "     4.80962579e-01 -1.20963520e+00]\n",
      "   [-8.91604197e-01 -3.70771337e-01 -1.14358517e-01 ... -1.67483067e+00\n",
      "    -1.29824112e-01  2.65592131e-01]\n",
      "   ...\n",
      "   [ 9.58586206e-01  1.08514544e+00 -6.96862820e-01 ...  2.06231114e-01\n",
      "     2.60617317e-02 -1.97152102e+00]\n",
      "   [-1.27361768e+00  1.88063051e+00 -1.99559350e+00 ... -2.09910824e-01\n",
      "     1.48449665e+00  7.15851288e-01]\n",
      "   [ 3.78080888e-01 -8.09120947e-01 -1.04238349e+00 ...  9.74251071e-01\n",
      "     2.80673726e-01  3.65451489e-01]]\n",
      "\n",
      "  [[ 5.85883084e-02 -3.62187135e-02 -4.64407292e-01 ... -1.94973788e-01\n",
      "    -1.32605842e+00  1.14980884e+00]\n",
      "   [ 5.06573112e-01 -1.51950793e+00 -3.41395320e-01 ...  2.97058691e-01\n",
      "    -1.86850806e-01 -7.03913892e-01]\n",
      "   [ 2.13814756e+00 -7.87610286e-01 -7.48793444e-01 ...  5.88302432e-01\n",
      "    -1.09341053e+00  1.17378242e+00]\n",
      "   ...\n",
      "   [-1.57650843e+00  8.57299845e-01  6.21817325e-01 ... -2.25740292e-01\n",
      "    -2.26909553e+00 -1.82907028e+00]\n",
      "   [-1.74999852e-01  3.61172785e-01 -1.57495310e+00 ... -4.98348129e-02\n",
      "     1.08472489e+00 -2.02204589e+00]\n",
      "   [-7.77591847e-01  1.07006017e+00  8.37905293e-02 ... -4.54438546e-02\n",
      "    -1.33728269e+00  1.34826771e+00]]\n",
      "\n",
      "  [[ 1.94121584e+00  9.46088270e-01 -5.62220885e-01 ... -1.71237043e-01\n",
      "     4.74080572e-02  1.33376207e+00]\n",
      "   [-8.46116140e-01 -1.16723937e+00  1.92483371e+00 ... -7.94150076e-02\n",
      "     4.61020464e-01 -3.30742476e-01]\n",
      "   [ 1.89445289e+00 -8.96252232e-01 -5.26291570e-01 ... -5.38573575e-01\n",
      "     1.37464107e+00  7.20990960e-01]\n",
      "   ...\n",
      "   [ 9.35736371e-01  5.55496906e-01 -4.47854546e-01 ... -4.67234102e-02\n",
      "    -1.21660313e+00 -3.02666732e-01]\n",
      "   [-5.98107752e-01 -1.44009506e+00 -6.03054729e-01 ...  1.41287243e+00\n",
      "    -7.57571618e-01  6.10053886e-01]\n",
      "   [ 2.82510016e-01  3.74569503e-01 -6.20537296e-01 ...  7.60998712e-01\n",
      "    -1.43618309e+00 -3.21409774e-01]]\n",
      "\n",
      "  ...\n",
      "\n",
      "  [[-1.36042510e+00 -5.10357203e-01 -1.61297164e-01 ... -1.43697194e+00\n",
      "     3.21133729e-01 -3.32398618e-02]\n",
      "   [-1.39972370e+00  3.07201766e-01  3.08660507e-01 ... -1.11787896e+00\n",
      "     9.00235691e-02 -4.62668807e-01]\n",
      "   [ 1.23354860e+00 -2.62564853e-01 -7.01424744e-02 ...  1.43643473e+00\n",
      "     2.85519862e-01  7.36119499e-01]\n",
      "   ...\n",
      "   [-3.06834506e+00  5.86805431e-01  2.36747900e-01 ... -1.02264944e+00\n",
      "    -1.01637249e+00  2.61568652e-01]\n",
      "   [-7.82360101e-01 -1.53795015e+00 -1.16148304e+00 ...  4.76703463e-01\n",
      "     8.65982298e-01  8.52000823e-01]\n",
      "   [-4.60254189e-01 -1.44093525e+00 -1.31192450e+00 ... -5.09388138e-01\n",
      "    -9.44389421e-01 -1.03486652e+00]]\n",
      "\n",
      "  [[ 1.84298240e+00  4.79029535e-01  1.35840970e-01 ...  1.14418996e+00\n",
      "     1.79759190e+00  6.88714115e-01]\n",
      "   [-3.63486290e-01  1.22295269e+00  3.44365487e-01 ...  8.73957640e-01\n",
      "    -8.89649880e-01 -1.58794788e+00]\n",
      "   [-1.31205132e+00  7.69882376e-01  5.53267195e-01 ...  2.73068879e-01\n",
      "    -1.01608926e+00 -7.78889823e-01]\n",
      "   ...\n",
      "   [ 9.70428823e-01 -1.71583698e-01  1.65146430e+00 ...  2.46058422e-01\n",
      "     8.68777230e-01 -1.38492250e+00]\n",
      "   [-3.66463031e-01  1.29554523e+00  1.68534318e+00 ... -1.76143959e+00\n",
      "    -3.17045044e-01  1.00996835e+00]\n",
      "   [ 7.79525804e-01 -2.92119017e-01 -3.85461974e-01 ... -1.02654660e+00\n",
      "     2.76354476e-01  1.02434744e+00]]\n",
      "\n",
      "  [[ 3.24694639e-01 -6.26118628e-01 -1.29452790e+00 ... -4.24140126e-01\n",
      "    -2.20147095e+00 -9.68004192e-01]\n",
      "   [ 1.99785492e-01 -3.08293192e-01  3.57152289e-01 ... -4.39329994e-01\n",
      "     5.48735254e-01  8.02047371e-01]\n",
      "   [ 6.54949810e-01 -4.98117115e-01  1.27781837e+00 ... -8.34690791e-01\n",
      "     2.09356523e-01  9.85623180e-02]\n",
      "   ...\n",
      "   [-1.18785222e+00  1.56813558e+00 -1.15709096e+00 ...  9.96781562e-02\n",
      "     2.05715651e+00  1.78532740e+00]\n",
      "   [ 5.55561873e-02  1.20486212e-01 -1.28392105e+00 ...  1.08977121e+00\n",
      "    -2.94174657e+00  4.52660053e-01]\n",
      "   [-8.59691549e-01 -1.98579000e+00 -8.35171473e-01 ...  8.21645921e-01\n",
      "     3.38428949e-01  8.13886097e-01]]]\n",
      "\n",
      "\n",
      " [[[-1.12868072e+00 -4.16341967e-01 -2.11606420e-01 ...  1.58499706e-01\n",
      "    -7.09458050e-01 -1.02983374e+00]\n",
      "   [ 5.44625859e-01  1.55404192e+00 -1.14901707e+00 ...  6.80337226e-01\n",
      "    -2.67964114e-01  1.11782942e+00]\n",
      "   [ 3.22054646e-01 -1.20006279e+00  6.93302955e-01 ... -3.26147720e-01\n",
      "    -3.01612363e+00 -5.17926821e-01]\n",
      "   ...\n",
      "   [-1.01283907e+00  1.09815047e+00 -2.90980445e-01 ...  1.73347339e+00\n",
      "    -2.99864305e-01 -9.98057215e-01]\n",
      "   [ 1.07045515e+00 -4.72337699e-01  6.21075803e-01 ... -4.70583633e-01\n",
      "    -1.04943938e+00  1.78870255e-01]\n",
      "   [ 5.13599628e-01 -1.87476686e+00  4.71985656e-01 ...  5.75579998e-01\n",
      "     6.85159329e-01 -1.06117182e-01]]\n",
      "\n",
      "  [[-1.12387205e+00 -2.66247834e+00  6.18077285e-01 ... -2.92998206e-01\n",
      "    -6.67184130e-02  3.53062159e-01]\n",
      "   [ 1.00632253e+00 -2.27740481e+00  5.86710022e-01 ...  1.60926461e+00\n",
      "    -2.50100133e+00 -4.01589734e-01]\n",
      "   [-1.22923874e+00  6.67259009e-01  1.01395120e+00 ... -9.78175202e-01\n",
      "    -8.69811173e-01  1.15491402e+00]\n",
      "   ...\n",
      "   [ 1.03375775e+00  1.96606024e-01  1.16818541e+00 ...  1.38383405e-01\n",
      "     2.09397392e+00  6.44660936e-01]\n",
      "   [-1.64610788e+00 -8.04837547e-01  1.83551188e-01 ...  2.26034175e-01\n",
      "    -4.30662420e-01 -1.28761929e+00]\n",
      "   [-1.11698254e+00  3.15637575e-01  4.28396825e-01 ...  3.87132978e-01\n",
      "    -7.16926215e-01  7.04609504e-01]]\n",
      "\n",
      "  [[ 1.87837257e+00 -6.28104559e-01  2.90029388e-01 ...  1.43693970e+00\n",
      "     5.26001906e-01 -1.47731364e+00]\n",
      "   [ 3.98021189e-01 -1.82861614e+00  1.01060816e+00 ...  3.46812115e-01\n",
      "    -1.34562880e+00  2.79582682e-02]\n",
      "   [ 2.65621966e-01  4.93591288e-02  1.29746960e+00 ...  1.41183330e+00\n",
      "    -5.07309174e-01 -1.34246169e+00]\n",
      "   ...\n",
      "   [ 6.00937353e-01 -5.05815350e-01 -1.68425493e-01 ...  1.04687559e+00\n",
      "    -6.71594489e-01  1.42892964e-01]\n",
      "   [ 3.05253994e-01  1.38489192e+00  5.67081325e-01 ...  7.19132197e-01\n",
      "     5.72201183e-01  5.09056230e-01]\n",
      "   [ 6.93967287e-01 -8.28900340e-01 -1.16131588e+00 ...  5.71905703e-01\n",
      "    -9.29023367e-01 -1.87462877e-02]]\n",
      "\n",
      "  ...\n",
      "\n",
      "  [[ 3.86646245e-01  1.16300801e+00 -7.14599647e-01 ... -2.20341118e-01\n",
      "     6.78343434e-01  7.59196633e-01]\n",
      "   [-1.20922878e-01  1.82433156e+00  2.04993817e+00 ...  5.43855457e-01\n",
      "     2.12303333e+00  1.09109170e+00]\n",
      "   [ 7.63785520e-01  3.66673804e-01  7.97735271e-01 ...  1.32231292e+00\n",
      "     9.76012043e-01  1.81815757e+00]\n",
      "   ...\n",
      "   [ 1.08119673e+00  1.35305326e+00  1.24789344e+00 ...  2.97956808e-01\n",
      "     8.31183642e-01 -6.17566419e-01]\n",
      "   [-3.92413400e-01 -9.59211520e-02  5.87263099e-01 ...  2.71706121e+00\n",
      "     1.29706229e+00  4.77182438e-01]\n",
      "   [ 6.36274759e-01  2.58034977e+00  5.60922602e-01 ... -5.36877094e-02\n",
      "    -1.61032776e+00  6.40678392e-01]]\n",
      "\n",
      "  [[ 1.25130884e+00  1.36845358e+00  9.08408630e-01 ...  3.97725147e-01\n",
      "    -1.61451503e+00  9.16644458e-01]\n",
      "   [-6.08929106e-01 -1.55438741e+00  1.28863483e+00 ...  1.81887899e+00\n",
      "     1.19792379e+00 -7.75025618e-01]\n",
      "   [-1.85863669e+00  2.55852699e-01 -1.66649850e+00 ... -3.48032675e-01\n",
      "    -3.98544419e-01  7.25987758e-02]\n",
      "   ...\n",
      "   [ 7.46203918e-02  1.24040097e+00  7.61375336e-01 ...  7.94227522e-01\n",
      "     5.40983396e-01  5.96650078e-01]\n",
      "   [ 1.20224092e+00 -2.10162093e+00 -8.68838517e-01 ...  7.32365937e-01\n",
      "    -1.69053707e+00 -1.13469223e+00]\n",
      "   [ 4.82554640e-01 -1.79088515e-01  7.94660090e-02 ... -2.00124585e-01\n",
      "    -2.38206248e-01 -3.99679672e-01]]\n",
      "\n",
      "  [[-4.13597997e-01  1.31883828e+00 -1.65906714e+00 ...  8.72883024e-02\n",
      "    -9.40307459e-01 -1.28467451e+00]\n",
      "   [-3.30006075e-01  2.95347454e-01 -7.85755333e-01 ... -4.09506933e-01\n",
      "     7.32686798e-01  6.06644182e-01]\n",
      "   [-4.38698661e-01  3.79378382e-01 -3.64465651e-01 ...  2.46767752e-01\n",
      "    -2.14692593e+00  9.51836061e-01]\n",
      "   ...\n",
      "   [-1.01559824e+00  1.32252601e-01  2.38781127e+00 ...  7.64650862e-01\n",
      "    -4.34411404e-01 -1.98318967e+00]\n",
      "   [-1.60500737e+00 -1.05664406e+00 -7.61201273e-01 ...  1.24212161e+00\n",
      "    -4.52490661e-01 -9.49601412e-01]\n",
      "   [ 4.57088342e-01 -1.95399417e-01  1.23410431e+00 ...  1.33890934e+00\n",
      "     3.46941676e-01  1.06822421e+00]]]\n",
      "\n",
      "\n",
      " [[[-1.63153805e+00  3.39113290e-01 -5.29318696e-01 ... -1.48072310e+00\n",
      "     2.58124443e+00 -7.40695822e-01]\n",
      "   [ 2.29676052e-01 -5.22555660e-01  1.08334604e+00 ... -2.11731731e+00\n",
      "     8.39961249e-01 -7.50323949e-02]\n",
      "   [ 1.40354491e+00  2.23038230e-01  5.82479765e-01 ... -1.97976046e+00\n",
      "    -1.99084627e+00  1.96586894e+00]\n",
      "   ...\n",
      "   [-8.38669018e-01 -5.42509845e-01  1.19972458e+00 ...  3.05300707e-01\n",
      "    -5.03155209e-01 -1.16514267e+00]\n",
      "   [ 1.03859499e+00 -1.89974633e+00  1.53401410e+00 ...  7.71007466e-01\n",
      "    -1.56394111e+00 -1.33805180e+00]\n",
      "   [-1.13723007e+00  1.73049822e-01 -7.16490954e-01 ...  1.97540822e-02\n",
      "     6.87469031e-01 -5.47367568e-01]]\n",
      "\n",
      "  [[-1.35516002e+00  2.43488730e+00  2.41734927e+00 ... -5.87047577e-01\n",
      "     6.98708253e-01  1.65635629e+00]\n",
      "   [ 6.65586175e-01  2.20887105e-01 -3.90326190e-01 ... -6.15546130e-01\n",
      "    -3.43416434e-01 -2.01234176e+00]\n",
      "   [ 2.22220817e+00 -1.86376862e+00  8.26182742e-01 ... -4.38903674e-01\n",
      "     4.05263809e-01  5.64630953e-01]\n",
      "   ...\n",
      "   [-2.28634263e-01 -1.55895092e+00 -8.42604543e-01 ...  1.94071791e+00\n",
      "    -1.13023950e+00 -2.47661479e+00]\n",
      "   [-7.29876502e-01 -1.42324758e+00  1.24740289e+00 ... -8.98005845e-01\n",
      "    -4.82649688e-01 -1.03872024e+00]\n",
      "   [-2.22551911e-01 -1.45340055e+00  1.62004748e+00 ... -3.10873806e-02\n",
      "     1.10931927e+00  1.18047971e+00]]\n",
      "\n",
      "  [[-4.83001525e-01  4.80467509e-01  1.04981688e+00 ... -3.33940393e-01\n",
      "    -1.69408309e+00 -9.83875725e-01]\n",
      "   [-3.61132970e-01  1.22965436e+00  1.74850424e-01 ... -1.08818503e+00\n",
      "    -2.72247798e-01  1.00748624e-01]\n",
      "   [ 1.58678546e+00  4.50145069e-01 -1.63558153e+00 ...  5.25119826e-01\n",
      "    -6.80154285e-02  3.39028547e-01]\n",
      "   ...\n",
      "   [-1.64080422e-02 -1.77824957e+00 -3.10544260e-01 ... -8.50399814e-01\n",
      "     1.43028954e+00  6.62566678e-02]\n",
      "   [ 5.02403171e-01  7.05356915e-01  1.56628322e+00 ... -1.61633137e+00\n",
      "    -7.99204368e-01 -1.05937910e+00]\n",
      "   [ 8.92046569e-01  9.28921451e-01  6.43743328e-01 ...  2.34369232e+00\n",
      "     2.04727792e+00 -1.42169337e+00]]\n",
      "\n",
      "  ...\n",
      "\n",
      "  [[-1.21710575e+00  5.57559258e-01 -1.29713590e+00 ... -1.22051072e+00\n",
      "     3.99988714e-01  9.55970346e-02]\n",
      "   [-1.39117196e+00 -5.87588390e-01 -2.96945135e+00 ...  4.07118980e-01\n",
      "     1.32885677e-01 -2.86930464e-01]\n",
      "   [-3.67555606e-02 -1.56093974e+00  3.52847896e-01 ... -1.34793591e+00\n",
      "    -1.88882922e+00  9.13267832e-01]\n",
      "   ...\n",
      "   [-1.10312756e+00 -1.03972051e+00  9.59140261e-01 ... -4.31876113e-01\n",
      "    -2.08086000e-01  1.33712722e-01]\n",
      "   [-1.09398465e+00  1.53377258e+00 -1.64720597e+00 ...  2.12415477e-01\n",
      "     3.11681839e-01 -2.08596602e+00]\n",
      "   [ 3.78842317e-01 -1.53170863e-02  1.09278609e+00 ...  1.32135390e+00\n",
      "    -1.86083145e+00 -2.18249840e-01]]\n",
      "\n",
      "  [[-4.77247237e-01 -7.92054075e-01 -8.74245022e-02 ... -1.86357460e-01\n",
      "    -4.58908858e-01  8.05747482e-01]\n",
      "   [ 6.14844157e-01 -4.42184353e-01  9.78402161e-01 ... -1.88184087e+00\n",
      "     1.22107547e+00 -4.53006082e-01]\n",
      "   [ 5.00196353e-01  5.31182099e-02  2.42731109e+00 ... -1.49471783e-01\n",
      "     2.08703364e+00  1.56350349e+00]\n",
      "   ...\n",
      "   [-1.67139424e+00 -1.16586485e+00 -1.52133544e+00 ...  1.50129288e+00\n",
      "    -1.44402921e+00  2.05173204e+00]\n",
      "   [ 7.68478981e-01  7.74039014e-01 -1.26421055e-01 ...  1.52340196e+00\n",
      "    -6.40669689e-01 -1.14814921e+00]\n",
      "   [ 1.16345335e+00 -1.02070299e+00  4.80124385e-01 ...  3.24564714e-01\n",
      "     8.23880016e-01 -1.12629728e+00]]\n",
      "\n",
      "  [[ 2.82236218e-01 -4.80863503e-01 -2.48725158e-01 ... -1.37823041e+00\n",
      "    -6.84299490e-01  1.48997064e+00]\n",
      "   [-5.56842372e-01  3.22950516e-01  2.19343059e+00 ...  9.06673443e-01\n",
      "    -7.40439780e-03 -1.19941169e-01]\n",
      "   [-1.73810766e+00  2.56734410e-01 -2.20367851e-02 ... -3.11093344e-01\n",
      "    -6.60271782e-02 -2.07680157e-01]\n",
      "   ...\n",
      "   [-1.50842356e-01 -5.64640742e-01  8.38189670e-01 ...  2.18718534e-01\n",
      "    -1.07280829e+00  2.06267464e-01]\n",
      "   [ 6.22482696e-01  8.70112908e-01  4.38468281e-01 ...  5.69045538e-01\n",
      "    -3.11056954e-01  8.85443029e-01]\n",
      "   [-7.64946298e-02  4.97048998e-01  3.32117543e-01 ... -1.11052089e+00\n",
      "    -2.70134165e-01 -9.04152787e-01]]]]\n",
      "[[ 0  1  0  0  0  0  0  0  0  0  0  0  0  0  0  0]\n",
      " [ 1  0  0  0  0  0  0  0  0  0  0  0  0  0  0  0]\n",
      " [ 0  0  0 -1  0  0  0  0  0  0  0  0  0  0  0  0]\n",
      " [ 0  0 -1  0  0  0  0  0  0  0  0  0  0  0  0  0]\n",
      " [ 0  0  0  0  0 -1  0  0  0  0  0  0  0  0  0  0]\n",
      " [ 0  0  0  0 -1  0  0  0  0  0  0  0  0  0  0  0]\n",
      " [ 0  0  0  0  0  0  0  1  0  0  0  0  0  0  0  0]\n",
      " [ 0  0  0  0  0  0  1  0  0  0  0  0  0  0  0  0]\n",
      " [ 0  0  0  0  0  0  0  0  0 -1  0  0  0  0  0  0]\n",
      " [ 0  0  0  0  0  0  0  0 -1  0  0  0  0  0  0  0]\n",
      " [ 0  0  0  0  0  0  0  0  0  0  0  1  0  0  0  0]\n",
      " [ 0  0  0  0  0  0  0  0  0  0  1  0  0  0  0  0]\n",
      " [ 0  0  0  0  0  0  0  0  0  0  0  0  0  1  0  0]\n",
      " [ 0  0  0  0  0  0  0  0  0  0  0  0  1  0  0  0]\n",
      " [ 0  0  0  0  0  0  0  0  0  0  0  0  0  0  0 -1]\n",
      " [ 0  0  0  0  0  0  0  0  0  0  0  0  0  0 -1  0]]\n",
      "[[0.+0.j 0.-1.j 0.+0.j 0.+0.j 0.+0.j 0.+0.j 0.+0.j 0.+0.j 0.+0.j 0.+0.j\n",
      "  0.+0.j 0.+0.j 0.+0.j 0.+0.j 0.+0.j 0.+0.j]\n",
      " [0.+1.j 0.+0.j 0.+0.j 0.+0.j 0.+0.j 0.+0.j 0.+0.j 0.+0.j 0.+0.j 0.+0.j\n",
      "  0.+0.j 0.+0.j 0.+0.j 0.+0.j 0.+0.j 0.+0.j]\n",
      " [0.+0.j 0.+0.j 0.+0.j 0.+1.j 0.+0.j 0.+0.j 0.+0.j 0.+0.j 0.+0.j 0.+0.j\n",
      "  0.+0.j 0.+0.j 0.+0.j 0.+0.j 0.+0.j 0.+0.j]\n",
      " [0.+0.j 0.+0.j 0.-1.j 0.+0.j 0.+0.j 0.+0.j 0.+0.j 0.+0.j 0.+0.j 0.+0.j\n",
      "  0.+0.j 0.+0.j 0.+0.j 0.+0.j 0.+0.j 0.+0.j]\n",
      " [0.+0.j 0.+0.j 0.+0.j 0.+0.j 0.+0.j 0.+1.j 0.+0.j 0.+0.j 0.+0.j 0.+0.j\n",
      "  0.+0.j 0.+0.j 0.+0.j 0.+0.j 0.+0.j 0.+0.j]\n",
      " [0.+0.j 0.+0.j 0.+0.j 0.+0.j 0.-1.j 0.+0.j 0.+0.j 0.+0.j 0.+0.j 0.+0.j\n",
      "  0.+0.j 0.+0.j 0.+0.j 0.+0.j 0.+0.j 0.+0.j]\n",
      " [0.+0.j 0.+0.j 0.+0.j 0.+0.j 0.+0.j 0.+0.j 0.+0.j 0.-1.j 0.+0.j 0.+0.j\n",
      "  0.+0.j 0.+0.j 0.+0.j 0.+0.j 0.+0.j 0.+0.j]\n",
      " [0.+0.j 0.+0.j 0.+0.j 0.+0.j 0.+0.j 0.+0.j 0.+1.j 0.+0.j 0.+0.j 0.+0.j\n",
      "  0.+0.j 0.+0.j 0.+0.j 0.+0.j 0.+0.j 0.+0.j]\n",
      " [0.+0.j 0.+0.j 0.+0.j 0.+0.j 0.+0.j 0.+0.j 0.+0.j 0.+0.j 0.+0.j 0.+1.j\n",
      "  0.+0.j 0.+0.j 0.+0.j 0.+0.j 0.+0.j 0.+0.j]\n",
      " [0.+0.j 0.+0.j 0.+0.j 0.+0.j 0.+0.j 0.+0.j 0.+0.j 0.+0.j 0.-1.j 0.+0.j\n",
      "  0.+0.j 0.+0.j 0.+0.j 0.+0.j 0.+0.j 0.+0.j]\n",
      " [0.+0.j 0.+0.j 0.+0.j 0.+0.j 0.+0.j 0.+0.j 0.+0.j 0.+0.j 0.+0.j 0.+0.j\n",
      "  0.+0.j 0.-1.j 0.+0.j 0.+0.j 0.+0.j 0.+0.j]\n",
      " [0.+0.j 0.+0.j 0.+0.j 0.+0.j 0.+0.j 0.+0.j 0.+0.j 0.+0.j 0.+0.j 0.+0.j\n",
      "  0.+1.j 0.+0.j 0.+0.j 0.+0.j 0.+0.j 0.+0.j]\n",
      " [0.+0.j 0.+0.j 0.+0.j 0.+0.j 0.+0.j 0.+0.j 0.+0.j 0.+0.j 0.+0.j 0.+0.j\n",
      "  0.+0.j 0.+0.j 0.+0.j 0.-1.j 0.+0.j 0.+0.j]\n",
      " [0.+0.j 0.+0.j 0.+0.j 0.+0.j 0.+0.j 0.+0.j 0.+0.j 0.+0.j 0.+0.j 0.+0.j\n",
      "  0.+0.j 0.+0.j 0.+1.j 0.+0.j 0.+0.j 0.+0.j]\n",
      " [0.+0.j 0.+0.j 0.+0.j 0.+0.j 0.+0.j 0.+0.j 0.+0.j 0.+0.j 0.+0.j 0.+0.j\n",
      "  0.+0.j 0.+0.j 0.+0.j 0.+0.j 0.+0.j 0.+1.j]\n",
      " [0.+0.j 0.+0.j 0.+0.j 0.+0.j 0.+0.j 0.+0.j 0.+0.j 0.+0.j 0.+0.j 0.+0.j\n",
      "  0.+0.j 0.+0.j 0.+0.j 0.+0.j 0.-1.j 0.+0.j]]\n",
      "[[ 0  0  1  0  0  0  0  0  0  0  0  0  0  0  0  0]\n",
      " [ 0  0  0  1  0  0  0  0  0  0  0  0  0  0  0  0]\n",
      " [ 1  0  0  0  0  0  0  0  0  0  0  0  0  0  0  0]\n",
      " [ 0  1  0  0  0  0  0  0  0  0  0  0  0  0  0  0]\n",
      " [ 0  0  0  0  0  0 -1  0  0  0  0  0  0  0  0  0]\n",
      " [ 0  0  0  0  0  0  0 -1  0  0  0  0  0  0  0  0]\n",
      " [ 0  0  0  0 -1  0  0  0  0  0  0  0  0  0  0  0]\n",
      " [ 0  0  0  0  0 -1  0  0  0  0  0  0  0  0  0  0]\n",
      " [ 0  0  0  0  0  0  0  0  0  0 -1  0  0  0  0  0]\n",
      " [ 0  0  0  0  0  0  0  0  0  0  0 -1  0  0  0  0]\n",
      " [ 0  0  0  0  0  0  0  0 -1  0  0  0  0  0  0  0]\n",
      " [ 0  0  0  0  0  0  0  0  0 -1  0  0  0  0  0  0]\n",
      " [ 0  0  0  0  0  0  0  0  0  0  0  0  0  0  1  0]\n",
      " [ 0  0  0  0  0  0  0  0  0  0  0  0  0  0  0  1]\n",
      " [ 0  0  0  0  0  0  0  0  0  0  0  0  1  0  0  0]\n",
      " [ 0  0  0  0  0  0  0  0  0  0  0  0  0  1  0  0]]\n",
      "[[0.+0.j 0.+0.j 0.-1.j 0.+0.j 0.+0.j 0.+0.j 0.+0.j 0.+0.j 0.+0.j 0.+0.j\n",
      "  0.+0.j 0.+0.j 0.+0.j 0.+0.j 0.+0.j 0.+0.j]\n",
      " [0.+0.j 0.+0.j 0.+0.j 0.-1.j 0.+0.j 0.+0.j 0.+0.j 0.+0.j 0.+0.j 0.+0.j\n",
      "  0.+0.j 0.+0.j 0.+0.j 0.+0.j 0.+0.j 0.+0.j]\n",
      " [0.+1.j 0.+0.j 0.+0.j 0.+0.j 0.+0.j 0.+0.j 0.+0.j 0.+0.j 0.+0.j 0.+0.j\n",
      "  0.+0.j 0.+0.j 0.+0.j 0.+0.j 0.+0.j 0.+0.j]\n",
      " [0.+0.j 0.+1.j 0.+0.j 0.+0.j 0.+0.j 0.+0.j 0.+0.j 0.+0.j 0.+0.j 0.+0.j\n",
      "  0.+0.j 0.+0.j 0.+0.j 0.+0.j 0.+0.j 0.+0.j]\n",
      " [0.+0.j 0.+0.j 0.+0.j 0.+0.j 0.+0.j 0.+0.j 0.+1.j 0.+0.j 0.+0.j 0.+0.j\n",
      "  0.+0.j 0.+0.j 0.+0.j 0.+0.j 0.+0.j 0.+0.j]\n",
      " [0.+0.j 0.+0.j 0.+0.j 0.+0.j 0.+0.j 0.+0.j 0.+0.j 0.+1.j 0.+0.j 0.+0.j\n",
      "  0.+0.j 0.+0.j 0.+0.j 0.+0.j 0.+0.j 0.+0.j]\n",
      " [0.+0.j 0.+0.j 0.+0.j 0.+0.j 0.-1.j 0.+0.j 0.+0.j 0.+0.j 0.+0.j 0.+0.j\n",
      "  0.+0.j 0.+0.j 0.+0.j 0.+0.j 0.+0.j 0.+0.j]\n",
      " [0.+0.j 0.+0.j 0.+0.j 0.+0.j 0.+0.j 0.-1.j 0.+0.j 0.+0.j 0.+0.j 0.+0.j\n",
      "  0.+0.j 0.+0.j 0.+0.j 0.+0.j 0.+0.j 0.+0.j]\n",
      " [0.+0.j 0.+0.j 0.+0.j 0.+0.j 0.+0.j 0.+0.j 0.+0.j 0.+0.j 0.+0.j 0.+0.j\n",
      "  0.+1.j 0.+0.j 0.+0.j 0.+0.j 0.+0.j 0.+0.j]\n",
      " [0.+0.j 0.+0.j 0.+0.j 0.+0.j 0.+0.j 0.+0.j 0.+0.j 0.+0.j 0.+0.j 0.+0.j\n",
      "  0.+0.j 0.+1.j 0.+0.j 0.+0.j 0.+0.j 0.+0.j]\n",
      " [0.+0.j 0.+0.j 0.+0.j 0.+0.j 0.+0.j 0.+0.j 0.+0.j 0.+0.j 0.-1.j 0.+0.j\n",
      "  0.+0.j 0.+0.j 0.+0.j 0.+0.j 0.+0.j 0.+0.j]\n",
      " [0.+0.j 0.+0.j 0.+0.j 0.+0.j 0.+0.j 0.+0.j 0.+0.j 0.+0.j 0.+0.j 0.-1.j\n",
      "  0.+0.j 0.+0.j 0.+0.j 0.+0.j 0.+0.j 0.+0.j]\n",
      " [0.+0.j 0.+0.j 0.+0.j 0.+0.j 0.+0.j 0.+0.j 0.+0.j 0.+0.j 0.+0.j 0.+0.j\n",
      "  0.+0.j 0.+0.j 0.+0.j 0.+0.j 0.-1.j 0.+0.j]\n",
      " [0.+0.j 0.+0.j 0.+0.j 0.+0.j 0.+0.j 0.+0.j 0.+0.j 0.+0.j 0.+0.j 0.+0.j\n",
      "  0.+0.j 0.+0.j 0.+0.j 0.+0.j 0.+0.j 0.-1.j]\n",
      " [0.+0.j 0.+0.j 0.+0.j 0.+0.j 0.+0.j 0.+0.j 0.+0.j 0.+0.j 0.+0.j 0.+0.j\n",
      "  0.+0.j 0.+0.j 0.+1.j 0.+0.j 0.+0.j 0.+0.j]\n",
      " [0.+0.j 0.+0.j 0.+0.j 0.+0.j 0.+0.j 0.+0.j 0.+0.j 0.+0.j 0.+0.j 0.+0.j\n",
      "  0.+0.j 0.+0.j 0.+0.j 0.+1.j 0.+0.j 0.+0.j]]\n",
      "[[ 0  0  0  0  1  0  0  0  0  0  0  0  0  0  0  0]\n",
      " [ 0  0  0  0  0  1  0  0  0  0  0  0  0  0  0  0]\n",
      " [ 0  0  0  0  0  0  1  0  0  0  0  0  0  0  0  0]\n",
      " [ 0  0  0  0  0  0  0  1  0  0  0  0  0  0  0  0]\n",
      " [ 1  0  0  0  0  0  0  0  0  0  0  0  0  0  0  0]\n",
      " [ 0  1  0  0  0  0  0  0  0  0  0  0  0  0  0  0]\n",
      " [ 0  0  1  0  0  0  0  0  0  0  0  0  0  0  0  0]\n",
      " [ 0  0  0  1  0  0  0  0  0  0  0  0  0  0  0  0]\n",
      " [ 0  0  0  0  0  0  0  0  0  0  0  0 -1  0  0  0]\n",
      " [ 0  0  0  0  0  0  0  0  0  0  0  0  0 -1  0  0]\n",
      " [ 0  0  0  0  0  0  0  0  0  0  0  0  0  0 -1  0]\n",
      " [ 0  0  0  0  0  0  0  0  0  0  0  0  0  0  0 -1]\n",
      " [ 0  0  0  0  0  0  0  0 -1  0  0  0  0  0  0  0]\n",
      " [ 0  0  0  0  0  0  0  0  0 -1  0  0  0  0  0  0]\n",
      " [ 0  0  0  0  0  0  0  0  0  0 -1  0  0  0  0  0]\n",
      " [ 0  0  0  0  0  0  0  0  0  0  0 -1  0  0  0  0]]\n",
      "[[0.+0.j 0.+0.j 0.+0.j 0.+0.j 0.-1.j 0.+0.j 0.+0.j 0.+0.j 0.+0.j 0.+0.j\n",
      "  0.+0.j 0.+0.j 0.+0.j 0.+0.j 0.+0.j 0.+0.j]\n",
      " [0.+0.j 0.+0.j 0.+0.j 0.+0.j 0.+0.j 0.-1.j 0.+0.j 0.+0.j 0.+0.j 0.+0.j\n",
      "  0.+0.j 0.+0.j 0.+0.j 0.+0.j 0.+0.j 0.+0.j]\n",
      " [0.+0.j 0.+0.j 0.+0.j 0.+0.j 0.+0.j 0.+0.j 0.-1.j 0.+0.j 0.+0.j 0.+0.j\n",
      "  0.+0.j 0.+0.j 0.+0.j 0.+0.j 0.+0.j 0.+0.j]\n",
      " [0.+0.j 0.+0.j 0.+0.j 0.+0.j 0.+0.j 0.+0.j 0.+0.j 0.-1.j 0.+0.j 0.+0.j\n",
      "  0.+0.j 0.+0.j 0.+0.j 0.+0.j 0.+0.j 0.+0.j]\n",
      " [0.+1.j 0.+0.j 0.+0.j 0.+0.j 0.+0.j 0.+0.j 0.+0.j 0.+0.j 0.+0.j 0.+0.j\n",
      "  0.+0.j 0.+0.j 0.+0.j 0.+0.j 0.+0.j 0.+0.j]\n",
      " [0.+0.j 0.+1.j 0.+0.j 0.+0.j 0.+0.j 0.+0.j 0.+0.j 0.+0.j 0.+0.j 0.+0.j\n",
      "  0.+0.j 0.+0.j 0.+0.j 0.+0.j 0.+0.j 0.+0.j]\n",
      " [0.+0.j 0.+0.j 0.+1.j 0.+0.j 0.+0.j 0.+0.j 0.+0.j 0.+0.j 0.+0.j 0.+0.j\n",
      "  0.+0.j 0.+0.j 0.+0.j 0.+0.j 0.+0.j 0.+0.j]\n",
      " [0.+0.j 0.+0.j 0.+0.j 0.+1.j 0.+0.j 0.+0.j 0.+0.j 0.+0.j 0.+0.j 0.+0.j\n",
      "  0.+0.j 0.+0.j 0.+0.j 0.+0.j 0.+0.j 0.+0.j]\n",
      " [0.+0.j 0.+0.j 0.+0.j 0.+0.j 0.+0.j 0.+0.j 0.+0.j 0.+0.j 0.+0.j 0.+0.j\n",
      "  0.+0.j 0.+0.j 0.+1.j 0.+0.j 0.+0.j 0.+0.j]\n",
      " [0.+0.j 0.+0.j 0.+0.j 0.+0.j 0.+0.j 0.+0.j 0.+0.j 0.+0.j 0.+0.j 0.+0.j\n",
      "  0.+0.j 0.+0.j 0.+0.j 0.+1.j 0.+0.j 0.+0.j]\n",
      " [0.+0.j 0.+0.j 0.+0.j 0.+0.j 0.+0.j 0.+0.j 0.+0.j 0.+0.j 0.+0.j 0.+0.j\n",
      "  0.+0.j 0.+0.j 0.+0.j 0.+0.j 0.+1.j 0.+0.j]\n",
      " [0.+0.j 0.+0.j 0.+0.j 0.+0.j 0.+0.j 0.+0.j 0.+0.j 0.+0.j 0.+0.j 0.+0.j\n",
      "  0.+0.j 0.+0.j 0.+0.j 0.+0.j 0.+0.j 0.+1.j]\n",
      " [0.+0.j 0.+0.j 0.+0.j 0.+0.j 0.+0.j 0.+0.j 0.+0.j 0.+0.j 0.-1.j 0.+0.j\n",
      "  0.+0.j 0.+0.j 0.+0.j 0.+0.j 0.+0.j 0.+0.j]\n",
      " [0.+0.j 0.+0.j 0.+0.j 0.+0.j 0.+0.j 0.+0.j 0.+0.j 0.+0.j 0.+0.j 0.-1.j\n",
      "  0.+0.j 0.+0.j 0.+0.j 0.+0.j 0.+0.j 0.+0.j]\n",
      " [0.+0.j 0.+0.j 0.+0.j 0.+0.j 0.+0.j 0.+0.j 0.+0.j 0.+0.j 0.+0.j 0.+0.j\n",
      "  0.-1.j 0.+0.j 0.+0.j 0.+0.j 0.+0.j 0.+0.j]\n",
      " [0.+0.j 0.+0.j 0.+0.j 0.+0.j 0.+0.j 0.+0.j 0.+0.j 0.+0.j 0.+0.j 0.+0.j\n",
      "  0.+0.j 0.-1.j 0.+0.j 0.+0.j 0.+0.j 0.+0.j]]\n",
      "[[0 0 0 0 0 0 0 0 1 0 0 0 0 0 0 0]\n",
      " [0 0 0 0 0 0 0 0 0 1 0 0 0 0 0 0]\n",
      " [0 0 0 0 0 0 0 0 0 0 1 0 0 0 0 0]\n",
      " [0 0 0 0 0 0 0 0 0 0 0 1 0 0 0 0]\n",
      " [0 0 0 0 0 0 0 0 0 0 0 0 1 0 0 0]\n",
      " [0 0 0 0 0 0 0 0 0 0 0 0 0 1 0 0]\n",
      " [0 0 0 0 0 0 0 0 0 0 0 0 0 0 1 0]\n",
      " [0 0 0 0 0 0 0 0 0 0 0 0 0 0 0 1]\n",
      " [1 0 0 0 0 0 0 0 0 0 0 0 0 0 0 0]\n",
      " [0 1 0 0 0 0 0 0 0 0 0 0 0 0 0 0]\n",
      " [0 0 1 0 0 0 0 0 0 0 0 0 0 0 0 0]\n",
      " [0 0 0 1 0 0 0 0 0 0 0 0 0 0 0 0]\n",
      " [0 0 0 0 1 0 0 0 0 0 0 0 0 0 0 0]\n",
      " [0 0 0 0 0 1 0 0 0 0 0 0 0 0 0 0]\n",
      " [0 0 0 0 0 0 1 0 0 0 0 0 0 0 0 0]\n",
      " [0 0 0 0 0 0 0 1 0 0 0 0 0 0 0 0]]\n",
      "[[0.+0.j 0.+0.j 0.+0.j 0.+0.j 0.+0.j 0.+0.j 0.+0.j 0.+0.j 0.-1.j 0.+0.j\n",
      "  0.+0.j 0.+0.j 0.+0.j 0.+0.j 0.+0.j 0.+0.j]\n",
      " [0.+0.j 0.+0.j 0.+0.j 0.+0.j 0.+0.j 0.+0.j 0.+0.j 0.+0.j 0.+0.j 0.-1.j\n",
      "  0.+0.j 0.+0.j 0.+0.j 0.+0.j 0.+0.j 0.+0.j]\n",
      " [0.+0.j 0.+0.j 0.+0.j 0.+0.j 0.+0.j 0.+0.j 0.+0.j 0.+0.j 0.+0.j 0.+0.j\n",
      "  0.-1.j 0.+0.j 0.+0.j 0.+0.j 0.+0.j 0.+0.j]\n",
      " [0.+0.j 0.+0.j 0.+0.j 0.+0.j 0.+0.j 0.+0.j 0.+0.j 0.+0.j 0.+0.j 0.+0.j\n",
      "  0.+0.j 0.-1.j 0.+0.j 0.+0.j 0.+0.j 0.+0.j]\n",
      " [0.+0.j 0.+0.j 0.+0.j 0.+0.j 0.+0.j 0.+0.j 0.+0.j 0.+0.j 0.+0.j 0.+0.j\n",
      "  0.+0.j 0.+0.j 0.-1.j 0.+0.j 0.+0.j 0.+0.j]\n",
      " [0.+0.j 0.+0.j 0.+0.j 0.+0.j 0.+0.j 0.+0.j 0.+0.j 0.+0.j 0.+0.j 0.+0.j\n",
      "  0.+0.j 0.+0.j 0.+0.j 0.-1.j 0.+0.j 0.+0.j]\n",
      " [0.+0.j 0.+0.j 0.+0.j 0.+0.j 0.+0.j 0.+0.j 0.+0.j 0.+0.j 0.+0.j 0.+0.j\n",
      "  0.+0.j 0.+0.j 0.+0.j 0.+0.j 0.-1.j 0.+0.j]\n",
      " [0.+0.j 0.+0.j 0.+0.j 0.+0.j 0.+0.j 0.+0.j 0.+0.j 0.+0.j 0.+0.j 0.+0.j\n",
      "  0.+0.j 0.+0.j 0.+0.j 0.+0.j 0.+0.j 0.-1.j]\n",
      " [0.+1.j 0.+0.j 0.+0.j 0.+0.j 0.+0.j 0.+0.j 0.+0.j 0.+0.j 0.+0.j 0.+0.j\n",
      "  0.+0.j 0.+0.j 0.+0.j 0.+0.j 0.+0.j 0.+0.j]\n",
      " [0.+0.j 0.+1.j 0.+0.j 0.+0.j 0.+0.j 0.+0.j 0.+0.j 0.+0.j 0.+0.j 0.+0.j\n",
      "  0.+0.j 0.+0.j 0.+0.j 0.+0.j 0.+0.j 0.+0.j]\n",
      " [0.+0.j 0.+0.j 0.+1.j 0.+0.j 0.+0.j 0.+0.j 0.+0.j 0.+0.j 0.+0.j 0.+0.j\n",
      "  0.+0.j 0.+0.j 0.+0.j 0.+0.j 0.+0.j 0.+0.j]\n",
      " [0.+0.j 0.+0.j 0.+0.j 0.+1.j 0.+0.j 0.+0.j 0.+0.j 0.+0.j 0.+0.j 0.+0.j\n",
      "  0.+0.j 0.+0.j 0.+0.j 0.+0.j 0.+0.j 0.+0.j]\n",
      " [0.+0.j 0.+0.j 0.+0.j 0.+0.j 0.+1.j 0.+0.j 0.+0.j 0.+0.j 0.+0.j 0.+0.j\n",
      "  0.+0.j 0.+0.j 0.+0.j 0.+0.j 0.+0.j 0.+0.j]\n",
      " [0.+0.j 0.+0.j 0.+0.j 0.+0.j 0.+0.j 0.+1.j 0.+0.j 0.+0.j 0.+0.j 0.+0.j\n",
      "  0.+0.j 0.+0.j 0.+0.j 0.+0.j 0.+0.j 0.+0.j]\n",
      " [0.+0.j 0.+0.j 0.+0.j 0.+0.j 0.+0.j 0.+0.j 0.+1.j 0.+0.j 0.+0.j 0.+0.j\n",
      "  0.+0.j 0.+0.j 0.+0.j 0.+0.j 0.+0.j 0.+0.j]\n",
      " [0.+0.j 0.+0.j 0.+0.j 0.+0.j 0.+0.j 0.+0.j 0.+0.j 0.+1.j 0.+0.j 0.+0.j\n",
      "  0.+0.j 0.+0.j 0.+0.j 0.+0.j 0.+0.j 0.+0.j]]\n",
      "[[ 0.41612863+0.j          0.        +0.j          0.        +0.j\n",
      "   0.64025918-0.61829306j  0.        +0.j          1.03407206+0.54522496j\n",
      "   0.05915404+0.33836702j  0.        +0.j          0.        +0.j\n",
      "   0.24181739-0.14896293j  1.23288179-0.77982134j  0.        +0.j\n",
      "   0.29169495+0.36027192j  0.        +0.j          0.        +0.j\n",
      "  -0.73022459-0.01268704j]\n",
      " [ 0.        +0.j         -0.34845007+0.j          1.06814458+1.4647696j\n",
      "   0.        +0.j         -1.21837029-0.2134998j   0.        +0.j\n",
      "   0.        +0.j          0.9825459 +1.35978619j -0.06991991+0.21810484j\n",
      "   0.        +0.j          0.        +0.j         -0.42691058-1.04631288j\n",
      "   0.        +0.j         -0.69266879+0.09129331j -1.0876831 -1.34556746j\n",
      "   0.        +0.j        ]\n",
      " [ 0.        +0.j          1.06814458-1.4647696j  -0.08437472+0.j\n",
      "   0.        +0.j          0.98750311-0.7340152j   0.        +0.j\n",
      "   0.        +0.j         -1.62650012+0.76491212j  0.02995968+0.69216475j\n",
      "   0.        +0.j          0.        +0.j         -0.24483335+0.59503231j\n",
      "   0.        +0.j         -1.32539924-0.50627991j  0.69266879-0.09129331j\n",
      "   0.        +0.j        ]\n",
      " [ 0.64025918+0.61829306j  0.        +0.j          0.        +0.j\n",
      "   0.24718079+0.j          0.        +0.j         -0.74101759+0.59328247j\n",
      "  -0.35083194+0.56048504j  0.        +0.j          0.        +0.j\n",
      "  -0.13163974-0.36472796j -0.7278188 -0.20263272j  0.        +0.j\n",
      "   0.29487049+0.13239216j  0.        +0.j          0.        +0.j\n",
      "  -0.29169495-0.36027192j]\n",
      " [ 0.        +0.j         -1.21837029+0.2134998j   0.98750311+0.7340152j\n",
      "   0.        +0.j         -0.26313501+0.j          0.        +0.j\n",
      "   0.        +0.j         -0.85369347-0.44956777j  0.82860886+0.15959139j\n",
      "   0.        +0.j          0.        +0.j         -2.585519  +0.87036839j\n",
      "   0.        +0.j          0.24483335-0.59503231j -0.42691058-1.04631288j\n",
      "   0.        +0.j        ]\n",
      " [ 1.03407206-0.54522496j  0.        +0.j          0.        +0.j\n",
      "  -0.74101759-0.59328247j  0.        +0.j         -0.46960803+0.j\n",
      "  -0.37948056-1.59086851j  0.        +0.j          0.        +0.j\n",
      "  -0.08849897-0.71363625j -0.39493032+0.02901499j  0.        +0.j\n",
      "   0.7278188 +0.20263272j  0.        +0.j          0.        +0.j\n",
      "   1.23288179-0.77982134j]\n",
      " [ 0.05915404-0.33836702j  0.        +0.j          0.        +0.j\n",
      "  -0.35083194-0.56048504j  0.        +0.j         -0.37948056+1.59086851j\n",
      "  -0.1937014 +0.j          0.        +0.j          0.        +0.j\n",
      "  -0.63771244-1.31044661j  0.08849897+0.71363625j  0.        +0.j\n",
      "  -0.13163974-0.36472796j  0.        +0.j          0.        +0.j\n",
      "  -0.24181739+0.14896293j]\n",
      " [ 0.        +0.j          0.9825459 -1.35978619j -1.62650012-0.76491212j\n",
      "   0.        +0.j         -0.85369347+0.44956777j  0.        +0.j\n",
      "   0.        +0.j          0.6959598 +0.j         -1.15712022-0.92505738j\n",
      "   0.        +0.j          0.        +0.j         -0.82860886-0.15959139j\n",
      "   0.        +0.j          0.02995968+0.69216475j  0.06991991-0.21810484j\n",
      "   0.        +0.j        ]\n",
      " [ 0.        +0.j         -0.06991991-0.21810484j  0.02995968-0.69216475j\n",
      "   0.        +0.j          0.82860886-0.15959139j  0.        +0.j\n",
      "   0.        +0.j         -1.15712022+0.92505738j  0.6959598 +0.j\n",
      "   0.        +0.j          0.        +0.j          0.85369347+0.44956777j\n",
      "   0.        +0.j         -1.62650012+0.76491212j -0.9825459 -1.35978619j\n",
      "   0.        +0.j        ]\n",
      " [ 0.24181739+0.14896293j  0.        +0.j          0.        +0.j\n",
      "  -0.13163974+0.36472796j  0.        +0.j         -0.08849897+0.71363625j\n",
      "  -0.63771244+1.31044661j  0.        +0.j          0.        +0.j\n",
      "  -0.1937014 +0.j          0.37948056+1.59086851j  0.        +0.j\n",
      "  -0.35083194+0.56048504j  0.        +0.j          0.        +0.j\n",
      "  -0.05915404-0.33836702j]\n",
      " [ 1.23288179+0.77982134j  0.        +0.j          0.        +0.j\n",
      "  -0.7278188 +0.20263272j  0.        +0.j         -0.39493032-0.02901499j\n",
      "   0.08849897-0.71363625j  0.        +0.j          0.        +0.j\n",
      "   0.37948056-1.59086851j -0.46960803+0.j          0.        +0.j\n",
      "   0.74101759-0.59328247j  0.        +0.j          0.        +0.j\n",
      "   1.03407206+0.54522496j]\n",
      " [ 0.        +0.j         -0.42691058+1.04631288j -0.24483335-0.59503231j\n",
      "   0.        +0.j         -2.585519  -0.87036839j  0.        +0.j\n",
      "   0.        +0.j         -0.82860886+0.15959139j  0.85369347-0.44956777j\n",
      "   0.        +0.j          0.        +0.j         -0.26313501+0.j\n",
      "   0.        +0.j         -0.98750311+0.7340152j  -1.21837029-0.2134998j\n",
      "   0.        +0.j        ]\n",
      " [ 0.29169495-0.36027192j  0.        +0.j          0.        +0.j\n",
      "   0.29487049-0.13239216j  0.        +0.j          0.7278188 -0.20263272j\n",
      "  -0.13163974+0.36472796j  0.        +0.j          0.        +0.j\n",
      "  -0.35083194-0.56048504j  0.74101759+0.59328247j  0.        +0.j\n",
      "   0.24718079+0.j          0.        +0.j          0.        +0.j\n",
      "  -0.64025918+0.61829306j]\n",
      " [ 0.        +0.j         -0.69266879-0.09129331j -1.32539924+0.50627991j\n",
      "   0.        +0.j          0.24483335+0.59503231j  0.        +0.j\n",
      "   0.        +0.j          0.02995968-0.69216475j -1.62650012-0.76491212j\n",
      "   0.        +0.j          0.        +0.j         -0.98750311-0.7340152j\n",
      "   0.        +0.j         -0.08437472+0.j         -1.06814458-1.4647696j\n",
      "   0.        +0.j        ]\n",
      " [ 0.        +0.j         -1.0876831 +1.34556746j  0.69266879+0.09129331j\n",
      "   0.        +0.j         -0.42691058+1.04631288j  0.        +0.j\n",
      "   0.        +0.j          0.06991991+0.21810484j -0.9825459 +1.35978619j\n",
      "   0.        +0.j          0.        +0.j         -1.21837029+0.2134998j\n",
      "   0.        +0.j         -1.06814458+1.4647696j  -0.34845007+0.j\n",
      "   0.        +0.j        ]\n",
      " [-0.73022459+0.01268704j  0.        +0.j          0.        +0.j\n",
      "  -0.29169495+0.36027192j  0.        +0.j          1.23288179+0.77982134j\n",
      "  -0.24181739-0.14896293j  0.        +0.j          0.        +0.j\n",
      "  -0.05915404+0.33836702j  1.03407206-0.54522496j  0.        +0.j\n",
      "  -0.64025918-0.61829306j  0.        +0.j          0.        +0.j\n",
      "   0.41612863+0.j        ]]\n"
     ]
    }
   ],
   "source": [
    "# Then we write the Hamiltonians for the SYK model\n",
    "\n",
    "def genham4(n, coupling, gamma):\n",
    "    hamiltonian_initial = 0  # Initialize the Hamiltonian to zero\n",
    "\n",
    "    # Calculate the Hamiltonian using nested loops\n",
    "    for i1 in range(2 * n):\n",
    "        for i2 in range(i1 + 1, 2 * n):\n",
    "            for i3 in range(i2 + 1, 2 * n):\n",
    "                for i4 in range(i3 + 1, 2 * n):\n",
    "                    term = (np.sqrt(6) ** 1 * n ** (-3 / 2)) * coupling[i1][i2][i3][i4]\n",
    "                    term *= np.dot(gamma[i1], np.dot(gamma[i2], np.dot(gamma[i3], gamma[i4])))\n",
    "                    hamiltonian_initial += term\n",
    "\n",
    "    return hamiltonian_initial\n",
    "\n",
    "# Example usage\n",
    "n = 4\n",
    "\n",
    "# Define a sample coupling tensor from the function of genrandom\n",
    "coupling_example = genrandomcoupling4(n, 1, 0)\n",
    "print(coupling_example)\n",
    "\n",
    "# Define sample gamma matrices from the function of gengammafast\n",
    "gamma_example = gengammafast(n)\n",
    "for matrix in gamma_example:\n",
    "    print(matrix.toarray())\n",
    "\n",
    "# Calculate the Hamiltonian\n",
    "hamiltonian_example = genham4(n, coupling_example, gamma_example)\n",
    "print(hamiltonian_example.toarray())\n"
   ]
  },
  {
   "cell_type": "markdown",
   "metadata": {},
   "source": [
    "Following Prof. Junggi and Vinay's code, they implemented a swap function to swap 2 positions with each other.\n",
    "This one can be implemented simply enough by switching \n",
    "\n",
    "Then they implemented a dTraceSystem to do a partial trace of a matrix. \n",
    "The function `d_trace_system` essentially performs the following operations:\n",
    "\n",
    "1. Sorts the subsystems (qudits) to be traced out.\n",
    "2. Iterates over each qudit, performing a series of matrix permutations and partial traces.\n",
    "3. Uses nested loops to manage the swaps and partial traces.\n",
    "4. Returns the final reduced density matrix after tracing out the specified qudits."
   ]
  },
  {
   "cell_type": "code",
   "execution_count": null,
   "metadata": {},
   "outputs": [
    {
     "name": "stdout",
     "output_type": "stream",
     "text": [
      "[1 3 2 4]\n"
     ]
    }
   ],
   "source": [
    "import numpy as np\n",
    "\n",
    "def swap_parts(expr, pos1, pos2):\n",
    "    expr[pos1], expr[pos2] = expr[pos2], expr[pos1]\n",
    "    return expr\n",
    "\n",
    "# Example usage:\n",
    "expr = np.array([1, 2, 3, 4])\n",
    "print(swap_parts(expr, 1, 2))  # Swap elements at positions 1 and 2\n"
   ]
  },
  {
   "cell_type": "markdown",
   "metadata": {},
   "source": [
    "Do note that in Python, the index starts from [0], and so position 1 and 2 really means 2nd and 3rd position of the matrix."
   ]
  },
  {
   "cell_type": "code",
   "execution_count": null,
   "metadata": {},
   "outputs": [
    {
     "name": "stdout",
     "output_type": "stream",
     "text": [
      "[0.20343403 0.23601344 0.20546133 0.03991528 0.15831796 0.24055896\n",
      " 0.97662745 0.27307941 0.41208492 0.07591906 0.0179587  0.02188838\n",
      " 0.75077914 0.4435761  0.36149202 0.48532117]\n",
      "[[1.42439384 1.5216268  2.4145432  1.78869687 1.83395787 2.87889584\n",
      "  1.27778958 0.90333787]\n",
      " [1.90801361 1.88872527 1.95778927 1.86113159 1.73669026 1.5535986\n",
      "  1.93133969 2.10691304]\n",
      " [1.8454899  2.12915767 2.12770862 1.93665735 2.09395931 2.73394123\n",
      "  0.93164724 1.69380142]\n",
      " [1.65433533 1.87834718 0.50674632 1.52289807 1.97273463 2.18491655\n",
      "  2.52170075 1.68089311]]\n"
     ]
    }
   ],
   "source": [
    "from scipy.sparse import csr_matrix\n",
    "\n",
    "def d_trace_system(D, s, dimension_):\n",
    "    Qudits = sorted(s, reverse=True)\n",
    "    TrkM = D\n",
    "    dim = dimension_\n",
    "    z = len(Qudits) + 1\n",
    "\n",
    "    for q in range(z - 1):\n",
    "        n = int(np.log(TrkM.shape[0]) / np.log(dim))\n",
    "        M = TrkM\n",
    "        k = Qudits[q]\n",
    "\n",
    "        if k == n:\n",
    "            TrkM = []\n",
    "            for p in range(0, dim**n, dim):\n",
    "                TrkM.append(sum(M[p+h, :] for h in range(dim)))\n",
    "            TrkM = np.array(TrkM)\n",
    "        else:\n",
    "            for j in range(n - k):\n",
    "                b = [0]\n",
    "                for i in range(1, dim**n + 1):\n",
    "                    if (i - 1) // dim**(n-1) % dim != (i - 1) // dim**(n-j-1) % dim and i not in b:\n",
    "                        swapped_index = (i - 1) // dim**(n-1) * dim**(n-1) + (i - 1) % dim**(n-1)\n",
    "                        b.append(swapped_index + 1)\n",
    "                        c = np.arange(1, dim**n + 1)\n",
    "                        perm = swap_parts(c, i, swapped_index + 1)\n",
    "                        M = M[perm-1][:, perm-1]\n",
    "            TrkM = []\n",
    "            for p in range(0, dim**n, dim):\n",
    "                TrkM.append(sum(M[p+h, :] for h in range(dim)))\n",
    "            TrkM = np.array(TrkM)\n",
    "\n",
    "    return TrkM\n",
    "\n",
    "# Example usage:\n",
    "D_example = np.random.rand(16, 16)  # Example density matrix\n",
    "print(D_example[15, :])\n",
    "s_example = [2, 1]\n",
    "dimension_example = 2\n",
    "#print(D)\n",
    "\n",
    "TrkM = d_trace_system(D_example, s_example, dimension_example)\n",
    "print(TrkM)\n"
   ]
  },
  {
   "cell_type": "markdown",
   "metadata": {},
   "source": [
    "Turns out python have its own matrix multiplication with the '@' symbol, which apparently is supposed to be more concise than that of numpy's matmul function, nevertheless, both function works and returns the same result. I'm not sure which one is better but for now, we will try the '@' operator from python."
   ]
  },
  {
   "cell_type": "code",
   "execution_count": null,
   "metadata": {},
   "outputs": [
    {
     "ename": "ValueError",
     "evalue": "dimension mismatch",
     "output_type": "error",
     "traceback": [
      "\u001b[1;31m---------------------------------------------------------------------------\u001b[0m",
      "\u001b[1;31mValueError\u001b[0m                                Traceback (most recent call last)",
      "Input \u001b[1;32mIn [125]\u001b[0m, in \u001b[0;36m<cell line: 14>\u001b[1;34m()\u001b[0m\n\u001b[0;32m     11\u001b[0m coupling40 \u001b[38;5;241m=\u001b[39m genrandomcoupling4(largen)\n\u001b[0;32m     13\u001b[0m \u001b[38;5;66;03m# Step 3: Compute the Hamiltonian using the genham40 function\u001b[39;00m\n\u001b[1;32m---> 14\u001b[0m ham40 \u001b[38;5;241m=\u001b[39m \u001b[43mgenham4\u001b[49m\u001b[43m(\u001b[49m\u001b[43mlargen\u001b[49m\u001b[43m,\u001b[49m\u001b[43m \u001b[49m\u001b[43mcoupling40\u001b[49m\u001b[43m,\u001b[49m\u001b[43m \u001b[49m\u001b[43mgamma\u001b[49m\u001b[43m)\u001b[49m\n\u001b[0;32m     16\u001b[0m \u001b[38;5;66;03m# Step 4: Define Uq0, which i think works to constructs the time evolution operator for the quantum system described by ham40.\u001b[39;00m\n\u001b[0;32m     17\u001b[0m \u001b[38;5;66;03m#         I am still not sure why the parameter i0 was added in the first place, but for now I will follow their functions.\u001b[39;00m\n\u001b[0;32m     18\u001b[0m \u001b[38;5;28;01mdef\u001b[39;00m \u001b[38;5;21mUq0\u001b[39m(ham, i0, t):\n",
      "Input \u001b[1;32mIn [122]\u001b[0m, in \u001b[0;36mgenham4\u001b[1;34m(n, coupling, gamma)\u001b[0m\n\u001b[0;32m     11\u001b[0m             \u001b[38;5;28;01mfor\u001b[39;00m i4 \u001b[38;5;129;01min\u001b[39;00m \u001b[38;5;28mrange\u001b[39m(i3 \u001b[38;5;241m+\u001b[39m \u001b[38;5;241m1\u001b[39m, \u001b[38;5;241m2\u001b[39m \u001b[38;5;241m*\u001b[39m n):\n\u001b[0;32m     12\u001b[0m                 term \u001b[38;5;241m=\u001b[39m (np\u001b[38;5;241m.\u001b[39msqrt(\u001b[38;5;241m6\u001b[39m) \u001b[38;5;241m*\u001b[39m\u001b[38;5;241m*\u001b[39m \u001b[38;5;241m1\u001b[39m \u001b[38;5;241m*\u001b[39m n \u001b[38;5;241m*\u001b[39m\u001b[38;5;241m*\u001b[39m (\u001b[38;5;241m-\u001b[39m\u001b[38;5;241m3\u001b[39m \u001b[38;5;241m/\u001b[39m \u001b[38;5;241m2\u001b[39m)) \u001b[38;5;241m*\u001b[39m coupling[i1][i2][i3][i4]\n\u001b[1;32m---> 13\u001b[0m                 term \u001b[38;5;241m*\u001b[39m\u001b[38;5;241m=\u001b[39m np\u001b[38;5;241m.\u001b[39mdot(gamma[i1], \u001b[43mnp\u001b[49m\u001b[38;5;241;43m.\u001b[39;49m\u001b[43mdot\u001b[49m\u001b[43m(\u001b[49m\u001b[43mgamma\u001b[49m\u001b[43m[\u001b[49m\u001b[43mi2\u001b[49m\u001b[43m]\u001b[49m\u001b[43m,\u001b[49m\u001b[43m \u001b[49m\u001b[43mnp\u001b[49m\u001b[38;5;241;43m.\u001b[39;49m\u001b[43mdot\u001b[49m\u001b[43m(\u001b[49m\u001b[43mgamma\u001b[49m\u001b[43m[\u001b[49m\u001b[43mi3\u001b[49m\u001b[43m]\u001b[49m\u001b[43m,\u001b[49m\u001b[43m \u001b[49m\u001b[43mgamma\u001b[49m\u001b[43m[\u001b[49m\u001b[43mi4\u001b[49m\u001b[43m]\u001b[49m\u001b[43m)\u001b[49m\u001b[43m)\u001b[49m)\n\u001b[0;32m     14\u001b[0m                 hamiltonian_initial \u001b[38;5;241m+\u001b[39m\u001b[38;5;241m=\u001b[39m term\n\u001b[0;32m     16\u001b[0m \u001b[38;5;28;01mreturn\u001b[39;00m hamiltonian_initial\n",
      "File \u001b[1;32mc:\\Users\\Acer Aspire 5\\AppData\\Local\\Programs\\Python\\Python39\\lib\\site-packages\\scipy\\sparse\\_matrix.py:48\u001b[0m, in \u001b[0;36mspmatrix.__mul__\u001b[1;34m(self, other)\u001b[0m\n\u001b[0;32m     47\u001b[0m \u001b[38;5;28;01mdef\u001b[39;00m \u001b[38;5;21m__mul__\u001b[39m(\u001b[38;5;28mself\u001b[39m, other):\n\u001b[1;32m---> 48\u001b[0m     \u001b[38;5;28;01mreturn\u001b[39;00m \u001b[38;5;28;43mself\u001b[39;49m\u001b[38;5;241;43m.\u001b[39;49m\u001b[43m_mul_dispatch\u001b[49m\u001b[43m(\u001b[49m\u001b[43mother\u001b[49m\u001b[43m)\u001b[49m\n",
      "File \u001b[1;32mc:\\Users\\Acer Aspire 5\\AppData\\Local\\Programs\\Python\\Python39\\lib\\site-packages\\scipy\\sparse\\_base.py:534\u001b[0m, in \u001b[0;36m_spbase._mul_dispatch\u001b[1;34m(self, other)\u001b[0m\n\u001b[0;32m    532\u001b[0m \u001b[38;5;28;01mif\u001b[39;00m issparse(other):\n\u001b[0;32m    533\u001b[0m     \u001b[38;5;28;01mif\u001b[39;00m \u001b[38;5;28mself\u001b[39m\u001b[38;5;241m.\u001b[39mshape[\u001b[38;5;241m1\u001b[39m] \u001b[38;5;241m!=\u001b[39m other\u001b[38;5;241m.\u001b[39mshape[\u001b[38;5;241m0\u001b[39m]:\n\u001b[1;32m--> 534\u001b[0m         \u001b[38;5;28;01mraise\u001b[39;00m \u001b[38;5;167;01mValueError\u001b[39;00m(\u001b[38;5;124m'\u001b[39m\u001b[38;5;124mdimension mismatch\u001b[39m\u001b[38;5;124m'\u001b[39m)\n\u001b[0;32m    535\u001b[0m     \u001b[38;5;28;01mreturn\u001b[39;00m \u001b[38;5;28mself\u001b[39m\u001b[38;5;241m.\u001b[39m_mul_sparse_matrix(other)\n\u001b[0;32m    537\u001b[0m \u001b[38;5;66;03m# If it's a list or whatever, treat it like an array\u001b[39;00m\n",
      "\u001b[1;31mValueError\u001b[0m: dimension mismatch"
     ]
    }
   ],
   "source": [
    "import numpy as np\n",
    "from scipy.linalg import expm, eigh\n",
    "\n",
    "# Assume gengammafast, genrandomcoupling4, and genham4 are defined as in previous explanations\n",
    "\n",
    "# Step 1: Define gamma\n",
    "largen = 8  # Replace with the appropriate value for largen\n",
    "gamma = gengammafast(largen)\n",
    "\n",
    "# Step 2: Generate random couplings with largen size\n",
    "coupling40 = genrandomcoupling4(largen)\n",
    "\n",
    "# Step 3: Compute the Hamiltonian using the genham40 function\n",
    "ham40 = genham4(largen, coupling40, gamma)\n",
    "\n",
    "# Step 4: Define Uq0, which i think works to constructs the time evolution operator for the quantum system described by ham40.\n",
    "#         I am still not sure why the parameter i0 was added in the first place, but for now I will follow their functions.\n",
    "def Uq0(ham, i0, t):\n",
    "    eigvals, eigvecs = eigh(ham)\n",
    "    exp_diag = np.diag(np.exp(-1j * t * eigvals))\n",
    "    return eigvecs.conj().T @ exp_diag @ eigvecs\n",
    "\n",
    "# Step 5: Define F2, which is just a implified interface for the Uq0 function.\n",
    "def F2(t):\n",
    "    return Uq0(ham40, 1, t)\n",
    "\n",
    "# Step 6: Define the initial state\n",
    "state00 = np.zeros(len(ham40))\n",
    "state00[0] = 1\n",
    "state0 = state00.reshape(-1, 1)\n",
    "\n",
    "# Step 7: Define Psi_nd0, \n",
    "def Psi_nd0(t):\n",
    "    return F2(t) @ state0\n",
    "\n",
    "# Step 8: Define state\n",
    "def state(t):\n",
    "    psi_t = Psi_nd0(t)\n",
    "    return psi_t @ psi_t.conj().T\n",
    "\n",
    "# Step 9: Compute the evolution of the state\n",
    "delta = 0.01\n",
    "rho_AB = []\n",
    "for i in range(1, 101):\n",
    "    rho_AB.append(state(i * delta))\n",
    "\n",
    "# Example output\n",
    "print(rho_AB)\n"
   ]
  },
  {
   "cell_type": "markdown",
   "metadata": {},
   "source": [
    "# Calculating the EE from Random States\n",
    "\n",
    "This part only focuses on calculating the Entanglement Entropy without the affect from the Hamiltonian."
   ]
  },
  {
   "cell_type": "code",
   "execution_count": 1,
   "metadata": {},
   "outputs": [],
   "source": [
    "import numpy as np\n",
    "import scipy as scp\n",
    "import qiskit\n",
    "import qutip as qt"
   ]
  },
  {
   "cell_type": "markdown",
   "metadata": {},
   "source": [
    "Now that we have initial states thats usually written as \n",
    "$$\n",
    "\\ket{\\psi} = \\alpha_{\\nu_i}\\sum_{i}^{N}\\ket{\\nu_1 \\nu_2 \\cdots \\nu_N},\n",
    "$$\n",
    "we will need to write a code that generates the constants for each of the qubits $\\nu_i$."
   ]
  },
  {
   "cell_type": "code",
   "execution_count": 2,
   "metadata": {},
   "outputs": [],
   "source": [
    "def Initial_State_Generator(nQubits, mean = 0, std = 1):\n",
    "    \"\"\"\n",
    "    Generate a row vector of random zeros and ones, and then each of the components are multiplied by a constant taken from a Gaussian ensemble\n",
    "    for each of the components of the statevector.\n",
    "\n",
    "    Note that the '*' operation in python corresponds to a direct multiplication for each of the components of the statevector.\n",
    "    Example :\n",
    "    [[x11, x12],    *    [[a11, a12],\n",
    "     [x21, x22]]          [a21, a22]]\n",
    "\n",
    "    will return,\n",
    "    [[x11*a11, x12*a12],\n",
    "     [x21*a21, x22*a22]]\n",
    "\n",
    "    Parameters:\n",
    "    nQubits (int): The length of the vector which corresponds to how many qubits.\n",
    "\n",
    "    Returns:\n",
    "    numpy.ndarray: A row vector of random zeros and ones.\n",
    "    \"\"\"\n",
    "    if not isinstance(nQubits, int) or nQubits <= 0:\n",
    "        raise ValueError(\"The number of qubits must be a positive integer.\")\n",
    "    gaussian_ensemble = np.random.normal(mean, std, size=(2**nQubits, 1))\n",
    "    #print(f\"The gaussian ensemble for each of the components: \\n\", gaussian_ensemble)\n",
    "    random_states = np.random.choice([1, 0], size=(2**nQubits, 1))\n",
    "    #print(f\"The random state generated: \\n\", random_states)\n",
    "    matrix = gaussian_ensemble * random_states\n",
    "    norm = np.linalg.norm(matrix)\n",
    "    matrix = matrix/norm  # normalized matrix\n",
    "    return matrix"
   ]
  },
  {
   "cell_type": "code",
   "execution_count": 3,
   "metadata": {},
   "outputs": [
    {
     "name": "stdout",
     "output_type": "stream",
     "text": [
      "Length of the statevector with gaussian random constants : 256\n",
      "[[-0.05285762]\n",
      " [-0.00057306]\n",
      " [-0.1790543 ]\n",
      " [ 0.        ]\n",
      " [-0.07066254]\n",
      " [ 0.00274399]\n",
      " [ 0.        ]\n",
      " [-0.        ]\n",
      " [-0.08882708]\n",
      " [ 0.        ]\n",
      " [ 0.12181905]\n",
      " [ 0.0918395 ]\n",
      " [-0.        ]\n",
      " [-0.        ]\n",
      " [ 0.        ]\n",
      " [-0.16466738]\n",
      " [ 0.        ]\n",
      " [-0.        ]\n",
      " [-0.07072627]\n",
      " [ 0.0051886 ]\n",
      " [ 0.02659491]\n",
      " [-0.00207462]\n",
      " [-0.06903102]\n",
      " [-0.06821056]\n",
      " [ 0.02937557]\n",
      " [-0.10109383]\n",
      " [ 0.        ]\n",
      " [ 0.15059815]\n",
      " [ 0.        ]\n",
      " [-0.08028851]\n",
      " [ 0.        ]\n",
      " [ 0.21247657]\n",
      " [-0.        ]\n",
      " [ 0.        ]\n",
      " [-0.00320721]\n",
      " [-0.07432543]\n",
      " [ 0.        ]\n",
      " [ 0.        ]\n",
      " [ 0.        ]\n",
      " [ 0.        ]\n",
      " [-0.05852643]\n",
      " [-0.        ]\n",
      " [ 0.08533674]\n",
      " [ 0.        ]\n",
      " [ 0.03311587]\n",
      " [ 0.        ]\n",
      " [ 0.        ]\n",
      " [-0.        ]\n",
      " [-0.        ]\n",
      " [-0.        ]\n",
      " [-0.        ]\n",
      " [-0.        ]\n",
      " [ 0.01751275]\n",
      " [ 0.        ]\n",
      " [-0.08149809]\n",
      " [-0.12233203]\n",
      " [ 0.02795533]\n",
      " [-0.        ]\n",
      " [-0.08066765]\n",
      " [ 0.01657015]\n",
      " [-0.        ]\n",
      " [-0.        ]\n",
      " [-0.        ]\n",
      " [-0.        ]\n",
      " [-0.        ]\n",
      " [-0.        ]\n",
      " [-0.        ]\n",
      " [-0.        ]\n",
      " [-0.12113474]\n",
      " [ 0.02508842]\n",
      " [ 0.08345053]\n",
      " [-0.        ]\n",
      " [-0.        ]\n",
      " [ 0.0824549 ]\n",
      " [ 0.04616195]\n",
      " [-0.08441994]\n",
      " [-0.        ]\n",
      " [-0.        ]\n",
      " [-0.        ]\n",
      " [-0.        ]\n",
      " [-0.        ]\n",
      " [ 0.04260338]\n",
      " [-0.        ]\n",
      " [-0.        ]\n",
      " [ 0.        ]\n",
      " [ 0.0962981 ]\n",
      " [ 0.        ]\n",
      " [-0.        ]\n",
      " [-0.09620503]\n",
      " [ 0.        ]\n",
      " [-0.01611786]\n",
      " [-0.        ]\n",
      " [-0.        ]\n",
      " [ 0.00053214]\n",
      " [-0.11784599]\n",
      " [-0.        ]\n",
      " [-0.0165812 ]\n",
      " [-0.00899202]\n",
      " [ 0.        ]\n",
      " [-0.        ]\n",
      " [ 0.        ]\n",
      " [-0.01723899]\n",
      " [ 0.10406572]\n",
      " [ 0.14938188]\n",
      " [-0.00327077]\n",
      " [ 0.        ]\n",
      " [ 0.        ]\n",
      " [-0.        ]\n",
      " [ 0.        ]\n",
      " [ 0.16225878]\n",
      " [ 0.        ]\n",
      " [ 0.07066865]\n",
      " [ 0.        ]\n",
      " [ 0.07659821]\n",
      " [-0.10514313]\n",
      " [-0.22871724]\n",
      " [-0.11829429]\n",
      " [ 0.        ]\n",
      " [ 0.        ]\n",
      " [ 0.13267584]\n",
      " [-0.13017672]\n",
      " [-0.0952881 ]\n",
      " [-0.02441773]\n",
      " [ 0.        ]\n",
      " [-0.08051887]\n",
      " [ 0.        ]\n",
      " [-0.        ]\n",
      " [ 0.        ]\n",
      " [ 0.00195408]\n",
      " [ 0.00634951]\n",
      " [ 0.        ]\n",
      " [ 0.09454497]\n",
      " [-0.        ]\n",
      " [ 0.10331552]\n",
      " [-0.12873321]\n",
      " [-0.        ]\n",
      " [-0.        ]\n",
      " [-0.02247101]\n",
      " [-0.01098601]\n",
      " [-0.003926  ]\n",
      " [ 0.00184782]\n",
      " [ 0.        ]\n",
      " [ 0.        ]\n",
      " [-0.00850077]\n",
      " [-0.        ]\n",
      " [ 0.03486997]\n",
      " [-0.0407551 ]\n",
      " [-0.05496743]\n",
      " [ 0.        ]\n",
      " [-0.        ]\n",
      " [ 0.03685954]\n",
      " [ 0.        ]\n",
      " [-0.        ]\n",
      " [-0.        ]\n",
      " [ 0.08768515]\n",
      " [ 0.08872229]\n",
      " [-0.027747  ]\n",
      " [ 0.        ]\n",
      " [-0.1124133 ]\n",
      " [ 0.1302639 ]\n",
      " [-0.00375882]\n",
      " [ 0.01331117]\n",
      " [-0.0458638 ]\n",
      " [ 0.        ]\n",
      " [ 0.03160591]\n",
      " [ 0.16928077]\n",
      " [ 0.01383796]\n",
      " [-0.        ]\n",
      " [-0.16463469]\n",
      " [ 0.        ]\n",
      " [ 0.        ]\n",
      " [-0.        ]\n",
      " [-0.        ]\n",
      " [-0.        ]\n",
      " [-0.12108593]\n",
      " [-0.04804631]\n",
      " [-0.        ]\n",
      " [ 0.11504363]\n",
      " [ 0.        ]\n",
      " [ 0.        ]\n",
      " [-0.02579197]\n",
      " [ 0.03751476]\n",
      " [-0.        ]\n",
      " [ 0.13248227]\n",
      " [ 0.        ]\n",
      " [ 0.        ]\n",
      " [ 0.00370284]\n",
      " [ 0.06358969]\n",
      " [ 0.22508081]\n",
      " [-0.01882845]\n",
      " [ 0.02961076]\n",
      " [-0.        ]\n",
      " [ 0.18842265]\n",
      " [ 0.        ]\n",
      " [ 0.        ]\n",
      " [ 0.0590358 ]\n",
      " [ 0.        ]\n",
      " [-0.01698271]\n",
      " [-0.        ]\n",
      " [ 0.        ]\n",
      " [-0.        ]\n",
      " [ 0.        ]\n",
      " [-0.12741661]\n",
      " [-0.02320899]\n",
      " [-0.        ]\n",
      " [ 0.        ]\n",
      " [ 0.04394983]\n",
      " [-0.12872186]\n",
      " [-0.        ]\n",
      " [ 0.        ]\n",
      " [-0.        ]\n",
      " [-0.        ]\n",
      " [ 0.        ]\n",
      " [ 0.06807982]\n",
      " [ 0.0970559 ]\n",
      " [-0.0560016 ]\n",
      " [ 0.06176334]\n",
      " [-0.02650984]\n",
      " [-0.04178929]\n",
      " [ 0.        ]\n",
      " [ 0.        ]\n",
      " [-0.02424609]\n",
      " [-0.12752843]\n",
      " [ 0.        ]\n",
      " [ 0.        ]\n",
      " [ 0.02039194]\n",
      " [ 0.        ]\n",
      " [ 0.06276647]\n",
      " [-0.06540242]\n",
      " [ 0.        ]\n",
      " [-0.13399046]\n",
      " [-0.03480244]\n",
      " [ 0.02686686]\n",
      " [ 0.        ]\n",
      " [ 0.        ]\n",
      " [ 0.0443404 ]\n",
      " [-0.        ]\n",
      " [ 0.        ]\n",
      " [ 0.08756969]\n",
      " [ 0.        ]\n",
      " [-0.        ]\n",
      " [ 0.16653528]\n",
      " [-0.        ]\n",
      " [-0.        ]\n",
      " [ 0.        ]\n",
      " [-0.        ]\n",
      " [-0.15144623]\n",
      " [-0.        ]\n",
      " [-0.08276239]\n",
      " [-0.        ]\n",
      " [-0.03354896]\n",
      " [-0.02398417]\n",
      " [-0.        ]\n",
      " [ 0.04993616]\n",
      " [ 0.        ]\n",
      " [ 0.11298065]]\n"
     ]
    }
   ],
   "source": [
    "test_state_generator_gaussian = Initial_State_Generator(8, 0, 1)\n",
    "print(f\"Length of the statevector with gaussian random constants :\", len(test_state_generator_gaussian))\n",
    "print(test_state_generator_gaussian)"
   ]
  },
  {
   "cell_type": "markdown",
   "metadata": {},
   "source": [
    "Next step is to write a code that represents the density matrices, from the statevectors we just made,\n",
    "$$\n",
    "\\rho = \\sum_i\\ket{\\psi_i}\\bra{\\psi_i}\n",
    "$$\n",
    "we can write the hermitian complex conjugate using an internal function from scipy. We will make use of a function from numpy called `np.matrix.getH()`, which stands for 'get Hermitian'. For now, lets calculate it straight from the equation and we'll write the generelized function later on. For a normal matrix multiplication, we can use numpy's `np.matmul(x1, x2)` with `x1 x2` as the matrices or just use the function `@` from python that perform the same operation.\n",
    "\n",
    "In this case, the `x1 x2` matrices are the initial states we just generated."
   ]
  },
  {
   "cell_type": "code",
   "execution_count": 4,
   "metadata": {},
   "outputs": [],
   "source": [
    "def Density_Matrix_Operator(matrix1):\n",
    "    \"\"\"\n",
    "    Generate a density matrix, by multiplying the statevector with its Hermitian conjugate.\n",
    "\n",
    "    Parameters:\n",
    "    matrix1 (np.array): The statevector of the quantum system.\n",
    "\n",
    "    Returns:\n",
    "    numpy.ndarray: A density matrix after multiplying (matrix multiplication) the ket(psi) with bra(psi).\n",
    "    \"\"\"\n",
    "    matrix1_Herm_conj = np.matrix.getH(matrix1) # get the hermitian conjugate of the matrix.\n",
    "    dense_matrix = matrix1 @ matrix1_Herm_conj # then multiply the conjugate and the original matrix.\n",
    "\n",
    "    return dense_matrix"
   ]
  },
  {
   "cell_type": "code",
   "execution_count": 5,
   "metadata": {},
   "outputs": [
    {
     "name": "stdout",
     "output_type": "stream",
     "text": [
      "Shape of the density matrix : (256, 256)\n",
      "256\n",
      "[[ 2.79392830e-03  3.02908290e-05  9.46438443e-03 ... -2.63950692e-03\n",
      "   0.00000000e+00 -5.97188848e-03]\n",
      " [ 3.02908290e-05  3.28402959e-07  1.02609666e-04 ... -2.86166444e-05\n",
      "   0.00000000e+00 -6.47452023e-05]\n",
      " [ 9.46438443e-03  1.02609666e-04  3.20604407e-02 ... -8.94128463e-03\n",
      "   0.00000000e+00 -2.02296703e-02]\n",
      " ...\n",
      " [-2.63950692e-03 -2.86166444e-05 -8.94128463e-03 ...  2.49362046e-03\n",
      "   0.00000000e+00  5.64182014e-03]\n",
      " [ 0.00000000e+00  0.00000000e+00  0.00000000e+00 ...  0.00000000e+00\n",
      "   0.00000000e+00  0.00000000e+00]\n",
      " [-5.97188848e-03 -6.47452023e-05 -2.02296703e-02 ...  5.64182014e-03\n",
      "   0.00000000e+00  1.27646268e-02]]\n"
     ]
    }
   ],
   "source": [
    "test_density_matrix = np.array(Density_Matrix_Operator(test_state_generator_gaussian))\n",
    "print(f\"Shape of the density matrix :\", test_density_matrix.shape)\n",
    "print(len(test_density_matrix))\n",
    "print(test_density_matrix)"
   ]
  },
  {
   "cell_type": "markdown",
   "metadata": {},
   "source": [
    "NOTE : The cell above here, takes too long of a time to compute."
   ]
  },
  {
   "cell_type": "markdown",
   "metadata": {},
   "source": [
    "Next is to apply a log into the matrix and multiply it with the density matrix, and take the trace with respect to subsystem B from the whole system.\n",
    "$$\n",
    "S_A = -Tr[\\rho_A \\log{\\rho_A}],\n",
    "$$\n",
    "where we note that $\\rho_A$ is defined as follows,\n",
    "\n",
    "$$\n",
    "\\rho_A = Tr_{B}[\\rho_{AB}]\n",
    "$$\n",
    "\n",
    "So, lets explore some of the methods of taking this matrix through the log operation.\n",
    "One way is through the in-built function from scipy called `logm(A, disp = True)` (https://docs.scipy.org/doc/scipy/reference/generated/scipy.linalg.logm.html)\n",
    "\n",
    "And before taking the log of the matrix, we take the partial trace of the matrix to find the reduced density matrix from $\\rho_A$ from $\\rho_{AB}$. To do this, we will use the function from qutip, using the function of `Qobj` and `ptrace`."
   ]
  },
  {
   "cell_type": "code",
   "execution_count": 6,
   "metadata": {},
   "outputs": [],
   "source": [
    "from scipy.linalg import logm\n",
    "import qutip as qt"
   ]
  },
  {
   "cell_type": "code",
   "execution_count": 7,
   "metadata": {},
   "outputs": [],
   "source": [
    "#def reduced_density_matrix(density_matrix, subsystem_to_trace_over):\n",
    "#    rdM =  qt.Qobj(density_matrix)\n",
    "#    print(rdM)\n",
    "#    O_ = len(density_matrix)\n",
    "#    n_dim = np.sqrt(O_)\n",
    "#    rdM.dims = [[2,2,2],[2,2,2]]\n",
    "#    print(rdM)\n",
    "#    rdM_reduced = rdM.ptrace(subsystem_to_trace_over)\n",
    "#    return rdM_reduced"
   ]
  },
  {
   "cell_type": "code",
   "execution_count": 8,
   "metadata": {},
   "outputs": [],
   "source": [
    "import numpy as np\n",
    "import qutip as qt\n",
    "\n",
    "def reduced_density_matrix_v2(density_matrix, subsystem_to_trace_over):\n",
    "    # Convert the input density matrix to a QuTiP Qobj\n",
    "    rdM = qt.Qobj(density_matrix)\n",
    "    print(\"Original Qobj:\\n\", rdM)\n",
    "    \n",
    "    # Determine the size of the density matrix\n",
    "    O_ = len(density_matrix)\n",
    "    print(O_)\n",
    "    num_qubits = int(np.log2(O_))\n",
    "    print(num_qubits)\n",
    "       \n",
    "    # Set the dimensions of the Qobj based on num_qubits\n",
    "    n_dims = [2] * num_qubits\n",
    "    print(n_dims)\n",
    "    rdM.dims = [n_dims, n_dims]\n",
    "    \n",
    "    print(\"Reshaped Qobj:\\n\", rdM)\n",
    "    \n",
    "    # Perform the partial trace over the specified subsystem\n",
    "    rdM_reduced = rdM.ptrace(subsystem_to_trace_over)\n",
    "    rdM_reduced.dims = [2,2]\n",
    "    return rdM_reduced\n",
    "\n"
   ]
  },
  {
   "cell_type": "code",
   "execution_count": 9,
   "metadata": {},
   "outputs": [
    {
     "name": "stdout",
     "output_type": "stream",
     "text": [
      "Original Qobj:\n",
      " Quantum object: dims=[[256], [256]], shape=(256, 256), type='oper', dtype=Dense, isherm=True\n",
      "Qobj data =\n",
      "[[ 2.79392830e-03  3.02908290e-05  9.46438443e-03 ... -2.63950692e-03\n",
      "   0.00000000e+00 -5.97188848e-03]\n",
      " [ 3.02908290e-05  3.28402959e-07  1.02609666e-04 ... -2.86166444e-05\n",
      "   0.00000000e+00 -6.47452023e-05]\n",
      " [ 9.46438443e-03  1.02609666e-04  3.20604407e-02 ... -8.94128463e-03\n",
      "   0.00000000e+00 -2.02296703e-02]\n",
      " ...\n",
      " [-2.63950692e-03 -2.86166444e-05 -8.94128463e-03 ...  2.49362046e-03\n",
      "   0.00000000e+00  5.64182014e-03]\n",
      " [ 0.00000000e+00  0.00000000e+00  0.00000000e+00 ...  0.00000000e+00\n",
      "   0.00000000e+00  0.00000000e+00]\n",
      " [-5.97188848e-03 -6.47452023e-05 -2.02296703e-02 ...  5.64182014e-03\n",
      "   0.00000000e+00  1.27646268e-02]]\n",
      "256\n",
      "8\n",
      "[2, 2, 2, 2, 2, 2, 2, 2]\n",
      "Reshaped Qobj:\n",
      " Quantum object: dims=[[2, 2, 2, 2, 2, 2, 2, 2], [2, 2, 2, 2, 2, 2, 2, 2]], shape=(256, 256), type='oper', dtype=Dense, isherm=True\n",
      "Qobj data =\n",
      "[[ 2.79392830e-03  3.02908290e-05  9.46438443e-03 ... -2.63950692e-03\n",
      "   0.00000000e+00 -5.97188848e-03]\n",
      " [ 3.02908290e-05  3.28402959e-07  1.02609666e-04 ... -2.86166444e-05\n",
      "   0.00000000e+00 -6.47452023e-05]\n",
      " [ 9.46438443e-03  1.02609666e-04  3.20604407e-02 ... -8.94128463e-03\n",
      "   0.00000000e+00 -2.02296703e-02]\n",
      " ...\n",
      " [-2.63950692e-03 -2.86166444e-05 -8.94128463e-03 ...  2.49362046e-03\n",
      "   0.00000000e+00  5.64182014e-03]\n",
      " [ 0.00000000e+00  0.00000000e+00  0.00000000e+00 ...  0.00000000e+00\n",
      "   0.00000000e+00  0.00000000e+00]\n",
      " [-5.97188848e-03 -6.47452023e-05 -2.02296703e-02 ...  5.64182014e-03\n",
      "   0.00000000e+00  1.27646268e-02]]\n",
      "Quantum object: dims=[[2], [2]], shape=(2, 2), type='oper', dtype=Dense, isherm=True\n",
      "Qobj data =\n",
      "[[0.50062912 0.00257219]\n",
      " [0.00257219 0.49937088]]\n"
     ]
    }
   ],
   "source": [
    "test_reduced_density_matrix = reduced_density_matrix_v2(test_density_matrix, 1)\n",
    "print(test_reduced_density_matrix)"
   ]
  },
  {
   "cell_type": "markdown",
   "metadata": {},
   "source": [
    "NOTE : An error occured here when theres a infs values or NaNs in the matrix. Which needed to be solved by applying an `if` case built into the function later on. This is likely caused by a $\\log{0}$ when applying the function to the reduced row echelon form of the density matrix.\n",
    "\n",
    "A straightforward way to deal with this is to take the limit of $x \\rightarrow 0$ for $x\\log{x}$ using L'Hospital rule,\n",
    "\n",
    "$$\n",
    "\\begin{equation}\n",
    " \\lim_{x = 0} x\\log{x} = \\frac{\\infty}{\\infty} \\rightarrow \\lim_{x \\to 0} x\\log{x} = \\lim_{x \\to 0}\\frac{\\log{x}}{1/x} = \\lim_{x \\to 0}\\frac{1/x}{-1/x^2} = \\lim_{x \\to 0} -x = 0\n",
    "\\end{equation}\n",
    "$$"
   ]
  },
  {
   "cell_type": "markdown",
   "metadata": {},
   "source": [
    "We can take the log of a matrix using `logm` function from `scipy.linalg` library. The last part is to take a normal trace, which we can implement using `np.trace` from,\n",
    "$$\n",
    "S_A = -Tr[\\rho_A \\log{\\rho_A}].\n",
    "$$"
   ]
  },
  {
   "cell_type": "code",
   "execution_count": 10,
   "metadata": {},
   "outputs": [],
   "source": [
    "from scipy.linalg import logm\n",
    "def Entanglement_Entropy(rdMatrix):\n",
    "    rdMatrix = rdMatrix.full()\n",
    "    log_rdMatrix = logm(rdMatrix)\n",
    "    EE_before_trace = rdMatrix @ log_rdMatrix\n",
    "    S_A_entanglement_entropy = -np.trace(EE_before_trace)\n",
    "    return S_A_entanglement_entropy\n"
   ]
  },
  {
   "cell_type": "code",
   "execution_count": 11,
   "metadata": {},
   "outputs": [
    {
     "data": {
      "text/plain": [
       "(0.6931331566060416-0j)"
      ]
     },
     "execution_count": 11,
     "metadata": {},
     "output_type": "execute_result"
    }
   ],
   "source": [
    "Entanglement_Entropy(test_reduced_density_matrix)"
   ]
  },
  {
   "cell_type": "markdown",
   "metadata": {},
   "source": [
    "## Random State EE Calculation combined\n",
    "\n",
    "Now that we know how to calculate the EE by taking the"
   ]
  },
  {
   "cell_type": "code",
   "execution_count": 12,
   "metadata": {},
   "outputs": [],
   "source": [
    "import matplotlib.pyplot as plt"
   ]
  },
  {
   "cell_type": "code",
   "execution_count": 13,
   "metadata": {},
   "outputs": [],
   "source": [
    "def Random_State_EE_Function(nQubits, mean = 0, std = 1):\n",
    "    \"\"\"\n",
    "    This function is used to generate a random statevectors and automatically calculates the entanglement entropy from each of the subsystem\n",
    "    then is plotted to see how the entropy varies.\n",
    "\n",
    "    Parameters:\n",
    "    nQubits: The number of qubits we will consider in order to get the initial statevector of the quantum system.\n",
    "    mean: The mean of the Gaussian ensemble that will be used to get the constant of the each of the component of the statevector\n",
    "    std: The standard derivation of the Gaussian ensemble.\n",
    "\n",
    "    Returns:\n",
    "    Entanglement_Entropy (float64): A number (Real) that represents the value of entanglement entropy of the system.\n",
    "    EE Plot: A plot of the value of the entanglement entropy.\n",
    "    \"\"\"\n",
    "    Gaussian_Generated_Statevector = Initial_State_Generator(nQubits, mean, std)\n",
    "    Gaussian_Density_Matrix = Density_Matrix_Operator(Gaussian_Generated_Statevector)\n",
    "    Reduced_GDM_EE_List = []\n",
    "    #for i in range(nQubits-1):\n",
    "    for i in range(nQubits):\n",
    "        Reduced_GDM = reduced_density_matrix_v2(Gaussian_Density_Matrix, i)\n",
    "        Reduced_GDM_EE = Entanglement_Entropy(Reduced_GDM)\n",
    "        Reduced_GDM_EE_List.append(Reduced_GDM_EE)\n",
    "        print(Reduced_GDM_EE)\n",
    "\n",
    "    # Plot the entanglement entropy\n",
    "    #plt.figure(figsize=(10, 6))\n",
    "    #plt.plot(range(nQubits+1), Reduced_GDM_EE_List, marker='o', linestyle='-', color='b')\n",
    "    #plt.xlabel('Subsystem Index')\n",
    "    #plt.ylabel('Entanglement Entropy')\n",
    "    #plt.title('Entanglement Entropy for Each Subsystem')\n",
    "    #plt.grid(True)\n",
    "    #plt.show()\n",
    "\n",
    "    return Reduced_GDM_EE_List\n",
    "    "
   ]
  },
  {
   "cell_type": "code",
   "execution_count": 14,
   "metadata": {},
   "outputs": [
    {
     "name": "stdout",
     "output_type": "stream",
     "text": [
      "Original Qobj:\n",
      " Quantum object: dims=[[256], [256]], shape=(256, 256), type='oper', dtype=Dense, isherm=True\n",
      "Qobj data =\n",
      "[[ 0.00444738  0.          0.         ...  0.00109714 -0.00287744\n",
      "   0.        ]\n",
      " [ 0.          0.          0.         ...  0.          0.\n",
      "   0.        ]\n",
      " [ 0.          0.          0.         ...  0.          0.\n",
      "   0.        ]\n",
      " ...\n",
      " [ 0.00109714  0.          0.         ...  0.00027066 -0.00070985\n",
      "   0.        ]\n",
      " [-0.00287744  0.          0.         ... -0.00070985  0.0018617\n",
      "   0.        ]\n",
      " [ 0.          0.          0.         ...  0.          0.\n",
      "   0.        ]]\n",
      "256\n",
      "8\n",
      "[2, 2, 2, 2, 2, 2, 2, 2]\n",
      "Reshaped Qobj:\n",
      " Quantum object: dims=[[2, 2, 2, 2, 2, 2, 2, 2], [2, 2, 2, 2, 2, 2, 2, 2]], shape=(256, 256), type='oper', dtype=Dense, isherm=True\n",
      "Qobj data =\n",
      "[[ 0.00444738  0.          0.         ...  0.00109714 -0.00287744\n",
      "   0.        ]\n",
      " [ 0.          0.          0.         ...  0.          0.\n",
      "   0.        ]\n",
      " [ 0.          0.          0.         ...  0.          0.\n",
      "   0.        ]\n",
      " ...\n",
      " [ 0.00109714  0.          0.         ...  0.00027066 -0.00070985\n",
      "   0.        ]\n",
      " [-0.00287744  0.          0.         ... -0.00070985  0.0018617\n",
      "   0.        ]\n",
      " [ 0.          0.          0.         ...  0.          0.\n",
      "   0.        ]]\n",
      "(0.6794404915019583-0j)\n",
      "Original Qobj:\n",
      " Quantum object: dims=[[256], [256]], shape=(256, 256), type='oper', dtype=Dense, isherm=True\n",
      "Qobj data =\n",
      "[[ 0.00444738  0.          0.         ...  0.00109714 -0.00287744\n",
      "   0.        ]\n",
      " [ 0.          0.          0.         ...  0.          0.\n",
      "   0.        ]\n",
      " [ 0.          0.          0.         ...  0.          0.\n",
      "   0.        ]\n",
      " ...\n",
      " [ 0.00109714  0.          0.         ...  0.00027066 -0.00070985\n",
      "   0.        ]\n",
      " [-0.00287744  0.          0.         ... -0.00070985  0.0018617\n",
      "   0.        ]\n",
      " [ 0.          0.          0.         ...  0.          0.\n",
      "   0.        ]]\n",
      "256\n",
      "8\n",
      "[2, 2, 2, 2, 2, 2, 2, 2]\n",
      "Reshaped Qobj:\n",
      " Quantum object: dims=[[2, 2, 2, 2, 2, 2, 2, 2], [2, 2, 2, 2, 2, 2, 2, 2]], shape=(256, 256), type='oper', dtype=Dense, isherm=True\n",
      "Qobj data =\n",
      "[[ 0.00444738  0.          0.         ...  0.00109714 -0.00287744\n",
      "   0.        ]\n",
      " [ 0.          0.          0.         ...  0.          0.\n",
      "   0.        ]\n",
      " [ 0.          0.          0.         ...  0.          0.\n",
      "   0.        ]\n",
      " ...\n",
      " [ 0.00109714  0.          0.         ...  0.00027066 -0.00070985\n",
      "   0.        ]\n",
      " [-0.00287744  0.          0.         ... -0.00070985  0.0018617\n",
      "   0.        ]\n",
      " [ 0.          0.          0.         ...  0.          0.\n",
      "   0.        ]]\n",
      "(0.6881503067115051-0j)\n",
      "Original Qobj:\n",
      " Quantum object: dims=[[256], [256]], shape=(256, 256), type='oper', dtype=Dense, isherm=True\n",
      "Qobj data =\n",
      "[[ 0.00444738  0.          0.         ...  0.00109714 -0.00287744\n",
      "   0.        ]\n",
      " [ 0.          0.          0.         ...  0.          0.\n",
      "   0.        ]\n",
      " [ 0.          0.          0.         ...  0.          0.\n",
      "   0.        ]\n",
      " ...\n",
      " [ 0.00109714  0.          0.         ...  0.00027066 -0.00070985\n",
      "   0.        ]\n",
      " [-0.00287744  0.          0.         ... -0.00070985  0.0018617\n",
      "   0.        ]\n",
      " [ 0.          0.          0.         ...  0.          0.\n",
      "   0.        ]]\n",
      "256\n",
      "8\n",
      "[2, 2, 2, 2, 2, 2, 2, 2]\n",
      "Reshaped Qobj:\n",
      " Quantum object: dims=[[2, 2, 2, 2, 2, 2, 2, 2], [2, 2, 2, 2, 2, 2, 2, 2]], shape=(256, 256), type='oper', dtype=Dense, isherm=True\n",
      "Qobj data =\n",
      "[[ 0.00444738  0.          0.         ...  0.00109714 -0.00287744\n",
      "   0.        ]\n",
      " [ 0.          0.          0.         ...  0.          0.\n",
      "   0.        ]\n",
      " [ 0.          0.          0.         ...  0.          0.\n",
      "   0.        ]\n",
      " ...\n",
      " [ 0.00109714  0.          0.         ...  0.00027066 -0.00070985\n",
      "   0.        ]\n",
      " [-0.00287744  0.          0.         ... -0.00070985  0.0018617\n",
      "   0.        ]\n",
      " [ 0.          0.          0.         ...  0.          0.\n",
      "   0.        ]]\n",
      "(0.6794820374248691-0j)\n",
      "Original Qobj:\n",
      " Quantum object: dims=[[256], [256]], shape=(256, 256), type='oper', dtype=Dense, isherm=True\n",
      "Qobj data =\n",
      "[[ 0.00444738  0.          0.         ...  0.00109714 -0.00287744\n",
      "   0.        ]\n",
      " [ 0.          0.          0.         ...  0.          0.\n",
      "   0.        ]\n",
      " [ 0.          0.          0.         ...  0.          0.\n",
      "   0.        ]\n",
      " ...\n",
      " [ 0.00109714  0.          0.         ...  0.00027066 -0.00070985\n",
      "   0.        ]\n",
      " [-0.00287744  0.          0.         ... -0.00070985  0.0018617\n",
      "   0.        ]\n",
      " [ 0.          0.          0.         ...  0.          0.\n",
      "   0.        ]]\n",
      "256\n",
      "8\n",
      "[2, 2, 2, 2, 2, 2, 2, 2]\n",
      "Reshaped Qobj:\n",
      " Quantum object: dims=[[2, 2, 2, 2, 2, 2, 2, 2], [2, 2, 2, 2, 2, 2, 2, 2]], shape=(256, 256), type='oper', dtype=Dense, isherm=True\n",
      "Qobj data =\n",
      "[[ 0.00444738  0.          0.         ...  0.00109714 -0.00287744\n",
      "   0.        ]\n",
      " [ 0.          0.          0.         ...  0.          0.\n",
      "   0.        ]\n",
      " [ 0.          0.          0.         ...  0.          0.\n",
      "   0.        ]\n",
      " ...\n",
      " [ 0.00109714  0.          0.         ...  0.00027066 -0.00070985\n",
      "   0.        ]\n",
      " [-0.00287744  0.          0.         ... -0.00070985  0.0018617\n",
      "   0.        ]\n",
      " [ 0.          0.          0.         ...  0.          0.\n",
      "   0.        ]]\n",
      "(0.6469446698359227-0j)\n",
      "Original Qobj:\n",
      " Quantum object: dims=[[256], [256]], shape=(256, 256), type='oper', dtype=Dense, isherm=True\n",
      "Qobj data =\n",
      "[[ 0.00444738  0.          0.         ...  0.00109714 -0.00287744\n",
      "   0.        ]\n",
      " [ 0.          0.          0.         ...  0.          0.\n",
      "   0.        ]\n",
      " [ 0.          0.          0.         ...  0.          0.\n",
      "   0.        ]\n",
      " ...\n",
      " [ 0.00109714  0.          0.         ...  0.00027066 -0.00070985\n",
      "   0.        ]\n",
      " [-0.00287744  0.          0.         ... -0.00070985  0.0018617\n",
      "   0.        ]\n",
      " [ 0.          0.          0.         ...  0.          0.\n",
      "   0.        ]]\n",
      "256\n",
      "8\n",
      "[2, 2, 2, 2, 2, 2, 2, 2]\n",
      "Reshaped Qobj:\n",
      " Quantum object: dims=[[2, 2, 2, 2, 2, 2, 2, 2], [2, 2, 2, 2, 2, 2, 2, 2]], shape=(256, 256), type='oper', dtype=Dense, isherm=True\n",
      "Qobj data =\n",
      "[[ 0.00444738  0.          0.         ...  0.00109714 -0.00287744\n",
      "   0.        ]\n",
      " [ 0.          0.          0.         ...  0.          0.\n",
      "   0.        ]\n",
      " [ 0.          0.          0.         ...  0.          0.\n",
      "   0.        ]\n",
      " ...\n",
      " [ 0.00109714  0.          0.         ...  0.00027066 -0.00070985\n",
      "   0.        ]\n",
      " [-0.00287744  0.          0.         ... -0.00070985  0.0018617\n",
      "   0.        ]\n",
      " [ 0.          0.          0.         ...  0.          0.\n",
      "   0.        ]]\n",
      "(0.6686107654846507-0j)\n",
      "Original Qobj:\n",
      " Quantum object: dims=[[256], [256]], shape=(256, 256), type='oper', dtype=Dense, isherm=True\n",
      "Qobj data =\n",
      "[[ 0.00444738  0.          0.         ...  0.00109714 -0.00287744\n",
      "   0.        ]\n",
      " [ 0.          0.          0.         ...  0.          0.\n",
      "   0.        ]\n",
      " [ 0.          0.          0.         ...  0.          0.\n",
      "   0.        ]\n",
      " ...\n",
      " [ 0.00109714  0.          0.         ...  0.00027066 -0.00070985\n",
      "   0.        ]\n",
      " [-0.00287744  0.          0.         ... -0.00070985  0.0018617\n",
      "   0.        ]\n",
      " [ 0.          0.          0.         ...  0.          0.\n",
      "   0.        ]]\n",
      "256\n",
      "8\n",
      "[2, 2, 2, 2, 2, 2, 2, 2]\n",
      "Reshaped Qobj:\n",
      " Quantum object: dims=[[2, 2, 2, 2, 2, 2, 2, 2], [2, 2, 2, 2, 2, 2, 2, 2]], shape=(256, 256), type='oper', dtype=Dense, isherm=True\n",
      "Qobj data =\n",
      "[[ 0.00444738  0.          0.         ...  0.00109714 -0.00287744\n",
      "   0.        ]\n",
      " [ 0.          0.          0.         ...  0.          0.\n",
      "   0.        ]\n",
      " [ 0.          0.          0.         ...  0.          0.\n",
      "   0.        ]\n",
      " ...\n",
      " [ 0.00109714  0.          0.         ...  0.00027066 -0.00070985\n",
      "   0.        ]\n",
      " [-0.00287744  0.          0.         ... -0.00070985  0.0018617\n",
      "   0.        ]\n",
      " [ 0.          0.          0.         ...  0.          0.\n",
      "   0.        ]]\n",
      "(0.6703485588868374-0j)\n",
      "Original Qobj:\n",
      " Quantum object: dims=[[256], [256]], shape=(256, 256), type='oper', dtype=Dense, isherm=True\n",
      "Qobj data =\n",
      "[[ 0.00444738  0.          0.         ...  0.00109714 -0.00287744\n",
      "   0.        ]\n",
      " [ 0.          0.          0.         ...  0.          0.\n",
      "   0.        ]\n",
      " [ 0.          0.          0.         ...  0.          0.\n",
      "   0.        ]\n",
      " ...\n",
      " [ 0.00109714  0.          0.         ...  0.00027066 -0.00070985\n",
      "   0.        ]\n",
      " [-0.00287744  0.          0.         ... -0.00070985  0.0018617\n",
      "   0.        ]\n",
      " [ 0.          0.          0.         ...  0.          0.\n",
      "   0.        ]]\n",
      "256\n",
      "8\n",
      "[2, 2, 2, 2, 2, 2, 2, 2]\n",
      "Reshaped Qobj:\n",
      " Quantum object: dims=[[2, 2, 2, 2, 2, 2, 2, 2], [2, 2, 2, 2, 2, 2, 2, 2]], shape=(256, 256), type='oper', dtype=Dense, isherm=True\n",
      "Qobj data =\n",
      "[[ 0.00444738  0.          0.         ...  0.00109714 -0.00287744\n",
      "   0.        ]\n",
      " [ 0.          0.          0.         ...  0.          0.\n",
      "   0.        ]\n",
      " [ 0.          0.          0.         ...  0.          0.\n",
      "   0.        ]\n",
      " ...\n",
      " [ 0.00109714  0.          0.         ...  0.00027066 -0.00070985\n",
      "   0.        ]\n",
      " [-0.00287744  0.          0.         ... -0.00070985  0.0018617\n",
      "   0.        ]\n",
      " [ 0.          0.          0.         ...  0.          0.\n",
      "   0.        ]]\n",
      "(0.6857454288482692-0j)\n",
      "Original Qobj:\n",
      " Quantum object: dims=[[256], [256]], shape=(256, 256), type='oper', dtype=Dense, isherm=True\n",
      "Qobj data =\n",
      "[[ 0.00444738  0.          0.         ...  0.00109714 -0.00287744\n",
      "   0.        ]\n",
      " [ 0.          0.          0.         ...  0.          0.\n",
      "   0.        ]\n",
      " [ 0.          0.          0.         ...  0.          0.\n",
      "   0.        ]\n",
      " ...\n",
      " [ 0.00109714  0.          0.         ...  0.00027066 -0.00070985\n",
      "   0.        ]\n",
      " [-0.00287744  0.          0.         ... -0.00070985  0.0018617\n",
      "   0.        ]\n",
      " [ 0.          0.          0.         ...  0.          0.\n",
      "   0.        ]]\n",
      "256\n",
      "8\n",
      "[2, 2, 2, 2, 2, 2, 2, 2]\n",
      "Reshaped Qobj:\n",
      " Quantum object: dims=[[2, 2, 2, 2, 2, 2, 2, 2], [2, 2, 2, 2, 2, 2, 2, 2]], shape=(256, 256), type='oper', dtype=Dense, isherm=True\n",
      "Qobj data =\n",
      "[[ 0.00444738  0.          0.         ...  0.00109714 -0.00287744\n",
      "   0.        ]\n",
      " [ 0.          0.          0.         ...  0.          0.\n",
      "   0.        ]\n",
      " [ 0.          0.          0.         ...  0.          0.\n",
      "   0.        ]\n",
      " ...\n",
      " [ 0.00109714  0.          0.         ...  0.00027066 -0.00070985\n",
      "   0.        ]\n",
      " [-0.00287744  0.          0.         ... -0.00070985  0.0018617\n",
      "   0.        ]\n",
      " [ 0.          0.          0.         ...  0.          0.\n",
      "   0.        ]]\n",
      "(0.6910444167886611-0j)\n"
     ]
    },
    {
     "data": {
      "text/plain": [
       "[(0.6794404915019583-0j),\n",
       " (0.6881503067115051-0j),\n",
       " (0.6794820374248691-0j),\n",
       " (0.6469446698359227-0j),\n",
       " (0.6686107654846507-0j),\n",
       " (0.6703485588868374-0j),\n",
       " (0.6857454288482692-0j),\n",
       " (0.6910444167886611-0j)]"
      ]
     },
     "execution_count": 14,
     "metadata": {},
     "output_type": "execute_result"
    }
   ],
   "source": [
    "Random_State_EE_Function(8, 0, 1)"
   ]
  },
  {
   "cell_type": "markdown",
   "metadata": {},
   "source": [
    "I dont think the ptrace function works exactly as the one Junggi and Vinay explained. From the documentation it is explained as,\n",
    "\n",
    "`ptrace acts on the Qobj instance for which it is called, and it takes one argument sel, which is a\n",
    "list of integers that mark the component systems that should be kept. All other components are traced out.\n",
    "`\n",
    "\n",
    "Which sounds like its a different process than the one we want. We want to split the system into two subsystem, of A and B. Suppose that the system will be divided into 2 with the size of $m$ and $k$ for subsystem A and B, susbsystem A will start from $m = 1$ and subsystem B will then start from the size of $k = n-1$ "
   ]
  },
  {
   "cell_type": "code",
   "execution_count": 15,
   "metadata": {},
   "outputs": [
    {
     "name": "stdout",
     "output_type": "stream",
     "text": [
      "[0. 1. 2. 3. 4. 5. 6. 7. 8. 9.]\n",
      "0.0 [1. 2. 3. 4. 5. 6. 7. 8. 9.]\n",
      "[0. 1.] [2. 3. 4. 5. 6. 7. 8. 9.]\n"
     ]
    }
   ],
   "source": [
    "array_testing_split = np.arange(9.0 + 1)\n",
    "print(array_testing_split)\n",
    "first, rest = array_testing_split[0], array_testing_split[1:]\n",
    "print(first, rest)\n",
    "first, rest = array_testing_split[:2], array_testing_split[2:]\n",
    "print(first, rest)"
   ]
  },
  {
   "cell_type": "code",
   "execution_count": 16,
   "metadata": {},
   "outputs": [
    {
     "data": {
      "text/latex": [
       "Quantum object: dims=[[2], [2]], shape=(2, 2), type='oper', dtype=Dense, isherm=True$$\\left(\\begin{array}{cc}1 & 0\\\\0 & 0\\end{array}\\right)$$"
      ],
      "text/plain": [
       "Quantum object: dims=[[2], [2]], shape=(2, 2), type='oper', dtype=Dense, isherm=True\n",
       "Qobj data =\n",
       "[[1. 0.]\n",
       " [0. 0.]]"
      ]
     },
     "execution_count": 16,
     "metadata": {},
     "output_type": "execute_result"
    }
   ],
   "source": [
    "psi = qt.tensor(qt.basis(2,0), qt.basis(2,1))\n",
    "psi.ptrace(0)"
   ]
  },
  {
   "cell_type": "code",
   "execution_count": 17,
   "metadata": {},
   "outputs": [
    {
     "data": {
      "text/latex": [
       "Quantum object: dims=[[2], [2]], shape=(2, 2), type='oper', dtype=Dense, isherm=True$$\\left(\\begin{array}{cc}0 & 0\\\\0 & 1\\end{array}\\right)$$"
      ],
      "text/plain": [
       "Quantum object: dims=[[2], [2]], shape=(2, 2), type='oper', dtype=Dense, isherm=True\n",
       "Qobj data =\n",
       "[[0. 0.]\n",
       " [0. 1.]]"
      ]
     },
     "execution_count": 17,
     "metadata": {},
     "output_type": "execute_result"
    }
   ],
   "source": [
    "psi.ptrace(1)"
   ]
  },
  {
   "cell_type": "markdown",
   "metadata": {},
   "source": [
    "This code is from https://github.com/qutip/qutip/issues/1076"
   ]
  },
  {
   "cell_type": "code",
   "execution_count": 18,
   "metadata": {},
   "outputs": [],
   "source": [
    "def ptracealt(rho,qkeep) :\n",
    "    rd = rho.dims[0]\n",
    "    print(f\"rd :\",rd)\n",
    "    nd = len(rd)\n",
    "    print(f\"nd :\",nd)\n",
    "    qkeep = list(np.sort(qkeep))\n",
    "    print(f\"qkeep :\", qkeep)\n",
    "    dkeep = (np.array(rd)[qkeep]).tolist()\n",
    "    print(f\"dkeep :\",dkeep)\n",
    "    qtrace = list(set(np.arange(nd))-set(qkeep))\n",
    "    print(f\"qtrace :\",qtrace)\n",
    "    dtrace = (np.array(rd)[qtrace]).tolist()\n",
    "    print(f\"dtrace :\",dtrace)\n",
    "    if qt.isket(rho) : # This part isnt really needed if we immediately uses dense matrix and not a ket. But its nice that the original coder\n",
    "                        # put this here\n",
    "        vmat = (rho.full()\n",
    "                .reshape(rd)\n",
    "                .transpose(qkeep+qtrace)\n",
    "                .reshape([np.prod(dkeep),np.prod(dtrace)]))\n",
    "        rhomat = vmat.dot(vmat.conj().T)\n",
    "    else :\n",
    "        rhomat = np.trace(rho.full() # Changes the Qobj form into an array of matrix.\n",
    "                          .reshape(rd+rd) # Reshaping the Qobj into (rd + rd)\n",
    "                          .transpose(qtrace+[nd+q for q in qtrace]+qkeep+[nd+q for q in qkeep])\n",
    "                          # The transpose step is quite complicated, so we'll try to explain it in the markdown below.\n",
    "                          .reshape([np.prod(dtrace),np.prod(dtrace),np.prod(dkeep),np.prod(dkeep)]))\n",
    "    return qt.Qobj(rhomat,dims=[dkeep, dkeep])"
   ]
  },
  {
   "cell_type": "markdown",
   "metadata": {},
   "source": [
    "```\n",
    "rhomat = np.trace(rho.full() # Changes the Qobj form into an array of matrix.\n",
    "                          .reshape(rd+rd) \n",
    "                          .transpose(qtrace+[nd+q for q in qtrace]+qkeep+[nd+q for q in qkeep])\n",
    "                          .reshape([np.prod(dtrace),np.prod(dtrace),np.prod(dkeep),np.prod(dkeep)]))\n",
    "```\n",
    "before that, lets see what the function does before performing the partial trace,\n",
    "```\n",
    "    rd = rho.dims[0]\n",
    "    nd = len(rd)\n",
    "    qkeep = list(np.sort(qkeep))\n",
    "    dkeep = (np.array(rd)[qkeep]).tolist()\n",
    "    qtrace = list(set(np.arange(nd))-set(qkeep))\n",
    "    dtrace = (np.array(rd)[qtrace]).tolist()\n",
    "```\n",
    "1. __Extract Dimensions of the Quantum State__\n",
    "\n",
    "    `rd = rho.dims[0]`\n",
    "\n",
    "    `rho.dims[0]`: This extracts the dimensions of the subsystems from the rho object.\n",
    "    \n",
    "    `rd` becomes a list of integers where each integer represents the dimension of a corresponding subsystem in the quantum state.\n",
    "    \n",
    "    For example, if the quantum state consists of three subsystems with dimensions 2, 3, and 4, then `rd = [2, 3, 4]`.\n",
    "\n",
    "2. __Determine the Number of Subsystem__\n",
    "    \n",
    "    `nd = len(rd)`\n",
    "\n",
    "    `nd` is the number of subsystem in the quantum state\n",
    "    \n",
    "    which is simply the length of the `rd` list\n",
    "\n",
    "    from the previous example, it would have a value of `nd = 3`\n",
    "\n",
    "3. __Sorting the subsystem to keep__\n",
    "\n",
    "    `qkeep = list(np.sort(qkeep))`\n",
    "\n",
    "    `qkeep`  is the list of indices of the subsystems that we want to keep after taking the partial trace.\n",
    "\n",
    "    `np.sort(qkeep)`: Sorts the `qkeep` list in ascending order.\n",
    "\n",
    "    `list(np.sort(qkeep))`: Converts the sorted array back to a list.\n",
    "\n",
    "    If `qkeep = [2, 0]`, then after sorting, `qkeep = [0, 2]`.\n",
    "\n",
    "4. __Get Dimensions of the Subsystems to Keep__\n",
    "\n",
    "    `dkeep = (np.array(rd)[qkeep]).tolist()`\n",
    "\n",
    "    `np.array(rd)`: Converts the `rd` list to a NumPy array for easier indexing.\n",
    "\n",
    "    `np.array(rd)[qkeep]`: Uses the sorted qkeep indices to get the dimensions of the subsystems to keep.\n",
    "    \n",
    "    `tolist()`: Converts the result back to a list.\n",
    "    \n",
    "    For example, if `rd = [2, 3, 4]` and `qkeep = [0, 2]`, then `dkeep = [2, 4]`.\n",
    "\n",
    "5. __Determine Subsystems to Trace Out__\n",
    "\n",
    "    `qtrace = list(set(np.arange(nd)) - set(qkeep))`\n",
    "\n",
    "    `np.arange(nd)`: Creates a NumPy array of integers from 0 to nd-1, representing all subsystem indices.\n",
    "\n",
    "    `set(np.arange(nd))`: Converts this array to a set of all subsystem indices.\n",
    "\n",
    "    `set(qkeep)`: Converts the `qkeep` list to a set.\n",
    "\n",
    "    `set(np.arange(nd)) - set(qkeep)`: Computes the set difference, i.e., the indices of subsystems that are not in qkeep and hence should be traced out.\n",
    "    \n",
    "    `list(...)`: Converts the resulting set back to a list.\n",
    "    \n",
    "    Continuing the previous example, `np.arange(3) = [0, 1, 2]` and `qkeep = [0, 2]`, so `qtrace = [1]`.\n",
    "\n",
    "6. __Get Dimensions of the Subsystems to Trace Out__\n",
    "\n",
    "    `dtrace = (np.array(rd)[qtrace]).tolist()`\n",
    "\n",
    "    `np.array(rd)`: Converts the `rd` list to a NumPy array.\n",
    "\n",
    "    `np.array(rd)[qtrace]`: Uses the qtrace indices to get the dimensions of the subsystems to trace out.\n",
    "\n",
    "    `tolist()`: Converts the result back to a list.\n",
    "\n",
    "    For example, if `rd = [2, 3, 4]` and `qtrace = [1]`, then `dtrace = [3]`.\n",
    "\n",
    "Example Walkthrough\n",
    "Let's go through a concrete example to illustrate these steps.\n",
    "\n",
    "Suppose:\n",
    "\n",
    "The quantum system has three subsystems with dimensions __*rd = [d1, d2, d3]*__.\n",
    "\n",
    "We want to keep the first subsystem __*(qkeep = [0])*__ and trace out the others __*(qtrace = [1, 2])*__.\n",
    "\n",
    "- Initial Setup:\n",
    "The full dimension list __*rd + rd*__ will be __*[d1, d2, d3, d1, d2, d3]*__.\n",
    "\n",
    "- Transpose Order:\n",
    "__*qtrace + [nd + q for q in qtrace]*__ becomes [1, 2, 4, 5].\n",
    "\n",
    "__*qkeep + [nd + q for q in qkeep]*__ becomes [0, 3].\n",
    "\n",
    "The transpose order is __*[1, 2, 4, 5, 0, 3]*__.\n",
    "\n",
    "- Reshape After Transpose:\n",
    "The new shape after transposing will be __*[d2, d3, d2, d3, d1, d1]*__.\n",
    "\n",
    "This is then reshaped to __*[d2*d3, d2*d3, d1, d1]*__.\n",
    "\n",
    "- Partial Trace:\n",
    "\n",
    "__*np.trace(..., axis1=0, axis2=1)*__ performs the trace over the first two dimensions __*[d2*d3, d2*d3]*__, reducing the array to __*[d1, d1]*__, the density matrix of the subsystem we kept.\n",
    "\n",
    "Finally, the function returns this reduced density matrix as a QuTiP quantum object with the appropriate dimensions for the kept subsystems."
   ]
  },
  {
   "cell_type": "code",
   "execution_count": 19,
   "metadata": {},
   "outputs": [],
   "source": [
    "rho_array = np.array([[0, 0, 0, 0, 1, 0, 1, 0], \n",
    "                      [0, 1, 0, 0, 0, 0, 0, 0], \n",
    "                      [0, 0, 0, 0, 0, 1, 0, 1], \n",
    "                      [0, 0, 0, 0, 0, 0, 0, 0],\n",
    "                      [0, 0, 0, 0, 0, 0, 0, 0],\n",
    "                      [0, 0, 0, 0, 0, 1, 0, 0],\n",
    "                      [0, 0, 0, 0, 0, 0, 0, 0],\n",
    "                      [0, 0, 0, 0, 0, 0, 0, 1],])\n",
    "rho_array = qt.Qobj(rho_array)\n",
    "rho_array.dims = [[2, 2, 2], [2, 2, 2]]"
   ]
  },
  {
   "cell_type": "code",
   "execution_count": 20,
   "metadata": {},
   "outputs": [
    {
     "name": "stdout",
     "output_type": "stream",
     "text": [
      "rd : [2, 2, 2]\n",
      "nd : 3\n",
      "qkeep : [0, 1]\n",
      "dkeep : [2, 2]\n",
      "qtrace : [2]\n",
      "dtrace : [2]\n"
     ]
    },
    {
     "data": {
      "text/latex": [
       "Quantum object: dims=[[2, 2], [2, 2]], shape=(4, 4), type='oper', dtype=Dense, isherm=False$$\\left(\\begin{array}{cc}1 & 0 & 1 & 1\\\\0 & 0 & 0 & 0\\\\0 & 0 & 1 & 0\\\\0 & 0 & 0 & 1\\end{array}\\right)$$"
      ],
      "text/plain": [
       "Quantum object: dims=[[2, 2], [2, 2]], shape=(4, 4), type='oper', dtype=Dense, isherm=False\n",
       "Qobj data =\n",
       "[[1. 0. 1. 1.]\n",
       " [0. 0. 0. 0.]\n",
       " [0. 0. 1. 0.]\n",
       " [0. 0. 0. 1.]]"
      ]
     },
     "execution_count": 20,
     "metadata": {},
     "output_type": "execute_result"
    }
   ],
   "source": [
    "rho_array_ptrace_test = ptracealt(rho_array, [0,1])\n",
    "rho_array_ptrace_test"
   ]
  },
  {
   "cell_type": "markdown",
   "metadata": {},
   "source": [
    "TESTING THE NEW PTRACEALT WITH LISTS OF THE SUBSYSTEM TO STAY, WHILE THE OTHER SUBSYSTEM TO BE TRACED OUT"
   ]
  },
  {
   "cell_type": "code",
   "execution_count": 64,
   "metadata": {},
   "outputs": [
    {
     "name": "stdout",
     "output_type": "stream",
     "text": [
      "256\n",
      "EigResult(eigenvalues=array([ 1.00000000e+00+0.00000000e+00j,  1.43099280e-17+0.00000000e+00j,\n",
      "        1.32687923e-17+0.00000000e+00j, -1.13351990e-17+0.00000000e+00j,\n",
      "       -1.12943466e-17+0.00000000e+00j, -1.08316148e-17+0.00000000e+00j,\n",
      "        9.96904666e-18+0.00000000e+00j,  9.19901043e-18+0.00000000e+00j,\n",
      "       -9.87276441e-18+0.00000000e+00j, -8.89639233e-18+0.00000000e+00j,\n",
      "       -8.66403017e-18+0.00000000e+00j,  7.95330637e-18+1.69946059e-18j,\n",
      "        7.95330637e-18-1.69946059e-18j,  7.92829134e-18+0.00000000e+00j,\n",
      "       -7.10364956e-18+0.00000000e+00j,  7.03158048e-18+0.00000000e+00j,\n",
      "       -7.21461558e-18+0.00000000e+00j, -6.49440589e-18+0.00000000e+00j,\n",
      "        6.22743673e-18+0.00000000e+00j, -6.22877428e-18+0.00000000e+00j,\n",
      "        5.68509163e-18+0.00000000e+00j,  5.87989506e-18+0.00000000e+00j,\n",
      "       -5.60942851e-18+0.00000000e+00j, -5.09606466e-18+0.00000000e+00j,\n",
      "       -4.93487311e-18+0.00000000e+00j,  5.24560285e-18+0.00000000e+00j,\n",
      "        4.99790247e-18+0.00000000e+00j, -4.35609601e-18+4.41074909e-19j,\n",
      "       -4.35609601e-18-4.41074909e-19j,  4.60309830e-18+0.00000000e+00j,\n",
      "       -3.86514362e-18+0.00000000e+00j,  3.87212815e-18+4.83403418e-19j,\n",
      "        3.87212815e-18-4.83403418e-19j,  4.10345982e-18+0.00000000e+00j,\n",
      "       -3.66847802e-18+8.10346966e-20j, -3.66847802e-18-8.10346966e-20j,\n",
      "        3.46313731e-18+0.00000000e+00j, -3.07378936e-18+0.00000000e+00j,\n",
      "       -2.78545763e-18+6.03251735e-19j, -2.78545763e-18-6.03251735e-19j,\n",
      "        3.13750760e-18+0.00000000e+00j,  2.97243735e-18+0.00000000e+00j,\n",
      "        2.76935634e-18+0.00000000e+00j, -2.82049737e-18+0.00000000e+00j,\n",
      "       -2.75446750e-18+0.00000000e+00j, -2.51203952e-18+0.00000000e+00j,\n",
      "       -2.43675686e-18+0.00000000e+00j,  2.51013695e-18+0.00000000e+00j,\n",
      "        3.69568505e-20+1.76084845e-18j,  3.69568505e-20-1.76084845e-18j,\n",
      "        2.32662235e-18+0.00000000e+00j,  2.18433528e-18+0.00000000e+00j,\n",
      "        2.08068875e-18+0.00000000e+00j, -2.02500489e-18+0.00000000e+00j,\n",
      "        2.03332222e-18+0.00000000e+00j,  1.89584044e-18+0.00000000e+00j,\n",
      "       -1.88028532e-18+0.00000000e+00j, -1.74652429e-18+0.00000000e+00j,\n",
      "       -1.53120283e-18+0.00000000e+00j,  1.72058632e-18+0.00000000e+00j,\n",
      "        1.47202842e-18+4.68971243e-20j,  1.47202842e-18-4.68971243e-20j,\n",
      "        1.21855230e-18+0.00000000e+00j, -1.30152818e-18+4.34316569e-20j,\n",
      "       -1.30152818e-18-4.34316569e-20j,  1.21767016e-18+5.24360226e-20j,\n",
      "        1.21767016e-18-5.24360226e-20j,  9.62349399e-19+0.00000000e+00j,\n",
      "        1.00992412e-18+0.00000000e+00j, -1.01431084e-18+5.65338826e-20j,\n",
      "       -1.01431084e-18-5.65338826e-20j, -1.01268783e-18+0.00000000e+00j,\n",
      "       -9.80089031e-19+0.00000000e+00j, -8.57954346e-19+0.00000000e+00j,\n",
      "        8.19879263e-19+0.00000000e+00j, -8.18701803e-19+0.00000000e+00j,\n",
      "        7.27623230e-19+0.00000000e+00j,  6.56946843e-19+0.00000000e+00j,\n",
      "       -6.59863747e-19+0.00000000e+00j, -6.36152617e-19+0.00000000e+00j,\n",
      "       -6.20101174e-19+0.00000000e+00j, -5.11285007e-19+0.00000000e+00j,\n",
      "        4.82645278e-19+2.86762879e-20j,  4.82645278e-19-2.86762879e-20j,\n",
      "        4.24287728e-19+0.00000000e+00j, -4.06793169e-19+2.57424945e-21j,\n",
      "       -4.06793169e-19-2.57424945e-21j,  3.75259503e-19+0.00000000e+00j,\n",
      "        3.50058333e-19+0.00000000e+00j, -3.38880713e-19+9.38965086e-21j,\n",
      "       -3.38880713e-19-9.38965086e-21j,  2.81412277e-19+0.00000000e+00j,\n",
      "       -2.71927335e-19+0.00000000e+00j, -2.52055849e-19+0.00000000e+00j,\n",
      "        2.20316804e-19+0.00000000e+00j,  1.97190628e-19+0.00000000e+00j,\n",
      "        1.30800002e-19+9.34835532e-20j,  1.30800002e-19-9.34835532e-20j,\n",
      "       -1.89908731e-19+0.00000000e+00j,  1.81401435e-19+0.00000000e+00j,\n",
      "       -1.47141487e-19+0.00000000e+00j,  1.40082170e-19+0.00000000e+00j,\n",
      "       -1.33325606e-19+0.00000000e+00j, -1.03614744e-19+0.00000000e+00j,\n",
      "        1.16504334e-19+0.00000000e+00j,  1.00254345e-19+0.00000000e+00j,\n",
      "       -7.46447475e-20+0.00000000e+00j,  7.48642597e-20+0.00000000e+00j,\n",
      "       -1.25156089e-20+3.98824586e-20j, -1.25156089e-20-3.98824586e-20j,\n",
      "        3.30689626e-20+0.00000000e+00j, -2.80265716e-20+8.06649833e-21j,\n",
      "       -2.80265716e-20-8.06649833e-21j, -2.42922517e-20+0.00000000e+00j,\n",
      "       -8.94883275e-21+1.28750710e-20j, -8.94883275e-21-1.28750710e-20j,\n",
      "        1.06129633e-20+0.00000000e+00j,  1.31441894e-20+4.37172612e-22j,\n",
      "        1.31441894e-20-4.37172612e-22j, -4.79956810e-21+0.00000000e+00j,\n",
      "        4.23617950e-21+1.11811996e-21j,  4.23617950e-21-1.11811996e-21j,\n",
      "       -7.57761873e-22+2.09711495e-21j, -7.57761873e-22-2.09711495e-21j,\n",
      "       -1.42739881e-22+0.00000000e+00j,  1.27141977e-21+0.00000000e+00j,\n",
      "       -3.81629786e-21+0.00000000e+00j,  0.00000000e+00+0.00000000e+00j,\n",
      "        0.00000000e+00+0.00000000e+00j,  0.00000000e+00+0.00000000e+00j,\n",
      "        0.00000000e+00+0.00000000e+00j,  0.00000000e+00+0.00000000e+00j,\n",
      "        0.00000000e+00+0.00000000e+00j,  0.00000000e+00+0.00000000e+00j,\n",
      "        0.00000000e+00+0.00000000e+00j,  0.00000000e+00+0.00000000e+00j,\n",
      "        0.00000000e+00+0.00000000e+00j,  0.00000000e+00+0.00000000e+00j,\n",
      "        0.00000000e+00+0.00000000e+00j,  0.00000000e+00+0.00000000e+00j,\n",
      "        0.00000000e+00+0.00000000e+00j,  0.00000000e+00+0.00000000e+00j,\n",
      "        0.00000000e+00+0.00000000e+00j,  0.00000000e+00+0.00000000e+00j,\n",
      "        0.00000000e+00+0.00000000e+00j,  0.00000000e+00+0.00000000e+00j,\n",
      "        0.00000000e+00+0.00000000e+00j,  0.00000000e+00+0.00000000e+00j,\n",
      "        0.00000000e+00+0.00000000e+00j,  0.00000000e+00+0.00000000e+00j,\n",
      "        0.00000000e+00+0.00000000e+00j,  0.00000000e+00+0.00000000e+00j,\n",
      "        0.00000000e+00+0.00000000e+00j,  0.00000000e+00+0.00000000e+00j,\n",
      "        0.00000000e+00+0.00000000e+00j,  0.00000000e+00+0.00000000e+00j,\n",
      "        0.00000000e+00+0.00000000e+00j,  0.00000000e+00+0.00000000e+00j,\n",
      "        0.00000000e+00+0.00000000e+00j,  0.00000000e+00+0.00000000e+00j,\n",
      "        0.00000000e+00+0.00000000e+00j,  0.00000000e+00+0.00000000e+00j,\n",
      "        0.00000000e+00+0.00000000e+00j,  0.00000000e+00+0.00000000e+00j,\n",
      "        0.00000000e+00+0.00000000e+00j,  0.00000000e+00+0.00000000e+00j,\n",
      "        0.00000000e+00+0.00000000e+00j,  0.00000000e+00+0.00000000e+00j,\n",
      "        0.00000000e+00+0.00000000e+00j,  0.00000000e+00+0.00000000e+00j,\n",
      "        0.00000000e+00+0.00000000e+00j,  0.00000000e+00+0.00000000e+00j,\n",
      "        0.00000000e+00+0.00000000e+00j,  0.00000000e+00+0.00000000e+00j,\n",
      "        0.00000000e+00+0.00000000e+00j,  0.00000000e+00+0.00000000e+00j,\n",
      "        0.00000000e+00+0.00000000e+00j,  0.00000000e+00+0.00000000e+00j,\n",
      "        0.00000000e+00+0.00000000e+00j,  0.00000000e+00+0.00000000e+00j,\n",
      "        0.00000000e+00+0.00000000e+00j,  0.00000000e+00+0.00000000e+00j,\n",
      "        0.00000000e+00+0.00000000e+00j,  0.00000000e+00+0.00000000e+00j,\n",
      "        0.00000000e+00+0.00000000e+00j,  0.00000000e+00+0.00000000e+00j,\n",
      "        0.00000000e+00+0.00000000e+00j,  0.00000000e+00+0.00000000e+00j,\n",
      "        0.00000000e+00+0.00000000e+00j,  0.00000000e+00+0.00000000e+00j,\n",
      "        0.00000000e+00+0.00000000e+00j,  0.00000000e+00+0.00000000e+00j,\n",
      "        0.00000000e+00+0.00000000e+00j,  0.00000000e+00+0.00000000e+00j,\n",
      "        0.00000000e+00+0.00000000e+00j,  0.00000000e+00+0.00000000e+00j,\n",
      "        0.00000000e+00+0.00000000e+00j,  0.00000000e+00+0.00000000e+00j,\n",
      "        0.00000000e+00+0.00000000e+00j,  0.00000000e+00+0.00000000e+00j,\n",
      "        0.00000000e+00+0.00000000e+00j,  0.00000000e+00+0.00000000e+00j,\n",
      "        0.00000000e+00+0.00000000e+00j,  0.00000000e+00+0.00000000e+00j,\n",
      "        0.00000000e+00+0.00000000e+00j,  0.00000000e+00+0.00000000e+00j,\n",
      "        0.00000000e+00+0.00000000e+00j,  0.00000000e+00+0.00000000e+00j,\n",
      "        0.00000000e+00+0.00000000e+00j,  0.00000000e+00+0.00000000e+00j,\n",
      "        0.00000000e+00+0.00000000e+00j,  0.00000000e+00+0.00000000e+00j,\n",
      "        0.00000000e+00+0.00000000e+00j,  0.00000000e+00+0.00000000e+00j,\n",
      "        0.00000000e+00+0.00000000e+00j,  0.00000000e+00+0.00000000e+00j,\n",
      "        0.00000000e+00+0.00000000e+00j,  0.00000000e+00+0.00000000e+00j,\n",
      "        0.00000000e+00+0.00000000e+00j,  0.00000000e+00+0.00000000e+00j,\n",
      "        0.00000000e+00+0.00000000e+00j,  0.00000000e+00+0.00000000e+00j,\n",
      "        0.00000000e+00+0.00000000e+00j,  0.00000000e+00+0.00000000e+00j,\n",
      "        0.00000000e+00+0.00000000e+00j,  0.00000000e+00+0.00000000e+00j,\n",
      "        0.00000000e+00+0.00000000e+00j,  0.00000000e+00+0.00000000e+00j,\n",
      "        0.00000000e+00+0.00000000e+00j,  0.00000000e+00+0.00000000e+00j,\n",
      "        0.00000000e+00+0.00000000e+00j,  0.00000000e+00+0.00000000e+00j,\n",
      "        0.00000000e+00+0.00000000e+00j,  0.00000000e+00+0.00000000e+00j,\n",
      "        0.00000000e+00+0.00000000e+00j,  0.00000000e+00+0.00000000e+00j,\n",
      "        0.00000000e+00+0.00000000e+00j,  0.00000000e+00+0.00000000e+00j,\n",
      "        0.00000000e+00+0.00000000e+00j,  0.00000000e+00+0.00000000e+00j,\n",
      "        0.00000000e+00+0.00000000e+00j,  0.00000000e+00+0.00000000e+00j,\n",
      "        0.00000000e+00+0.00000000e+00j,  0.00000000e+00+0.00000000e+00j,\n",
      "        0.00000000e+00+0.00000000e+00j,  0.00000000e+00+0.00000000e+00j,\n",
      "        0.00000000e+00+0.00000000e+00j,  0.00000000e+00+0.00000000e+00j,\n",
      "        0.00000000e+00+0.00000000e+00j,  0.00000000e+00+0.00000000e+00j,\n",
      "        0.00000000e+00+0.00000000e+00j,  0.00000000e+00+0.00000000e+00j,\n",
      "        0.00000000e+00+0.00000000e+00j,  0.00000000e+00+0.00000000e+00j,\n",
      "        0.00000000e+00+0.00000000e+00j,  0.00000000e+00+0.00000000e+00j]), eigenvectors=array([[ 5.28576229e-02+0.j,  3.46423484e-03+0.j,  1.09363849e-01+0.j,\n",
      "        ...,  0.00000000e+00+0.j,  0.00000000e+00+0.j,\n",
      "         0.00000000e+00+0.j],\n",
      "       [ 5.73064533e-04+0.j, -1.14344458e-03+0.j, -2.05333672e-02+0.j,\n",
      "        ...,  0.00000000e+00+0.j,  0.00000000e+00+0.j,\n",
      "         0.00000000e+00+0.j],\n",
      "       [ 1.79054295e-01+0.j,  3.59697885e-01+0.j,  6.15860095e-02+0.j,\n",
      "        ...,  0.00000000e+00+0.j,  0.00000000e+00+0.j,\n",
      "         0.00000000e+00+0.j],\n",
      "       ...,\n",
      "       [-4.99361638e-02+0.j,  2.80820655e-02+0.j, -4.07313014e-02+0.j,\n",
      "        ...,  0.00000000e+00+0.j,  0.00000000e+00+0.j,\n",
      "         0.00000000e+00+0.j],\n",
      "       [ 0.00000000e+00+0.j,  0.00000000e+00+0.j,  0.00000000e+00+0.j,\n",
      "        ...,  0.00000000e+00+0.j,  0.00000000e+00+0.j,\n",
      "         1.00000000e+00+0.j],\n",
      "       [-1.12980648e-01+0.j,  2.63236879e-02+0.j, -2.82979925e-02+0.j,\n",
      "        ...,  0.00000000e+00+0.j,  0.00000000e+00+0.j,\n",
      "         0.00000000e+00+0.j]]))\n",
      "256\n"
     ]
    }
   ],
   "source": [
    "print(len(test_density_matrix))\n",
    "print(np.linalg.eig(test_density_matrix))\n",
    "print(len(np.linalg.eig(test_density_matrix)[1]))"
   ]
  },
  {
   "cell_type": "code",
   "execution_count": 56,
   "metadata": {},
   "outputs": [
    {
     "name": "stdout",
     "output_type": "stream",
     "text": [
      "rd : [2, 2, 2, 2, 2, 2, 2, 2]\n",
      "nd : 8\n",
      "qkeep : [0, 1, 2, 3, 4, 5, 6]\n",
      "dkeep : [2, 2, 2, 2, 2, 2, 2]\n",
      "qtrace : [7]\n",
      "dtrace : [2]\n",
      "Quantum object: dims=[[2, 2, 2, 2, 2, 2, 2], [2, 2, 2, 2, 2, 2, 2]], shape=(128, 128), type='oper', dtype=Dense, isherm=True\n",
      "Qobj data =\n",
      "[[ 2.79425670e-03  9.46438443e-03  3.73348123e-03 ...  1.78706298e-03\n",
      "  -2.86166444e-05 -6.47452023e-05]\n",
      " [ 9.46438443e-03  3.20604407e-02  1.26524307e-02 ...  6.00708618e-03\n",
      "   0.00000000e+00  0.00000000e+00]\n",
      " [ 3.73348123e-03  1.26524307e-02  5.00072361e-03 ...  2.30484249e-03\n",
      "   1.37024569e-04  3.10018299e-04]\n",
      " ...\n",
      " [ 1.78706298e-03  6.00708618e-03  2.30484249e-03 ...  1.70077349e-03\n",
      "  -1.19767751e-03 -2.70974723e-03]\n",
      " [-2.86166444e-05  0.00000000e+00  1.37024569e-04 ... -1.19767751e-03\n",
      "   2.49362046e-03  5.64182014e-03]\n",
      " [-6.47452023e-05  0.00000000e+00  3.10018299e-04 ... -2.70974723e-03\n",
      "   5.64182014e-03  1.27646268e-02]]\n",
      "(1+0j)\n"
     ]
    }
   ],
   "source": [
    "#test_density_matrix_ptracealt = np.linalg.eig(test_density_matrix)\n",
    "test_density_matrix_ptracealt = qt.Qobj(test_density_matrix)\n",
    "test_density_matrix_ptracealt.dims = [[2, 2, 2, 2, 2, 2, 2, 2], [2, 2, 2, 2, 2, 2, 2, 2]]\n",
    "test_density_matrix_ptracealt = ptracealt(test_density_matrix_ptracealt, [0, 1, 2, 3, 4, 5, 6])\n",
    "print(test_density_matrix_ptracealt)\n",
    "print(np.trace(test_density_matrix_ptracealt.full()))"
   ]
  },
  {
   "cell_type": "markdown",
   "metadata": {},
   "source": [
    "# EE Calculation from Scratch\n",
    "\n",
    "Here's another (correct) way to calculate the EE,\n",
    "\n",
    "First we will make a system where we describe the random variable states from a value of $[0, 1]$\n",
    "\n",
    "$$\n",
    "\\ket{\\psi} = \\begin{pmatrix} 0.38 \\\\ 0.45 \\\\ 0.56 \\\\ \\vdots \\end{pmatrix}\n",
    "$$\n",
    "\n",
    "where the length of the column matrix is $N = 2^{n}$, with $n$ as the number of qubits we want to study and calculate the entanglement entropy.\n",
    "Now that we have a random statevector, we would like to re-write it as a combination of its basis, \n",
    "\n",
    "$$\n",
    "\\ket{\\psi} = \\begin{pmatrix} 0.38 \\\\ 0.45 \\\\ 0.56 \\\\ \\vdots \\end{pmatrix} = 0.38 \\begin{pmatrix} 1 \\\\ 0 \\\\ 0 \\\\ \\vdots \\end{pmatrix} + 0.45 \\begin{pmatrix} 0 \\\\ 1 \\\\ 0 \\\\ \\vdots \\end{pmatrix} + 0.56 \\begin{pmatrix} 0 \\\\ 0 \\\\ 1 \\\\ \\vdots \\end{pmatrix} + \\cdots.\n",
    "$$\n",
    "\n",
    "We would need to normalize the statevector by taking $\\rho = \\sum_i a_i a^*_i\\ket{i}\\bra{i} = 1$.\n",
    "Lets realize this into python,"
   ]
  },
  {
   "cell_type": "code",
   "execution_count": 22,
   "metadata": {},
   "outputs": [],
   "source": [
    "def psi_initial_random_state(nQubits = 8, min_val = 0, max_val = 1):\n",
    "    \"\"\"\n",
    "    Generate a row vector of random zeros and ones, and then each of the components are multiplied by a constant taken from a Gaussian ensemble\n",
    "    for each of the components of the statevector.\n",
    "\n",
    "    Parameters:\n",
    "    nQubits (int): The length of the vector which corresponds to how many qubits.\n",
    "\n",
    "    Returns:\n",
    "    numpy.ndarray: A row vector of random numbers from [0, 1].\n",
    "    \"\"\"\n",
    "    if not isinstance(nQubits, int) or nQubits <= 0:\n",
    "        raise ValueError(\"The number of qubits must be a positive integer.\")\n",
    "    gaussian_ensemble = np.random.uniform(min_val, max_val, size = (nQubits, 1))\n",
    "    #print(f\"The gaussian ensemble for each of the components: \\n\", gaussian_ensemble)\n",
    "    return gaussian_ensemble "
   ]
  },
  {
   "cell_type": "code",
   "execution_count": 23,
   "metadata": {},
   "outputs": [
    {
     "data": {
      "text/plain": [
       "array([[0.26709936],\n",
       "       [0.39991554],\n",
       "       [0.82016734],\n",
       "       [0.52639184]])"
      ]
     },
     "execution_count": 23,
     "metadata": {},
     "output_type": "execute_result"
    }
   ],
   "source": [
    "test_psi_initial_random_state = psi_initial_random_state(4)\n",
    "test_psi_initial_random_state"
   ]
  },
  {
   "cell_type": "markdown",
   "metadata": {},
   "source": [
    "now that we have a random state $\\ket{\\psi}$, we want to normalize the state so that $\\rho = \\sum_{ij} a_i a^*_j \\ket{i}\\bra{j} =1 $."
   ]
  },
  {
   "cell_type": "code",
   "execution_count": 24,
   "metadata": {},
   "outputs": [],
   "source": [
    "def normalize(matrix):\n",
    "    norm = np.linalg.norm(matrix)\n",
    "    matrix = matrix/norm  # normalized matrix\n",
    "    return matrix\n",
    "    return norm_arr"
   ]
  },
  {
   "cell_type": "code",
   "execution_count": 25,
   "metadata": {},
   "outputs": [
    {
     "name": "stdout",
     "output_type": "stream",
     "text": [
      "Here's the normalized random state :\n",
      " [[0.24577689]\n",
      " [0.36799038]\n",
      " [0.75469358]\n",
      " [0.48437011]]\n",
      "and here's the sum of the normalized density matrix :\n",
      " [1.]\n"
     ]
    }
   ],
   "source": [
    "normalized_test_psi_initial_random_state = normalize(test_psi_initial_random_state)\n",
    "print(f\"Here's the normalized random state :\\n\",normalized_test_psi_initial_random_state)\n",
    "Y = normalized_test_psi_initial_random_state*normalized_test_psi_initial_random_state\n",
    "print(f\"and here's the sum of the normalized density matrix :\\n\",sum(Y))"
   ]
  },
  {
   "cell_type": "markdown",
   "metadata": {},
   "source": [
    "Okay, now that we have a normalized statevector, we can start to translate each of the components of the matrix into a binary number which corresponds to the state of the system.\n",
    "\n",
    "For example, for an nQubit column vector, we have the first component symbolized as `psi[0]` with a certain normalized constant of $a_{[0]}$, as in python, the first component have the index of 0. This would represent the following state,\n",
    "$$\n",
    "\\psi[0] \\rightarrow a_{[0]}\\ket{00000\\cdots 00},\n",
    "$$\n",
    "where the length of the ket is nQubits.\n",
    "\n",
    "and for $\\psi_{[1]}$, it would correspond a state of,\n",
    "$$\n",
    "\\psi[1] \\rightarrow a_{[1]}\\ket{00000\\cdots 01},\n",
    "$$\n",
    "and so on. Here it is clear that our system just use the index of the array and translate it into binary that will correspond into the actual quantum state.\n",
    "Before thinking about how to separate the system into 2 sub-system, lets translate it first."
   ]
  },
  {
   "cell_type": "markdown",
   "metadata": {},
   "source": [
    "From Vinay's explanation, the first step I want to do is to determine the size of subsystem A and B as $n_A$ and $n_B$ respectively.\n",
    "\n",
    "So for a system with a total of 4 qubits, I want to start from $n_A = 1$ and $n_B = 3$, where I would need to create a basis with the size of $2^{n_A}$ and $2^{n_B}$.\n"
   ]
  },
  {
   "cell_type": "code",
   "execution_count": 128,
   "metadata": {},
   "outputs": [],
   "source": [
    "n_A = 1\n",
    "n_B = 3"
   ]
  },
  {
   "cell_type": "markdown",
   "metadata": {},
   "source": [
    "Creating the basis"
   ]
  },
  {
   "cell_type": "code",
   "execution_count": 129,
   "metadata": {},
   "outputs": [
    {
     "name": "stdout",
     "output_type": "stream",
     "text": [
      "Basis for subsystem A :\n",
      " [[0.30942363]\n",
      " [0.73618177]]\n",
      "Basis for subsystem B :\n",
      " [[0.27342197]\n",
      " [0.04149395]\n",
      " [0.09536258]\n",
      " [0.40783826]\n",
      " [0.59481355]\n",
      " [0.41369378]\n",
      " [0.42140203]\n",
      " [0.35512608]]\n"
     ]
    }
   ],
   "source": [
    "basis_A = np.random.uniform(0, 1, (2**n_A, 1))\n",
    "print(f\"Basis for subsystem A :\\n\",basis_A)\n",
    "basis_B = np.random.uniform(0, 1, (2**n_B, 1))\n",
    "print(f\"Basis for subsystem B :\\n\",basis_B)"
   ]
  },
  {
   "cell_type": "code",
   "execution_count": 130,
   "metadata": {},
   "outputs": [
    {
     "name": "stdout",
     "output_type": "stream",
     "text": [
      "State of 'Psi' as kronecker product of basis A and B :\n",
      " [[0.08460322]\n",
      " [0.01283921]\n",
      " [0.02950744]\n",
      " [0.1261948 ]\n",
      " [0.18404937]\n",
      " [0.12800663]\n",
      " [0.13039174]\n",
      " [0.1098844 ]\n",
      " [0.20128827]\n",
      " [0.03054709]\n",
      " [0.0702042 ]\n",
      " [0.30024309]\n",
      " [0.43789089]\n",
      " [0.30455382]\n",
      " [0.31022849]\n",
      " [0.26143735]]\n"
     ]
    }
   ],
   "source": [
    "Psi_AB = np.kron(basis_A, basis_B)\n",
    "print(f\"State of 'Psi' as kronecker product of basis A and B :\\n\",\n",
    "      Psi_AB)"
   ]
  },
  {
   "cell_type": "code",
   "execution_count": 131,
   "metadata": {},
   "outputs": [
    {
     "data": {
      "text/plain": [
       "16"
      ]
     },
     "execution_count": 131,
     "metadata": {},
     "output_type": "execute_result"
    }
   ],
   "source": [
    "len(Psi_AB)"
   ]
  },
  {
   "cell_type": "markdown",
   "metadata": {},
   "source": [
    "Normalizing the column vector (State of $\\Psi$)"
   ]
  },
  {
   "cell_type": "code",
   "execution_count": 132,
   "metadata": {},
   "outputs": [
    {
     "name": "stdout",
     "output_type": "stream",
     "text": [
      "The normalized state of Psi :\n",
      " [[0.10191886]\n",
      " [0.01546699]\n",
      " [0.03554669]\n",
      " [0.15202293]\n",
      " [0.22171853]\n",
      " [0.15420559]\n",
      " [0.15707887]\n",
      " [0.13237431]\n",
      " [0.2424857 ]\n",
      " [0.03679912]\n",
      " [0.0845728 ]\n",
      " [0.36169348]\n",
      " [0.52751349]\n",
      " [0.36688648]\n",
      " [0.37372258]\n",
      " [0.31494541]]\n"
     ]
    }
   ],
   "source": [
    "norm = np.linalg.norm(Psi_AB)\n",
    "\n",
    "# Normalize the vector\n",
    "normalized_Psi_AB = Psi_AB / norm\n",
    "print(f\"The normalized state of Psi :\\n\", normalized_Psi_AB)"
   ]
  },
  {
   "cell_type": "code",
   "execution_count": 176,
   "metadata": {},
   "outputs": [],
   "source": [
    "def Psi_indexed(i, j):\n",
    "    if isinstance(i, int) and i > 0 and i <= len(basis_A) and isinstance(j, int) and j > 0 and j <= len(basis_B):\n",
    "        return normalized_Psi_AB[(i-1) * len(basis_B) + (j-1)]\n",
    "    else:\n",
    "        return ValueError(\"Indices are out of bounds or not integers.\")"
   ]
  },
  {
   "cell_type": "code",
   "execution_count": 146,
   "metadata": {},
   "outputs": [
    {
     "data": {
      "text/plain": [
       "array([0.2424857])"
      ]
     },
     "execution_count": 146,
     "metadata": {},
     "output_type": "execute_result"
    }
   ],
   "source": [
    "Psi_indexed(i = 2,j = 1)"
   ]
  },
  {
   "cell_type": "code",
   "execution_count": 150,
   "metadata": {},
   "outputs": [],
   "source": [
    "def Psi_indexed_conjugate(k, l):\n",
    "    if isinstance(k, int) and k > 0 and k <= len(basis_A) and isinstance(l, int) and l > 0 and l <= len(basis_B):\n",
    "        return np.conjugate(normalized_Psi_AB[(k-1) * len(basis_B) + (l-1)])\n",
    "    "
   ]
  },
  {
   "cell_type": "code",
   "execution_count": 151,
   "metadata": {},
   "outputs": [],
   "source": [
    "def Density_Matrix_Psi_AB(i, j, k, l):\n",
    "    # Summing over Psi(i,j) and Psi*(k, j), sum over J from 1 to the len(basis_B).\n",
    "    Density_Matrix_Psi_AB = Psi_indexed(i, j) * Psi_indexed_conjugate(k, l)\n",
    "    return Density_Matrix_Psi_AB"
   ]
  },
  {
   "cell_type": "code",
   "execution_count": 256,
   "metadata": {},
   "outputs": [],
   "source": [
    "def Partial_Trace_Subsystem_B(i, k):\n",
    "    result = 0\n",
    "    for j in range(len(basis_B)):\n",
    "        result += Density_Matrix_Psi_AB(i, (j+1), k, (j+1))\n",
    "    return result[0]\n",
    "        "
   ]
  },
  {
   "cell_type": "code",
   "execution_count": 248,
   "metadata": {},
   "outputs": [
    {
     "data": {
      "text/plain": [
       "range(0, 1)"
      ]
     },
     "execution_count": 248,
     "metadata": {},
     "output_type": "execute_result"
    }
   ],
   "source": [
    "range(len(basis_A) -1)"
   ]
  },
  {
   "cell_type": "code",
   "execution_count": 270,
   "metadata": {},
   "outputs": [
    {
     "data": {
      "text/plain": [
       "0.15013641935753763"
      ]
     },
     "execution_count": 270,
     "metadata": {},
     "output_type": "execute_result"
    }
   ],
   "source": [
    "Partial_Trace_Subsystem_B(1, 1)"
   ]
  },
  {
   "cell_type": "code",
   "execution_count": 275,
   "metadata": {},
   "outputs": [
    {
     "name": "stdout",
     "output_type": "stream",
     "text": [
      "[0.15013642 0.35720509]\n"
     ]
    }
   ],
   "source": [
    "array_test_eigvalue = np.array(((Partial_Trace_Subsystem_B(1, 1), Partial_Trace_Subsystem_B(1, 2))),\n",
    "                               ((Partial_Trace_Subsystem_B(2, 1), Partial_Trace_Subsystem_B(2, 2))))\n",
    "print(array_test_eigvalue)"
   ]
  },
  {
   "cell_type": "code",
   "execution_count": 269,
   "metadata": {},
   "outputs": [],
   "source": [
    "def Partial_Trace_Subsystem_B_array_test():\n",
    "    matrix = np.zeros((len(basis_A), len(basis_A)))\n",
    "    \n",
    "    for i in range(len(basis_A) - 1):\n",
    "        for k in range(len(basis_A) - 1):\n",
    "            matrix[i, k] = Partial_Trace_Subsystem_B((i + 1), (k + 1))\n",
    "    return print(matrix)"
   ]
  },
  {
   "cell_type": "code",
   "execution_count": 264,
   "metadata": {},
   "outputs": [
    {
     "name": "stdout",
     "output_type": "stream",
     "text": [
      "[[0.15013642 0.        ]\n",
      " [0.         0.        ]]\n"
     ]
    }
   ],
   "source": [
    "#print(Partial_Trace_Subsystem_B_array_test())\n",
    "eig_test = Partial_Trace_Subsystem_B_array_test()"
   ]
  },
  {
   "cell_type": "code",
   "execution_count": 224,
   "metadata": {},
   "outputs": [
    {
     "name": "stdout",
     "output_type": "stream",
     "text": [
      "[[[0.15013642]\n",
      "  [0.35720509]]\n",
      "\n",
      " [[0.35720509]\n",
      "  [0.84986358]]]\n",
      "[[0.15013642]\n",
      " [0.35720509]]\n"
     ]
    }
   ],
   "source": [
    "matrix = np.array([[Partial_Trace_Subsystem_B(i+1, j+1) for j in range(len(basis_A))] for i in range(len(basis_A))])\n",
    "print(matrix)\n",
    "print(matrix[0])"
   ]
  },
  {
   "cell_type": "code",
   "execution_count": 263,
   "metadata": {},
   "outputs": [
    {
     "ename": "LinAlgError",
     "evalue": "0-dimensional array given. Array must be at least two-dimensional",
     "output_type": "error",
     "traceback": [
      "\u001b[1;31m---------------------------------------------------------------------------\u001b[0m",
      "\u001b[1;31mLinAlgError\u001b[0m                               Traceback (most recent call last)",
      "Input \u001b[1;32mIn [263]\u001b[0m, in \u001b[0;36m<cell line: 1>\u001b[1;34m()\u001b[0m\n\u001b[1;32m----> 1\u001b[0m eigenvalues, eigenvectors \u001b[38;5;241m=\u001b[39m \u001b[43mnp\u001b[49m\u001b[38;5;241;43m.\u001b[39;49m\u001b[43mlinalg\u001b[49m\u001b[38;5;241;43m.\u001b[39;49m\u001b[43meig\u001b[49m\u001b[43m(\u001b[49m\u001b[43meig_test\u001b[49m\u001b[43m)\u001b[49m\n\u001b[0;32m      2\u001b[0m \u001b[38;5;28mprint\u001b[39m(\u001b[38;5;124m\"\u001b[39m\u001b[38;5;124mEigenvalues of the partial trace matrix:\u001b[39m\u001b[38;5;124m\"\u001b[39m)\n\u001b[0;32m      3\u001b[0m \u001b[38;5;28mprint\u001b[39m(eigenvalues)\n",
      "File \u001b[1;32mc:\\Users\\Acer Aspire 5\\AppData\\Local\\Programs\\Python\\Python39\\lib\\site-packages\\numpy\\linalg\\linalg.py:1327\u001b[0m, in \u001b[0;36meig\u001b[1;34m(a)\u001b[0m\n\u001b[0;32m   1195\u001b[0m \u001b[38;5;250m\u001b[39m\u001b[38;5;124;03m\"\"\"\u001b[39;00m\n\u001b[0;32m   1196\u001b[0m \u001b[38;5;124;03mCompute the eigenvalues and right eigenvectors of a square array.\u001b[39;00m\n\u001b[0;32m   1197\u001b[0m \n\u001b[1;32m   (...)\u001b[0m\n\u001b[0;32m   1324\u001b[0m \n\u001b[0;32m   1325\u001b[0m \u001b[38;5;124;03m\"\"\"\u001b[39;00m\n\u001b[0;32m   1326\u001b[0m a, wrap \u001b[38;5;241m=\u001b[39m _makearray(a)\n\u001b[1;32m-> 1327\u001b[0m \u001b[43m_assert_stacked_2d\u001b[49m\u001b[43m(\u001b[49m\u001b[43ma\u001b[49m\u001b[43m)\u001b[49m\n\u001b[0;32m   1328\u001b[0m _assert_stacked_square(a)\n\u001b[0;32m   1329\u001b[0m _assert_finite(a)\n",
      "File \u001b[1;32mc:\\Users\\Acer Aspire 5\\AppData\\Local\\Programs\\Python\\Python39\\lib\\site-packages\\numpy\\linalg\\linalg.py:206\u001b[0m, in \u001b[0;36m_assert_stacked_2d\u001b[1;34m(*arrays)\u001b[0m\n\u001b[0;32m    204\u001b[0m \u001b[38;5;28;01mfor\u001b[39;00m a \u001b[38;5;129;01min\u001b[39;00m arrays:\n\u001b[0;32m    205\u001b[0m     \u001b[38;5;28;01mif\u001b[39;00m a\u001b[38;5;241m.\u001b[39mndim \u001b[38;5;241m<\u001b[39m \u001b[38;5;241m2\u001b[39m:\n\u001b[1;32m--> 206\u001b[0m         \u001b[38;5;28;01mraise\u001b[39;00m LinAlgError(\u001b[38;5;124m'\u001b[39m\u001b[38;5;132;01m%d\u001b[39;00m\u001b[38;5;124m-dimensional array given. Array must be \u001b[39m\u001b[38;5;124m'\u001b[39m\n\u001b[0;32m    207\u001b[0m                 \u001b[38;5;124m'\u001b[39m\u001b[38;5;124mat least two-dimensional\u001b[39m\u001b[38;5;124m'\u001b[39m \u001b[38;5;241m%\u001b[39m a\u001b[38;5;241m.\u001b[39mndim)\n",
      "\u001b[1;31mLinAlgError\u001b[0m: 0-dimensional array given. Array must be at least two-dimensional"
     ]
    }
   ],
   "source": [
    "eigenvalues, eigenvectors = np.linalg.eig(eig_test)\n",
    "print(\"Eigenvalues of the partial trace matrix:\")\n",
    "print(eigenvalues)"
   ]
  },
  {
   "cell_type": "code",
   "execution_count": 235,
   "metadata": {},
   "outputs": [
    {
     "name": "stdout",
     "output_type": "stream",
     "text": [
      "[[1 2]\n",
      " [3 4]]\n",
      "[-0.37228132  5.37228132]\n"
     ]
    }
   ],
   "source": [
    "testmatrix = ((0, 1), (3, 1))\n",
    "#print(testmatrix)\n",
    "\n",
    "row_vector = np.array((1, 2))\n",
    "#print(row_vector)\n",
    "\n",
    "vector = np.array(((1, 2), (3, 4)))\n",
    "print(vector)\n",
    "\n",
    "eigenvalue_test, eigen_bases = np.linalg.eig(vector)\n",
    "print(eigenvalue_test)"
   ]
  },
  {
   "cell_type": "code",
   "execution_count": 3,
   "metadata": {},
   "outputs": [],
   "source": [
    "import numpy as np"
   ]
  },
  {
   "cell_type": "markdown",
   "metadata": {},
   "source": [
    "## EE Calculation version 3 (?)"
   ]
  },
  {
   "cell_type": "code",
   "execution_count": 4,
   "metadata": {},
   "outputs": [],
   "source": [
    "def psi_initial_random_state_gaussian(nQubits = 8, mean = 0, std = 1):\n",
    "    \"\"\"\n",
    "    Generate a row vector of random zeros and ones, and then each of the components are multiplied by a constant taken from a Gaussian ensemble\n",
    "    for each of the components of the statevector.\n",
    "\n",
    "    Parameters:\n",
    "    nQubits (int): The length of the vector which corresponds to how many qubits.\n",
    "\n",
    "    Returns:\n",
    "    numpy.ndarray: A row vector of random numbers from [0, 1].\n",
    "    \"\"\"\n",
    "    if not isinstance(nQubits, int) or nQubits <= 0:\n",
    "        raise ValueError(\"The number of qubits must be a positive integer.\")\n",
    "    gaussian_ensemble = np.random.normal(mean, std, size = (2**nQubits, 1))\n",
    "    #print(f\"The gaussian ensemble for each of the components: \\n\", gaussian_ensemble)\n",
    "    normalized_gaussian_ensemble = gaussian_ensemble / np.linalg.norm(gaussian_ensemble)\n",
    "    return normalized_gaussian_ensemble"
   ]
  },
  {
   "cell_type": "code",
   "execution_count": 5,
   "metadata": {},
   "outputs": [
    {
     "name": "stdout",
     "output_type": "stream",
     "text": [
      "[[-0.15580019]\n",
      " [-0.14095701]\n",
      " [-0.53670439]\n",
      " [ 0.06486537]\n",
      " [-0.29441512]\n",
      " [-0.22848133]\n",
      " [ 0.28330763]\n",
      " [-0.13275483]\n",
      " [-0.20026937]\n",
      " [ 0.04641477]\n",
      " [ 0.07932171]\n",
      " [-0.12728571]\n",
      " [ 0.51720051]\n",
      " [ 0.22172062]\n",
      " [ 0.15771338]\n",
      " [-0.14332346]]\n"
     ]
    }
   ],
   "source": [
    "gaussian_statevector = psi_initial_random_state_gaussian(4, 0, 1)\n",
    "print(gaussian_statevector)"
   ]
  },
  {
   "cell_type": "code",
   "execution_count": 6,
   "metadata": {},
   "outputs": [],
   "source": [
    "def psi_initial_random_state_uniform(nQubits = 8, min_val = 0, max_val = 1):\n",
    "    \"\"\"\n",
    "    Generate a row vector of random zeros and ones, and then each of the components are multiplied by a constant taken from a Gaussian ensemble\n",
    "    for each of the components of the statevector.\n",
    "\n",
    "    Parameters:\n",
    "    nQubits (int): The length of the vector which corresponds to how many qubits.\n",
    "\n",
    "    Returns:\n",
    "    numpy.ndarray: A row vector of random numbers from [0, 1].\n",
    "    \"\"\"\n",
    "    if not isinstance(nQubits, int) or nQubits <= 0:\n",
    "        raise ValueError(\"The number of qubits must be a positive integer.\")\n",
    "    uniform_ensemble = np.random.uniform(min_val, max_val, size = (2**nQubits, 1))\n",
    "    normalized_uniform_ensemble = uniform_ensemble / np.linalg.norm(uniform_ensemble)\n",
    "    #print(f\"The gaussian ensemble for each of the components: \\n\", gaussian_ensemble)\n",
    "    return normalized_uniform_ensemble"
   ]
  },
  {
   "cell_type": "code",
   "execution_count": 7,
   "metadata": {},
   "outputs": [
    {
     "name": "stdout",
     "output_type": "stream",
     "text": [
      "[[0.39776774]\n",
      " [0.14161104]\n",
      " [0.29537197]\n",
      " [0.241988  ]\n",
      " [0.25556374]\n",
      " [0.29273189]\n",
      " [0.37443201]\n",
      " [0.09745124]\n",
      " [0.37727287]\n",
      " [0.37517653]\n",
      " [0.08428839]\n",
      " [0.06028221]\n",
      " [0.16201877]\n",
      " [0.00214536]\n",
      " [0.18051341]\n",
      " [0.1501765 ]]\n"
     ]
    }
   ],
   "source": [
    "uniform_statevector = psi_initial_random_state_uniform(4, 0, 1)\n",
    "print(uniform_statevector)"
   ]
  },
  {
   "cell_type": "code",
   "execution_count": 8,
   "metadata": {},
   "outputs": [
    {
     "data": {
      "text/plain": [
       "4.0"
      ]
     },
     "execution_count": 8,
     "metadata": {},
     "output_type": "execute_result"
    }
   ],
   "source": [
    "np.log2(len(uniform_statevector))"
   ]
  },
  {
   "cell_type": "markdown",
   "metadata": {},
   "source": [
    "Next is that we have the Psi_indexed function that can take specific qubits which will corresponds to the divided subsystems"
   ]
  },
  {
   "cell_type": "code",
   "execution_count": 9,
   "metadata": {},
   "outputs": [],
   "source": [
    "def Psi_indexed_v2(normalized_matrix, n_A, i, j):\n",
    "    n_B = int(np.log2(len(normalized_matrix)) - n_A)\n",
    "    if isinstance(i, int) and i > 0 and i <= 2**n_A and isinstance(j, int) and j > 0 and j <= 2**n_B:\n",
    "        return normalized_matrix[(i - 1) * 2**n_B + (j - 1)]\n",
    "    else:\n",
    "        return ValueError(\"Indices are out of bounds or not integers\")"
   ]
  },
  {
   "cell_type": "code",
   "execution_count": 10,
   "metadata": {},
   "outputs": [],
   "source": [
    "def Psi_indexed_conjugate_v2(normalized_matrix, n_A, k, l):\n",
    "    n_B = int(np.log2(len(normalized_matrix)) - n_A)\n",
    "    if isinstance(k, int) and k > 0 and k <= 2**n_A and isinstance(l, int) and l > 0 and l <= 2**n_B:\n",
    "        return np.conjugate(normalized_matrix[(k - 1) * 2**n_B + (l - 1)])\n",
    "    else:\n",
    "        return ValueError(\"Indices are out of bounds or not integers\")"
   ]
  },
  {
   "cell_type": "code",
   "execution_count": 11,
   "metadata": {},
   "outputs": [
    {
     "name": "stdout",
     "output_type": "stream",
     "text": [
      "[-0.15580019]\n",
      "[0.39776774]\n"
     ]
    }
   ],
   "source": [
    "test_gaussian_psi_indexed = Psi_indexed_v2(gaussian_statevector, 2, 1, 1)\n",
    "print(test_gaussian_psi_indexed)\n",
    "test_uniform_psi_indexed = Psi_indexed_v2(uniform_statevector, 2, 1, 1)\n",
    "print(test_uniform_psi_indexed)"
   ]
  },
  {
   "cell_type": "code",
   "execution_count": 12,
   "metadata": {},
   "outputs": [
    {
     "name": "stdout",
     "output_type": "stream",
     "text": [
      "[-0.15580019]\n",
      "[0.39776774]\n"
     ]
    }
   ],
   "source": [
    "test_gaussian_psi_indexed = Psi_indexed_conjugate_v2(gaussian_statevector, 2, 1, 1)\n",
    "print(test_gaussian_psi_indexed)\n",
    "test_uniform_psi_indexed = Psi_indexed_conjugate_v2(uniform_statevector, 2, 1, 1)\n",
    "print(test_uniform_psi_indexed)"
   ]
  }
 ],
 "metadata": {
  "kernelspec": {
   "display_name": "Python 3",
   "language": "python",
   "name": "python3"
  },
  "language_info": {
   "codemirror_mode": {
    "name": "ipython",
    "version": 3
   },
   "file_extension": ".py",
   "mimetype": "text/x-python",
   "name": "python",
   "nbconvert_exporter": "python",
   "pygments_lexer": "ipython3",
   "version": "3.9.2"
  }
 },
 "nbformat": 4,
 "nbformat_minor": 2
}
